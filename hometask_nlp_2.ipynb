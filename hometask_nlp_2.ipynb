{
 "cells": [
  {
   "cell_type": "markdown",
   "id": "1a238dda",
   "metadata": {},
   "source": [
    "### 1. NLP2_1 https://www.hackerrank.com/challenges/detect-the-email-addresses/problem?isFullScreen=true\n",
    "\n",
    "import re\n",
    "\n",
    "N = int(input())\n",
    "\n",
    "result = []\n",
    "\n",
    "for _ in range(N):\n",
    "\n",
    "    result.extend(re.findall(r'[\\w.]+@[\\w.]+\\.\\w{1,3}',input()))\n",
    "    \n",
    "print(';'.join(sorted(set(result))))\n",
    "\n"
   ]
  },
  {
   "cell_type": "markdown",
   "id": "032541ce",
   "metadata": {},
   "source": [
    "### 2. NLP2_2 https://www.hackerrank.com/challenges/detect-the-domain-name/problem?isFullScreen=true\n",
    "\n",
    "import re\n",
    "\n",
    "pattern = '(http|https)\\\\://(www.|ww2.|)([\\w\\\\-\\\\.]+)(\\\\.[a-zA-Z]+)(/\\\\S*)?'\n",
    "\n",
    "regex = re.compile (pattern)\n",
    "\n",
    "s = set()\n",
    "\n",
    "for i in range (int(input())):\n",
    "\n",
    "    string = input ()\n",
    "    \n",
    "    iterator = regex.finditer(string)\n",
    "    \n",
    "    if iterator:\n",
    "    \n",
    "        for match in iterator:\n",
    "        \n",
    "            s.add(match.group(3)+match.group(4))\n",
    "            \n",
    "print(';'.join(t for t in sorted (s)))"
   ]
  },
  {
   "cell_type": "markdown",
   "id": "5d64555c",
   "metadata": {},
   "source": [
    "### NLP2_3 (дз1): Реализовать stemming, lemmatization & BoW на следующем датасете: https://cloud.mail.ru/public/Z4L3/vB8GcgTtK (Russian Toxic-abuse comments)\n"
   ]
  },
  {
   "cell_type": "code",
   "execution_count": 1,
   "id": "2b3e6db8",
   "metadata": {},
   "outputs": [],
   "source": [
    "import pandas as pd\n",
    "import numpy as np\n",
    "from nltk.stem import WordNetLemmatizer\n",
    "import nltk\n",
    "from nltk.corpus import stopwords\n",
    "from nltk.tokenize import WordPunctTokenizer"
   ]
  },
  {
   "cell_type": "code",
   "execution_count": 2,
   "id": "99d2a4d7",
   "metadata": {},
   "outputs": [
    {
     "data": {
      "text/html": [
       "<div>\n",
       "<style scoped>\n",
       "    .dataframe tbody tr th:only-of-type {\n",
       "        vertical-align: middle;\n",
       "    }\n",
       "\n",
       "    .dataframe tbody tr th {\n",
       "        vertical-align: top;\n",
       "    }\n",
       "\n",
       "    .dataframe thead th {\n",
       "        text-align: right;\n",
       "    }\n",
       "</style>\n",
       "<table border=\"1\" class=\"dataframe\">\n",
       "  <thead>\n",
       "    <tr style=\"text-align: right;\">\n",
       "      <th></th>\n",
       "      <th>comment</th>\n",
       "      <th>toxic</th>\n",
       "    </tr>\n",
       "  </thead>\n",
       "  <tbody>\n",
       "    <tr>\n",
       "      <th>0</th>\n",
       "      <td>Верблюдов-то за что? Дебилы, бл...\\n</td>\n",
       "      <td>1.0</td>\n",
       "    </tr>\n",
       "    <tr>\n",
       "      <th>1</th>\n",
       "      <td>Хохлы, это отдушина затюканого россиянина, мол...</td>\n",
       "      <td>1.0</td>\n",
       "    </tr>\n",
       "    <tr>\n",
       "      <th>2</th>\n",
       "      <td>Собаке - собачья смерть\\n</td>\n",
       "      <td>1.0</td>\n",
       "    </tr>\n",
       "    <tr>\n",
       "      <th>3</th>\n",
       "      <td>Страницу обнови, дебил. Это тоже не оскорблени...</td>\n",
       "      <td>1.0</td>\n",
       "    </tr>\n",
       "    <tr>\n",
       "      <th>4</th>\n",
       "      <td>тебя не убедил 6-страничный пдф в том, что Скр...</td>\n",
       "      <td>1.0</td>\n",
       "    </tr>\n",
       "  </tbody>\n",
       "</table>\n",
       "</div>"
      ],
      "text/plain": [
       "                                             comment  toxic\n",
       "0               Верблюдов-то за что? Дебилы, бл...\\n    1.0\n",
       "1  Хохлы, это отдушина затюканого россиянина, мол...    1.0\n",
       "2                          Собаке - собачья смерть\\n    1.0\n",
       "3  Страницу обнови, дебил. Это тоже не оскорблени...    1.0\n",
       "4  тебя не убедил 6-страничный пдф в том, что Скр...    1.0"
      ]
     },
     "execution_count": 2,
     "metadata": {},
     "output_type": "execute_result"
    }
   ],
   "source": [
    "# загружаем датасет\n",
    "rta = pd.read_csv('Токсичные комментарии .zip')\n",
    "rta.head()"
   ]
  },
  {
   "cell_type": "code",
   "execution_count": 3,
   "id": "13efc942",
   "metadata": {},
   "outputs": [
    {
     "name": "stdout",
     "output_type": "stream",
     "text": [
      "['верблюдов', '-', 'то', 'за', 'что', '?', 'дебилы', ',', 'бл', '...']\n"
     ]
    }
   ],
   "source": [
    "# проверяю токен в датафрейме по строчно\n",
    "tokenizer = WordPunctTokenizer()\n",
    "\n",
    "print(tokenizer.tokenize(rta['comment'][0].lower()))"
   ]
  },
  {
   "cell_type": "code",
   "execution_count": 4,
   "id": "6c7727d2",
   "metadata": {},
   "outputs": [
    {
     "data": {
      "text/html": [
       "<div>\n",
       "<style scoped>\n",
       "    .dataframe tbody tr th:only-of-type {\n",
       "        vertical-align: middle;\n",
       "    }\n",
       "\n",
       "    .dataframe tbody tr th {\n",
       "        vertical-align: top;\n",
       "    }\n",
       "\n",
       "    .dataframe thead th {\n",
       "        text-align: right;\n",
       "    }\n",
       "</style>\n",
       "<table border=\"1\" class=\"dataframe\">\n",
       "  <thead>\n",
       "    <tr style=\"text-align: right;\">\n",
       "      <th></th>\n",
       "      <th>0</th>\n",
       "    </tr>\n",
       "  </thead>\n",
       "  <tbody>\n",
       "    <tr>\n",
       "      <th>,</th>\n",
       "      <td>33932</td>\n",
       "    </tr>\n",
       "    <tr>\n",
       "      <th>.</th>\n",
       "      <td>26863</td>\n",
       "    </tr>\n",
       "    <tr>\n",
       "      <th>и</th>\n",
       "      <td>12684</td>\n",
       "    </tr>\n",
       "    <tr>\n",
       "      <th>в</th>\n",
       "      <td>11974</td>\n",
       "    </tr>\n",
       "    <tr>\n",
       "      <th>не</th>\n",
       "      <td>10301</td>\n",
       "    </tr>\n",
       "    <tr>\n",
       "      <th>-</th>\n",
       "      <td>7906</td>\n",
       "    </tr>\n",
       "    <tr>\n",
       "      <th>на</th>\n",
       "      <td>7003</td>\n",
       "    </tr>\n",
       "    <tr>\n",
       "      <th>что</th>\n",
       "      <td>5986</td>\n",
       "    </tr>\n",
       "    <tr>\n",
       "      <th>а</th>\n",
       "      <td>5008</td>\n",
       "    </tr>\n",
       "    <tr>\n",
       "      <th>?</th>\n",
       "      <td>4395</td>\n",
       "    </tr>\n",
       "  </tbody>\n",
       "</table>\n",
       "</div>"
      ],
      "text/plain": [
       "         0\n",
       ",    33932\n",
       ".    26863\n",
       "и    12684\n",
       "в    11974\n",
       "не   10301\n",
       "-     7906\n",
       "на    7003\n",
       "что   5986\n",
       "а     5008\n",
       "?     4395"
      ]
     },
     "execution_count": 4,
     "metadata": {},
     "output_type": "execute_result"
    }
   ],
   "source": [
    "# лемматизатия\n",
    "lemmatizer = WordNetLemmatizer()\n",
    "\n",
    "dict_words = {}\n",
    "\n",
    "for i_str in rta['comment']:\n",
    "    for i_word in tokenizer.tokenize(i_str.lower()):\n",
    "        word_lemmatizing = lemmatizer.lemmatize(i_word)\n",
    "        if word_lemmatizing in dict_words.keys(): \n",
    "              dict_words[word_lemmatizing] += 1\n",
    "        else:\n",
    "              dict_words[word_lemmatizing] = 1\n",
    "        \n",
    "df = pd.DataFrame.from_dict(dict_words, orient='index')\n",
    "df.sort_values(0, ascending = False).head(10)"
   ]
  },
  {
   "cell_type": "code",
   "execution_count": 5,
   "id": "66f7b84d",
   "metadata": {},
   "outputs": [
    {
     "name": "stdout",
     "output_type": "stream",
     "text": [
      "Количество слов после лемматизации 68602\n"
     ]
    }
   ],
   "source": [
    "print('Количество слов после лемматизации', len(dict_words.values()))"
   ]
  },
  {
   "cell_type": "code",
   "execution_count": 6,
   "id": "ab362725",
   "metadata": {},
   "outputs": [
    {
     "name": "stdout",
     "output_type": "stream",
     "text": [
      "\n",
      "Количество разных слов после стемминга : 68602.000\n"
     ]
    }
   ],
   "source": [
    "# стемминг\n",
    "\n",
    "from nltk.stem.porter import *\n",
    "\n",
    "stemmer = PorterStemmer()\n",
    "stem = {}\n",
    "for i_str in rta['comment']:\n",
    "    for i_word in tokenizer.tokenize(i_str.lower()):\n",
    "        stem_word = stemmer.stem(i_word)\n",
    "        if stem_word in stem.keys(): \n",
    "            stem[stem_word] += 1\n",
    "        else:\n",
    "            stem[stem_word] = 1\n",
    "\n",
    "stem_size = len(stem.values())\n",
    "\n",
    "print(\"\\nКоличество разных слов после стемминга : %.3f\" % stem_size)"
   ]
  },
  {
   "cell_type": "markdown",
   "id": "1920c34d",
   "metadata": {},
   "source": [
    "### Bag Of Words (BOW)"
   ]
  },
  {
   "cell_type": "code",
   "execution_count": 18,
   "id": "f34a8832",
   "metadata": {},
   "outputs": [],
   "source": [
    "def vectorize(tokens):\n",
    "    ''' This function takes list of words in a sentence as input \n",
    "    and returns a vector of size of filtered_vocab.It puts 0 if the \n",
    "    word is not present in tokens and count of token if present.'''\n",
    "    vector=[]\n",
    "    for w in filtered_vocab:\n",
    "        vector.append(tokens.count(w))\n",
    "    return vector\n",
    "def unique(sequence):\n",
    "    '''This functions returns a list in which the order remains \n",
    "    same and no item repeats.Using the set() function does not \n",
    "    preserve the original ordering,so i didnt use that instead'''\n",
    "    seen = set()\n",
    "    return [x for x in sequence if not (x in seen or seen.add(x))]\n",
    "\n",
    "stops = set(stopwords.words('russian'))\n",
    "\n",
    "5#добавим в стоп слова еще слова\n",
    "stops.add('бл')\n",
    "stops.add('дебил')\n",
    "stops.add('скот')\n",
    "stops.add('тупорыл')\n",
    "\n",
    "#list of special characters.You can use regular expressions too\n",
    "special_char=[\",\",\":\",\" \",\";\",\".\",\"?\",\"-\"]\n"
   ]
  },
  {
   "cell_type": "code",
   "execution_count": null,
   "id": "b6d2a983",
   "metadata": {},
   "outputs": [
    {
     "name": "stderr",
     "output_type": "stream",
     "text": [
      "/var/folders/04/p9n_pr6j0n971vm_1r43l7400000gn/T/ipykernel_25692/3762230810.py:12: SettingWithCopyWarning: \n",
      "A value is trying to be set on a copy of a slice from a DataFrame\n",
      "\n",
      "See the caveats in the documentation: https://pandas.pydata.org/pandas-docs/stable/user_guide/indexing.html#returning-a-view-versus-a-copy\n",
      "  rta['filter'][i_num] = filtered_text\n",
      "/var/folders/04/p9n_pr6j0n971vm_1r43l7400000gn/T/ipykernel_25692/3762230810.py:16: SettingWithCopyWarning: \n",
      "A value is trying to be set on a copy of a slice from a DataFrame\n",
      "\n",
      "See the caveats in the documentation: https://pandas.pydata.org/pandas-docs/stable/user_guide/indexing.html#returning-a-view-versus-a-copy\n",
      "  rta['flag'][i_num] = 0\n",
      "/var/folders/04/p9n_pr6j0n971vm_1r43l7400000gn/T/ipykernel_25692/3762230810.py:14: SettingWithCopyWarning: \n",
      "A value is trying to be set on a copy of a slice from a DataFrame\n",
      "\n",
      "See the caveats in the documentation: https://pandas.pydata.org/pandas-docs/stable/user_guide/indexing.html#returning-a-view-versus-a-copy\n",
      "  rta['flag'][i_num] = 1\n"
     ]
    }
   ],
   "source": [
    "#create a vocabulary list\n",
    "vocab = set()\n",
    "rta['filter'] = None\n",
    "rta['flag'] = None\n",
    "\n",
    "for i_num, i_str in enumerate(rta['comment']):\n",
    "    filtered_text = []\n",
    "    for i_word in tokenizer.tokenize(i_str.lower()):\n",
    "        stem_word = stemmer.stem(i_word)\n",
    "        if stem_word not in stops and stem_word not in special_char: \n",
    "            filtered_text.append(stem_word)\n",
    "            rta['filter'][i_num] = filtered_text\n",
    "        if stem_word in stops:\n",
    "            rta['flag'][i_num] = 1\n",
    "        else : \n",
    "            rta['flag'][i_num] = 0\n",
    "        \n",
    "        vocab.add(i_word)\n",
    "\n",
    "#filter the vocabulary list\n",
    "filtered_vocab=[]\n",
    "for w in vocab: \n",
    "    if w not in stops and w not in special_char: \n",
    "        filtered_vocab.append(w)\n",
    "print(filtered_vocab)\n",
    "\n",
    "#convert sentences into vectords\n",
    "# vector1=vectorize(tokens1)\n",
    "# print(vector1)\n",
    "# vector2=vectorize(tokens2)\n",
    "# print(vector2)"
   ]
  },
  {
   "cell_type": "code",
   "execution_count": 8,
   "id": "1d769ef7",
   "metadata": {},
   "outputs": [
    {
     "data": {
      "text/html": [
       "<div>\n",
       "<style scoped>\n",
       "    .dataframe tbody tr th:only-of-type {\n",
       "        vertical-align: middle;\n",
       "    }\n",
       "\n",
       "    .dataframe tbody tr th {\n",
       "        vertical-align: top;\n",
       "    }\n",
       "\n",
       "    .dataframe thead th {\n",
       "        text-align: right;\n",
       "    }\n",
       "</style>\n",
       "<table border=\"1\" class=\"dataframe\">\n",
       "  <thead>\n",
       "    <tr style=\"text-align: right;\">\n",
       "      <th></th>\n",
       "      <th>comment</th>\n",
       "      <th>toxic</th>\n",
       "      <th>filter</th>\n",
       "      <th>flag</th>\n",
       "    </tr>\n",
       "  </thead>\n",
       "  <tbody>\n",
       "    <tr>\n",
       "      <th>0</th>\n",
       "      <td>Верблюдов-то за что? Дебилы, бл...\\n</td>\n",
       "      <td>1.0</td>\n",
       "      <td>[верблюдов, -, дебилы, бл, ...]</td>\n",
       "      <td>0</td>\n",
       "    </tr>\n",
       "    <tr>\n",
       "      <th>1</th>\n",
       "      <td>Хохлы, это отдушина затюканого россиянина, мол...</td>\n",
       "      <td>1.0</td>\n",
       "      <td>[хохлы, это, отдушина, затюканого, россиянина,...</td>\n",
       "      <td>0</td>\n",
       "    </tr>\n",
       "    <tr>\n",
       "      <th>2</th>\n",
       "      <td>Собаке - собачья смерть\\n</td>\n",
       "      <td>1.0</td>\n",
       "      <td>[собаке, -, собачья, смерть]</td>\n",
       "      <td>0</td>\n",
       "    </tr>\n",
       "    <tr>\n",
       "      <th>3</th>\n",
       "      <td>Страницу обнови, дебил. Это тоже не оскорблени...</td>\n",
       "      <td>1.0</td>\n",
       "      <td>[страницу, обнови, дебил, это, оскорбление, до...</td>\n",
       "      <td>0</td>\n",
       "    </tr>\n",
       "    <tr>\n",
       "      <th>4</th>\n",
       "      <td>тебя не убедил 6-страничный пдф в том, что Скр...</td>\n",
       "      <td>1.0</td>\n",
       "      <td>[убедил, 6, -, страничный, пдф, скрипалей, отр...</td>\n",
       "      <td>0</td>\n",
       "    </tr>\n",
       "    <tr>\n",
       "      <th>...</th>\n",
       "      <td>...</td>\n",
       "      <td>...</td>\n",
       "      <td>...</td>\n",
       "      <td>...</td>\n",
       "    </tr>\n",
       "    <tr>\n",
       "      <th>14407</th>\n",
       "      <td>Вонючий совковый скот прибежал и ноет. А вот и...</td>\n",
       "      <td>1.0</td>\n",
       "      <td>[вонючий, совковый, скот, прибежал, ноет, стор...</td>\n",
       "      <td>0</td>\n",
       "    </tr>\n",
       "    <tr>\n",
       "      <th>14408</th>\n",
       "      <td>А кого любить? Гоблина тупорылого что-ли? Или ...</td>\n",
       "      <td>1.0</td>\n",
       "      <td>[кого, любить, гоблина, тупорылого, -, какую, ...</td>\n",
       "      <td>0</td>\n",
       "    </tr>\n",
       "    <tr>\n",
       "      <th>14409</th>\n",
       "      <td>Посмотрел Утомленных солнцем 2. И оказалось, ч...</td>\n",
       "      <td>0.0</td>\n",
       "      <td>[посмотрел, утомленных, солнцем, 2, оказалось,...</td>\n",
       "      <td>0</td>\n",
       "    </tr>\n",
       "    <tr>\n",
       "      <th>14410</th>\n",
       "      <td>КРЫМОТРЕД НАРУШАЕТ ПРАВИЛА РАЗДЕЛА Т.К В НЕМ Н...</td>\n",
       "      <td>1.0</td>\n",
       "      <td>[крымотред, нарушает, правила, раздела, т, нем...</td>\n",
       "      <td>0</td>\n",
       "    </tr>\n",
       "    <tr>\n",
       "      <th>14411</th>\n",
       "      <td>До сих пор пересматриваю его видео. Орамбо кст...</td>\n",
       "      <td>0.0</td>\n",
       "      <td>[сих, пор, пересматриваю, видео, орамбо, кстат...</td>\n",
       "      <td>0</td>\n",
       "    </tr>\n",
       "  </tbody>\n",
       "</table>\n",
       "<p>14412 rows × 4 columns</p>\n",
       "</div>"
      ],
      "text/plain": [
       "                                                 comment  toxic  \\\n",
       "0                   Верблюдов-то за что? Дебилы, бл...\\n    1.0   \n",
       "1      Хохлы, это отдушина затюканого россиянина, мол...    1.0   \n",
       "2                              Собаке - собачья смерть\\n    1.0   \n",
       "3      Страницу обнови, дебил. Это тоже не оскорблени...    1.0   \n",
       "4      тебя не убедил 6-страничный пдф в том, что Скр...    1.0   \n",
       "...                                                  ...    ...   \n",
       "14407  Вонючий совковый скот прибежал и ноет. А вот и...    1.0   \n",
       "14408  А кого любить? Гоблина тупорылого что-ли? Или ...    1.0   \n",
       "14409  Посмотрел Утомленных солнцем 2. И оказалось, ч...    0.0   \n",
       "14410  КРЫМОТРЕД НАРУШАЕТ ПРАВИЛА РАЗДЕЛА Т.К В НЕМ Н...    1.0   \n",
       "14411  До сих пор пересматриваю его видео. Орамбо кст...    0.0   \n",
       "\n",
       "                                                  filter flag  \n",
       "0                        [верблюдов, -, дебилы, бл, ...]    0  \n",
       "1      [хохлы, это, отдушина, затюканого, россиянина,...    0  \n",
       "2                           [собаке, -, собачья, смерть]    0  \n",
       "3      [страницу, обнови, дебил, это, оскорбление, до...    0  \n",
       "4      [убедил, 6, -, страничный, пдф, скрипалей, отр...    0  \n",
       "...                                                  ...  ...  \n",
       "14407  [вонючий, совковый, скот, прибежал, ноет, стор...    0  \n",
       "14408  [кого, любить, гоблина, тупорылого, -, какую, ...    0  \n",
       "14409  [посмотрел, утомленных, солнцем, 2, оказалось,...    0  \n",
       "14410  [крымотред, нарушает, правила, раздела, т, нем...    0  \n",
       "14411  [сих, пор, пересматриваю, видео, орамбо, кстат...    0  \n",
       "\n",
       "[14412 rows x 4 columns]"
      ]
     },
     "execution_count": 8,
     "metadata": {},
     "output_type": "execute_result"
    }
   ],
   "source": [
    "rta"
   ]
  },
  {
   "cell_type": "markdown",
   "id": "11631010",
   "metadata": {},
   "source": [
    "### NLP2_4 Реализовать классификатор токсичных комментариев tfidf на базе датасета https://www.kaggle.com/datasets/blackmoon/russian-language-toxic-comments\n",
    "\n",
    "Дубликат файла: https://cloud.mail.ru/public/Z4L3/vB8GcgTtK"
   ]
  },
  {
   "cell_type": "code",
   "execution_count": 9,
   "id": "a0150fa1",
   "metadata": {},
   "outputs": [
    {
     "name": "stdout",
     "output_type": "stream",
     "text": [
      "Токсичные комментарии 277 шт\n",
      " 159      Удельная проводимость стали 10 000 000 Удельна...\n",
      "227      Правильно разбомбили сербских уродов. Жаль что...\n",
      "258                        У тебя воображение - так себе\\n\n",
      "277      Я его в жопу ебал, его твич, его подписчиков и...\n",
      "311      И СЕЛ НА БУТЫЛКУ РУСАК ПРОСНУВШИСЬ В ЧЕЧЕНСКОМ...\n",
      "                               ...                        \n",
      "14005       кремль по жалобам удалил видио бибиси вы где\\n\n",
      "14068    как говорит треуголодебил - тут все алкаши, то...\n",
      "14085          Ну это типично. Как он вёл? -нормально же\\n\n",
      "14178    в рашке надо лучше организовать работу пристав...\n",
      "14238    ну на часах было 4:30 я дико хотел спать но сп...\n",
      "Name: comment, Length: 277, dtype: object\n"
     ]
    }
   ],
   "source": [
    "tox = rta[rta['flag'] == 1]['comment']\n",
    "print('Токсичные комментарии', len(tox), 'шт\\n', tox)\n"
   ]
  },
  {
   "cell_type": "code",
   "execution_count": 10,
   "id": "9eea3825",
   "metadata": {},
   "outputs": [
    {
     "name": "stdout",
     "output_type": "stream",
     "text": [
      "Хорошие комментарии 14135 шт\n",
      " 0                     Верблюдов-то за что? Дебилы, бл...\\n\n",
      "1        Хохлы, это отдушина затюканого россиянина, мол...\n",
      "2                                Собаке - собачья смерть\\n\n",
      "3        Страницу обнови, дебил. Это тоже не оскорблени...\n",
      "4        тебя не убедил 6-страничный пдф в том, что Скр...\n",
      "                               ...                        \n",
      "14407    Вонючий совковый скот прибежал и ноет. А вот и...\n",
      "14408    А кого любить? Гоблина тупорылого что-ли? Или ...\n",
      "14409    Посмотрел Утомленных солнцем 2. И оказалось, ч...\n",
      "14410    КРЫМОТРЕД НАРУШАЕТ ПРАВИЛА РАЗДЕЛА Т.К В НЕМ Н...\n",
      "14411    До сих пор пересматриваю его видео. Орамбо кст...\n",
      "Name: comment, Length: 14135, dtype: object\n"
     ]
    }
   ],
   "source": [
    "good = rta[rta['flag'] == 0]['comment']\n",
    "print('Хорошие комментарии', len(good), 'шт\\n', good)"
   ]
  },
  {
   "cell_type": "code",
   "execution_count": 17,
   "id": "097051bd",
   "metadata": {},
   "outputs": [],
   "source": []
  }
 ],
 "metadata": {
  "kernelspec": {
   "display_name": "Python 3 (ipykernel)",
   "language": "python",
   "name": "python3"
  },
  "language_info": {
   "codemirror_mode": {
    "name": "ipython",
    "version": 3
   },
   "file_extension": ".py",
   "mimetype": "text/x-python",
   "name": "python",
   "nbconvert_exporter": "python",
   "pygments_lexer": "ipython3",
   "version": "3.9.12"
  }
 },
 "nbformat": 4,
 "nbformat_minor": 5
}
