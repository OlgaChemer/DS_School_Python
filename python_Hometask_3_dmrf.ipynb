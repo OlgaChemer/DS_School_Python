{
 "cells": [
  {
   "cell_type": "code",
   "execution_count": 1,
   "id": "bfd2732e",
   "metadata": {},
   "outputs": [],
   "source": [
    "import requests\n",
    "import pandas as pd\n",
    "import numpy as np\n",
    "from IPython.core.interactiveshell import InteractiveShell\n",
    "InteractiveShell.ast_node_interactivity = \"all\"\n",
    "import matplotlib.pyplot as plt\n",
    "import seaborn as sns"
   ]
  },
  {
   "cell_type": "code",
   "execution_count": 2,
   "id": "01efdae2",
   "metadata": {},
   "outputs": [],
   "source": [
    "offset_ = 1\n",
    "limit_ = 100\n",
    "url_ = f'https://xn--80az8a.xn--d1aqf.xn--p1ai/%D1%81%D0%B5%D1%80%D0%B2%D0%B8%D1%81%D1%8B/api/kn/object?offset={offset_}&limit={limit_}&sortField=devId.devShortCleanNm&sortType=asc&objStatus=0'\n",
    "res = requests.get(url_)\n",
    "obj = res.json()\n",
    "obj_list = obj.get('data').get('list')\n",
    "id_obj = [x.get('objId') for x in obj_list]"
   ]
  },
  {
   "cell_type": "code",
   "execution_count": 3,
   "id": "3e3ade2e",
   "metadata": {},
   "outputs": [],
   "source": [
    "def df_objects(url_, obj_id):\n",
    "    \n",
    "    df = pd.DataFrame()\n",
    "    \n",
    "    for i in obj_id:\n",
    "        url = url_ + '/' + str(i)\n",
    "        res = requests.get(url)\n",
    "        ob = res.json().get('data')\n",
    "        dff = pd.json_normalize(ob)\n",
    "        df = pd.concat([df, dff])\n",
    "\n",
    "    return df"
   ]
  },
  {
   "cell_type": "code",
   "execution_count": 4,
   "id": "bee23474",
   "metadata": {},
   "outputs": [],
   "source": [
    "df = df_objects(f'https://xn--80az8a.xn--d1aqf.xn--p1ai/%D1%81%D0%B5%D1%80%D0%B2%D0%B8%D1%81%D1%8B/api/object', id_obj)\n"
   ]
  },
  {
   "cell_type": "code",
   "execution_count": 5,
   "id": "a18acdce",
   "metadata": {},
   "outputs": [],
   "source": [
    "volum_reg = df.groupby('region')[['objElemLivingCnt']].sum()\n",
    "volum_dat = df.groupby('objReady100PercDt')[['objElemLivingCnt']].sum().reset_index()"
   ]
  },
  {
   "cell_type": "code",
   "execution_count": 6,
   "id": "8c80ce12",
   "metadata": {},
   "outputs": [
    {
     "data": {
      "image/png": "[encoded data removed]",
      "text/plain": [
       "<Figure size 720x360 with 1 Axes>"
      ]
     },
     "metadata": {
      "needs_background": "light"
     },
     "output_type": "display_data"
    },
    {
     "name": "stdout",
     "output_type": "stream",
     "text": [
      "None\n"
     ]
    }
   ],
   "source": [
    "class graf(object):\n",
    "    \"\"\"класс строящий графики\"\"\"\n",
    "    \n",
    "    def __init__(self, data, color, size_w, size_h):\n",
    "        \"\"\"Constructor\"\"\"\n",
    "        self.data = data\n",
    "        self.color = color\n",
    "        self.size_w = size_w\n",
    "        self.size_h = size_h\n",
    "#         self.h_pad = h_pad\n",
    "    \n",
    "    def line(self):\n",
    "        fig, ax = plt.subplots(figsize = (self.size_w, self.size_h))\n",
    "        ax.plot(self.data.objReady100PercDt, self.data.objElemLivingCnt, color=self.color)\n",
    "        ax.set_title(self.data.columns[0])\n",
    "        plt.subplots_adjust(wspace=1)\n",
    "    \n",
    "    def bar(self):\n",
    "        fig, ax = plt.subplots(figsize = (self.size_w, self.size_h))\n",
    "        x_range = list(range(int(self.data.index.min()), int(self.data.index.max()) + 1, 3))\n",
    "        ax.bar(self.data.index, self.data.objElemLivingCnt, color=self.color)\n",
    "        ax.set_title(volum_reg.columns[0])\n",
    "        ax.set_xticks(x_range)\n",
    "#         plt.subplots_adjust(wspace=1)\n",
    "        plt.show()\n",
    " \n",
    " \n",
    "if __name__ == \"__main__\":\n",
    "    reg = graf(volum_reg, \"red\", 10, 5)\n",
    "    print(reg.bar())"
   ]
  },
  {
   "cell_type": "code",
   "execution_count": 7,
   "id": "dc8e40fe",
   "metadata": {},
   "outputs": [
    {
     "data": {
      "image/png": "[encoded data removed]",
      "text/plain": [
       "<Figure size 576x432 with 2 Axes>"
      ]
     },
     "metadata": {
      "needs_background": "light"
     },
     "output_type": "display_data"
    },
    {
     "name": "stdout",
     "output_type": "stream",
     "text": [
      "None\n"
     ]
    }
   ],
   "source": [
    "class duble(graf):\n",
    "    def __init__(self, data, color, size_w, size_h, data2):\n",
    "        super().__init__(data, color, size_w, size_h)\n",
    "        self.data2 = data2\n",
    "        \n",
    "    def togather(self, rows, ncols, h_pad):\n",
    "        self.rows = rows\n",
    "        self.ncols = ncols\n",
    "        self.h_pad = h_pad\n",
    "        fig, ax = plt.subplots(figsize = (self.size_w, self.size_h),nrows=self.rows,ncols=self.ncols)\n",
    "        fig.tight_layout(h_pad=self.h_pad)\n",
    "        x_range = list(range(int(self.data2.index.min()), int(self.data2.index.max()) + 1, 3))\n",
    "        ax1, ax2 = ax.flatten()\n",
    "        ax1.plot(self.data.objReady100PercDt, self.data.objElemLivingCnt, color=self.color)\n",
    "        ax2.bar(self.data2.index, self.data2.objElemLivingCnt)\n",
    "        ax1.set_title(self.data.columns[0])\n",
    "        ax2.set_title(self.data2.columns[0])\n",
    "        ax2.set_xticks(x_range)\n",
    "        plt.subplots_adjust(wspace=1)\n",
    "        plt.show()\n",
    "        \n",
    "if __name__ == \"__main__\":\n",
    "    tog = duble(data=volum_dat, color=\"yellow\", size_w=8, size_h=6, data2=volum_reg)\n",
    "    print(tog.togather(rows=2, ncols=1, h_pad=10))"
   ]
  },
  {
   "cell_type": "code",
   "execution_count": null,
   "id": "35e161e3",
   "metadata": {},
   "outputs": [],
   "source": []
  },
  {
   "cell_type": "code",
   "execution_count": null,
   "id": "6f878e4f",
   "metadata": {},
   "outputs": [],
   "source": []
  }
 ],
 "metadata": {
  "kernelspec": {
   "display_name": "Python 3 (ipykernel)",
   "language": "python",
   "name": "python3"
  },
  "language_info": {
   "codemirror_mode": {
    "name": "ipython",
    "version": 3
   },
   "file_extension": ".py",
   "mimetype": "text/x-python",
   "name": "python",
   "nbconvert_exporter": "python",
   "pygments_lexer": "ipython3",
   "version": "3.9.12"
  }
 },
 "nbformat": 4,
 "nbformat_minor": 5
}
