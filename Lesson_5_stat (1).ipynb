{
 "cells": [
  {
   "cell_type": "code",
   "execution_count": 1,
   "id": "e072cd02",
   "metadata": {},
   "outputs": [],
   "source": [
    "import pandas as pd\n",
    "import numpy as np\n",
    "import matplotlib.pyplot as plt\n",
    "import scipy.stats as sts\n",
    "import math\n",
    "%matplotlib inline"
   ]
  },
  {
   "cell_type": "markdown",
   "id": "02a2fc55",
   "metadata": {},
   "source": [
    "## ЦПТ для различных распределений\n",
    "Возьмите то непрерывное распределение, которое вам больше всего понравится из списка доступных в модуле scipy.stats.\n",
    "\n",
    "### Сгенерируйте примеры из распределения"
   ]
  },
  {
   "cell_type": "code",
   "execution_count": 2,
   "id": "0cc369bc",
   "metadata": {},
   "outputs": [
    {
     "data": {
      "text/plain": [
       "array([ 1.5838472 , -0.24213154, -0.02114941, -0.42253589,  0.69600328,\n",
       "        0.3022836 , -1.23046834,  0.17902407, -0.6755535 , -0.28857536,\n",
       "        1.08606623, -1.34382226,  0.21351989, -1.2299    , -0.63280016,\n",
       "        0.26781866, -0.01707066,  0.45735422, -0.14658464, -2.25822511,\n",
       "        0.90054507,  1.08164921, -2.12478653, -0.40577886,  1.45743416,\n",
       "       -0.29180015, -0.34539223, -1.03221178,  1.64936295,  0.38767802,\n",
       "       -2.09540179,  0.73781481,  2.40381212, -0.4245173 , -0.80781577,\n",
       "        0.21864461,  2.28831707,  0.86795991,  0.93825177, -1.23076551,\n",
       "        0.74628108,  1.54472575,  2.49836165,  0.12285311, -0.05375505,\n",
       "       -1.15282759, -2.26250293, -1.05806383, -1.31124762,  0.34953628,\n",
       "       -0.35471004,  0.14862055,  1.70943414, -1.20112156,  0.28089844,\n",
       "        0.10561657,  0.47760604, -1.07614062,  0.83859872,  0.54673954,\n",
       "       -0.36035753, -0.05202147,  1.73994527,  0.52875477,  0.39780631,\n",
       "       -0.22005585,  1.55992859,  1.69639388,  0.8906553 ,  0.0807591 ,\n",
       "        2.17716125, -1.56376239,  2.13611763, -0.46866276, -1.45617216,\n",
       "        0.72877143, -0.69996967,  1.05990994, -1.14450698,  1.58112782,\n",
       "        0.24751765, -0.37485374,  0.48764058,  0.84563602, -1.51631401,\n",
       "        1.24998952,  1.70805172,  0.68531648,  0.25400323, -0.87462138,\n",
       "       -0.54080425,  0.83468359, -1.06241615, -0.11106756, -0.84610196,\n",
       "        1.20668765, -1.53338158, -1.39248024,  1.27734004,  1.93894673])"
      ]
     },
     "execution_count": 2,
     "metadata": {},
     "output_type": "execute_result"
    }
   ],
   "source": [
    "# ваш код тут\n",
    "# например вот такое распределение https://docs.scipy.org/doc/scipy/reference/generated/scipy.stats.cosine.html#scipy.stats.cosine\n",
    "cosine_rv = sts.cosine()\n",
    "sample = cosine_rv.rvs(100)\n",
    "sample"
   ]
  },
  {
   "cell_type": "code",
   "execution_count": 3,
   "id": "5602b535",
   "metadata": {},
   "outputs": [
    {
     "data": {
      "text/plain": [
       "array([1, 0, 0, 1, 1, 0, 1, 0, 1, 1, 1, 1, 1, 0, 1, 1, 1, 0, 1, 1, 1, 0,\n",
       "       1, 0, 1, 0, 1, 1, 1, 0, 1, 1, 0, 1, 1, 0, 1, 1, 0, 0, 1, 1, 1, 0,\n",
       "       0, 0, 0, 1, 0, 1, 1, 1, 0, 1, 1, 1, 0, 1, 1, 0, 0, 1, 1, 1, 1, 1,\n",
       "       0, 1, 1, 1, 1, 0, 1, 0, 0, 1, 1, 1, 1, 1, 0, 1, 0, 1, 0, 1, 1, 1,\n",
       "       0, 0, 1, 1, 0, 0, 1, 1, 1, 1, 1, 0])"
      ]
     },
     "execution_count": 3,
     "metadata": {},
     "output_type": "execute_result"
    }
   ],
   "source": [
    "bernul = sts.bernoulli(p=.5)\n",
    "sample2 = bernul.rvs(100)\n",
    "sample2"
   ]
  },
  {
   "cell_type": "code",
   "execution_count": 4,
   "id": "ed098fa1",
   "metadata": {},
   "outputs": [
    {
     "name": "stdout",
     "output_type": "stream",
     "text": [
      "Настоящее среднее: 0.500\n",
      "Выборочное среднее: 0.650\n",
      "Выборочная дисперсия: 0.227\n",
      "Выборочное стандартное отклонение: 0.477\n",
      "Стандартное отклонение: 0.500\n"
     ]
    }
   ],
   "source": [
    "print('Настоящее среднее: %.3f' % bernul.mean())\n",
    "print('Выборочное среднее: %.3f' % sample2.mean())\n",
    "print('Выборочная дисперсия: %.3f' % sample2.var())\n",
    "print('Выборочное стандартное отклонение: %.3f' % sample2.std())\n",
    "print('Стандартное отклонение: %.3f' % bernul.std())"
   ]
  },
  {
   "cell_type": "code",
   "execution_count": 5,
   "id": "a5bb16c8",
   "metadata": {},
   "outputs": [
    {
     "data": {
      "text/plain": [
       "array([12, 11,  8,  8,  7,  7, 11,  9,  7, 10, 10, 11, 12, 15, 13,  9, 11,\n",
       "       12,  8,  9, 10, 15,  7, 10, 14, 13, 11, 11, 10,  8,  9,  9, 11, 13,\n",
       "       13,  9, 12,  9, 12, 10, 10, 12, 10, 13,  8,  9, 12, 14, 10, 13,  9,\n",
       "        7, 11, 13, 12, 10, 13, 10, 14, 11, 13,  8,  8, 12, 11, 12, 11, 13,\n",
       "       14,  9, 13, 10,  9,  8, 10, 12,  7, 10,  9, 12, 13, 13,  9, 11, 10,\n",
       "       10, 13,  9, 10, 13, 13, 10,  9, 13, 10,  8, 11, 10, 11,  8])"
      ]
     },
     "execution_count": 5,
     "metadata": {},
     "output_type": "execute_result"
    }
   ],
   "source": [
    "binom = sts.binom(20, 0.55)\n",
    "sample3 = binom.rvs(100)\n",
    "sample3"
   ]
  },
  {
   "cell_type": "code",
   "execution_count": 6,
   "id": "34082877",
   "metadata": {},
   "outputs": [
    {
     "name": "stdout",
     "output_type": "stream",
     "text": [
      "Настоящее среднее: 11.000\n",
      "Выборочное среднее: 10.620\n",
      "Выборочная дисперсия: 3.996\n",
      "Выборочное стандартное отклонение: 1.999\n",
      "Стандартное отклонение: 2.225\n"
     ]
    }
   ],
   "source": [
    "print('Настоящее среднее: %.3f' % binom.mean())\n",
    "print('Выборочное среднее: %.3f' % sample3.mean())\n",
    "print('Выборочная дисперсия: %.3f' % sample3.var())\n",
    "print('Выборочное стандартное отклонение: %.3f' % sample3.std())\n",
    "print('Стандартное отклонение: %.3f' % binom.std())"
   ]
  },
  {
   "cell_type": "markdown",
   "id": "612e9450",
   "metadata": {},
   "source": [
    "### Постройте гистограмму выборки и теоретическую плотность распределения"
   ]
  },
  {
   "cell_type": "code",
   "execution_count": 7,
   "id": "d6fee182",
   "metadata": {},
   "outputs": [
    {
     "data": {
      "text/plain": [
       "<matplotlib.legend.Legend at 0x7faa040dc4f0>"
      ]
     },
     "execution_count": 7,
     "metadata": {},
     "output_type": "execute_result"
    },
    {
     "data": {
      "image/png": "[encoded data removed]",
      "text/plain": [
       "<Figure size 432x288 with 1 Axes>"
      ]
     },
     "metadata": {
      "needs_background": "light"
     },
     "output_type": "display_data"
    }
   ],
   "source": [
    "plt.hist(sample, bins=15, density=True)\n",
    "x = np.linspace(-4,4,100)\n",
    "pdf = cosine_rv.pdf(x)\n",
    "plt.plot(x, pdf, label='теоретическая плотность', alpha=0.5)\n",
    "plt.legend()"
   ]
  },
  {
   "cell_type": "code",
   "execution_count": 8,
   "id": "dc2fb756",
   "metadata": {},
   "outputs": [
    {
     "data": {
      "text/plain": [
       "<matplotlib.legend.Legend at 0x7fa9f0457040>"
      ]
     },
     "execution_count": 8,
     "metadata": {},
     "output_type": "execute_result"
    },
    {
     "data": {
      "image/png": "[encoded data removed]",
      "text/plain": [
       "<Figure size 432x288 with 1 Axes>"
      ]
     },
     "metadata": {
      "needs_background": "light"
     },
     "output_type": "display_data"
    }
   ],
   "source": [
    "# ваш код тут\n",
    "plt.hist(sample2, density=True)\n",
    "x = np.linspace(-1,1,2)\n",
    "pdf = bernul.pmf(x)\n",
    "\n",
    "plt.plot(x, pdf, label='теоретическая плотность', alpha=0.5)\n",
    "plt.legend()"
   ]
  },
  {
   "cell_type": "code",
   "execution_count": 9,
   "id": "1ee75a26",
   "metadata": {},
   "outputs": [
    {
     "data": {
      "text/plain": [
       "<matplotlib.legend.Legend at 0x7faa041afa60>"
      ]
     },
     "execution_count": 9,
     "metadata": {},
     "output_type": "execute_result"
    },
    {
     "data": {
      "image/png": "[encoded data removed]",
      "text/plain": [
       "<Figure size 432x288 with 1 Axes>"
      ]
     },
     "metadata": {
      "needs_background": "light"
     },
     "output_type": "display_data"
    }
   ],
   "source": [
    "plt.hist(sample3, bins=10, density=True)\n",
    "x = np.linspace(-1,20,100)\n",
    "pdf = binom.pmf(x)\n",
    "plt.plot(x, pdf, label='теоретическая плотность', alpha=0.5)\n",
    "plt.legend()"
   ]
  },
  {
   "cell_type": "code",
   "execution_count": 10,
   "id": "010d7e26",
   "metadata": {},
   "outputs": [
    {
     "data": {
      "text/plain": [
       "<matplotlib.legend.Legend at 0x7fa9e0234730>"
      ]
     },
     "execution_count": 10,
     "metadata": {},
     "output_type": "execute_result"
    },
    {
     "data": {
      "image/png": "[encoded data removed]",
      "text/plain": [
       "<Figure size 432x288 with 1 Axes>"
      ]
     },
     "metadata": {
      "needs_background": "light"
     },
     "output_type": "display_data"
    }
   ],
   "source": [
    "norm = sts.norm()\n",
    "sample4 = norm.rvs(100)\n",
    "\n",
    "plt.hist(sample4, density=True)\n",
    "x = np.linspace(-4,4,100)\n",
    "pdf = norm.pdf(x)\n",
    "plt.plot(x, pdf, label='теоретическая плотность', alpha=0.5)\n",
    "plt.legend()"
   ]
  },
  {
   "cell_type": "markdown",
   "id": "3c696c81",
   "metadata": {},
   "source": [
    "### Оценим распределение выборочного среднего для разных объёмов выборок\n",
    "Для этого постройте на одном полотне гистограмму выборочных средних и теоретическое распределение выборочных средних по ЦПТ для разных объёмов выборок.\n",
    "\n",
    "Для теоретического распределение используйте настоящие значения мат ожидания и дисперсии (не приближенные на основе выборки)."
   ]
  },
  {
   "cell_type": "code",
   "execution_count": 11,
   "id": "c0f90c9f",
   "metadata": {},
   "outputs": [
    {
     "name": "stdout",
     "output_type": "stream",
     "text": [
      "0.1244459753475944\n",
      "1.2572878160844672\n"
     ]
    }
   ],
   "source": [
    "sample_mean = sample.mean() # выборочное среднее\n",
    "print(sample_mean)\n",
    "sample_var = sample.var() # выборочная дисперсия\n",
    "print(sample_var)"
   ]
  },
  {
   "cell_type": "code",
   "execution_count": 12,
   "id": "285d456f",
   "metadata": {},
   "outputs": [
    {
     "data": {
      "text/plain": [
       "0.65"
      ]
     },
     "execution_count": 12,
     "metadata": {},
     "output_type": "execute_result"
    }
   ],
   "source": [
    "vs = sample2.mean()\n",
    "vs"
   ]
  },
  {
   "cell_type": "code",
   "execution_count": 13,
   "id": "bdd72b6c",
   "metadata": {},
   "outputs": [
    {
     "data": {
      "image/png": "[encoded data removed]",
      "text/plain": [
       "<Figure size 1152x648 with 1 Axes>"
      ]
     },
     "metadata": {
      "needs_background": "light"
     },
     "output_type": "display_data"
    }
   ],
   "source": [
    "plt.figure(figsize=(16,9))\n",
    "for N in [50, 100, 200]:\n",
    "    means = []\n",
    "    for i in range(100):\n",
    "         means.append(np.mean(norm.rvs(N)))\n",
    "    plt.hist(means, alpha=0.1)\n",
    "plt.legend(['50', '100', '200'])\n",
    "plt.show()"
   ]
  },
  {
   "cell_type": "code",
   "execution_count": 14,
   "id": "7fcfabeb",
   "metadata": {},
   "outputs": [
    {
     "data": {
      "text/plain": [
       "array([2.16833317, 1.28867454, 2.10869007, 1.17231509, 4.12634027,\n",
       "       4.43716003, 1.28888649, 2.00379275, 4.81928813, 4.07908091,\n",
       "       1.4927999 , 1.67181622, 4.03582987, 4.47392996, 3.5225484 ,\n",
       "       4.48026127, 4.08987723, 1.84575912, 4.12342151, 4.07367392])"
      ]
     },
     "execution_count": 14,
     "metadata": {},
     "output_type": "execute_result"
    }
   ],
   "source": [
    "a = 1\n",
    "b = 5\n",
    "\n",
    "uniform_rv = sts.uniform(a, b-a)\n",
    "\n",
    "uniform_rv.rvs(20)\n"
   ]
  },
  {
   "cell_type": "code",
   "execution_count": 15,
   "id": "e2ea0910",
   "metadata": {},
   "outputs": [
    {
     "data": {
      "text/plain": [
       "1.1547005383792515"
      ]
     },
     "execution_count": 15,
     "metadata": {},
     "output_type": "execute_result"
    }
   ],
   "source": [
    "uniform_rv.std()"
   ]
  },
  {
   "cell_type": "code",
   "execution_count": 16,
   "id": "29671881",
   "metadata": {},
   "outputs": [
    {
     "data": {
      "image/png": "[encoded data removed]",
      "text/plain": [
       "<Figure size 1008x576 with 1 Axes>"
      ]
     },
     "metadata": {
      "needs_background": "light"
     },
     "output_type": "display_data"
    }
   ],
   "source": [
    "plt.figure(figsize=(14,8))\n",
    "\n",
    "means = []\n",
    "for k in [50, 100, 150, 200]:\n",
    "    for i in range(10):\n",
    "        means.append(np.mean(uniform_rv.rvs(k)))\n",
    "    plt.hist(means, bins=15, alpha=0.1)\n",
    "    norm = sts.norm(loc=uniform_rv.mean(), scale=uniform_rv.std() / np.sqrt(k))\n",
    "    x = np.linspace(2,4,k*100)\n",
    "    pdf = norm.pdf(x)\n",
    "    plt.plot(x, pdf, label='теоретическая плотность', alpha=0.1)\n",
    "plt.legend(['5', '10', '20', '30'])\n",
    "plt.show()"
   ]
  },
  {
   "cell_type": "markdown",
   "id": "12c75ab4",
   "metadata": {},
   "source": [
    "Как вы считаете, для выбранного распределения апроксимация распределения выборочного среднего работает хорошо или плохо? Ваш ответ: Думаю работает хорошо, с выборочними среднеми достаточно точный результат"
   ]
  },
  {
   "cell_type": "markdown",
   "id": "31999a74",
   "metadata": {},
   "source": [
    "## Доверительный интервал на основе ЦПТ\n",
    "Возьмите данные для оттока телеком компании, и постройте доверительные интервалы для среднего значения total day calls, используя центральную предельную теорему в разбиении по колонке churn (ушел/не ушел).\n",
    "\n",
    "Для оценки дисперсии используйте несмещенную оценку (параметр ddof=1).\n",
    "\n",
    "Сделайте оценку с использованием явной формулы для z интервала, а затем с помощью функций from statsmodels.stats.weightstats import _zconfint_generic. Сравните результаты.\n",
    "\n",
    "Ссылка на данные: https://drive.google.com/file/d/1X_drKqoarnU2Sz2har7uSCsgyhh8Xtz8/view?usp=sharing"
   ]
  },
  {
   "cell_type": "code",
   "execution_count": 17,
   "id": "fe994591",
   "metadata": {},
   "outputs": [
    {
     "data": {
      "text/html": [
       "<div>\n",
       "<style scoped>\n",
       "    .dataframe tbody tr th:only-of-type {\n",
       "        vertical-align: middle;\n",
       "    }\n",
       "\n",
       "    .dataframe tbody tr th {\n",
       "        vertical-align: top;\n",
       "    }\n",
       "\n",
       "    .dataframe thead th {\n",
       "        text-align: right;\n",
       "    }\n",
       "</style>\n",
       "<table border=\"1\" class=\"dataframe\">\n",
       "  <thead>\n",
       "    <tr style=\"text-align: right;\">\n",
       "      <th></th>\n",
       "      <th>state</th>\n",
       "      <th>account length</th>\n",
       "      <th>area code</th>\n",
       "      <th>phone number</th>\n",
       "      <th>international plan</th>\n",
       "      <th>voice mail plan</th>\n",
       "      <th>number vmail messages</th>\n",
       "      <th>total day minutes</th>\n",
       "      <th>total day calls</th>\n",
       "      <th>total day charge</th>\n",
       "      <th>...</th>\n",
       "      <th>total eve calls</th>\n",
       "      <th>total eve charge</th>\n",
       "      <th>total night minutes</th>\n",
       "      <th>total night calls</th>\n",
       "      <th>total night charge</th>\n",
       "      <th>total intl minutes</th>\n",
       "      <th>total intl calls</th>\n",
       "      <th>total intl charge</th>\n",
       "      <th>customer service calls</th>\n",
       "      <th>churn</th>\n",
       "    </tr>\n",
       "  </thead>\n",
       "  <tbody>\n",
       "    <tr>\n",
       "      <th>0</th>\n",
       "      <td>KS</td>\n",
       "      <td>128</td>\n",
       "      <td>415</td>\n",
       "      <td>382-4657</td>\n",
       "      <td>no</td>\n",
       "      <td>yes</td>\n",
       "      <td>25</td>\n",
       "      <td>265.1</td>\n",
       "      <td>110</td>\n",
       "      <td>45.07</td>\n",
       "      <td>...</td>\n",
       "      <td>99</td>\n",
       "      <td>16.78</td>\n",
       "      <td>244.7</td>\n",
       "      <td>91</td>\n",
       "      <td>11.01</td>\n",
       "      <td>10.0</td>\n",
       "      <td>3</td>\n",
       "      <td>2.70</td>\n",
       "      <td>1</td>\n",
       "      <td>False</td>\n",
       "    </tr>\n",
       "    <tr>\n",
       "      <th>1</th>\n",
       "      <td>OH</td>\n",
       "      <td>107</td>\n",
       "      <td>415</td>\n",
       "      <td>371-7191</td>\n",
       "      <td>no</td>\n",
       "      <td>yes</td>\n",
       "      <td>26</td>\n",
       "      <td>161.6</td>\n",
       "      <td>123</td>\n",
       "      <td>27.47</td>\n",
       "      <td>...</td>\n",
       "      <td>103</td>\n",
       "      <td>16.62</td>\n",
       "      <td>254.4</td>\n",
       "      <td>103</td>\n",
       "      <td>11.45</td>\n",
       "      <td>13.7</td>\n",
       "      <td>3</td>\n",
       "      <td>3.70</td>\n",
       "      <td>1</td>\n",
       "      <td>False</td>\n",
       "    </tr>\n",
       "    <tr>\n",
       "      <th>2</th>\n",
       "      <td>NJ</td>\n",
       "      <td>137</td>\n",
       "      <td>415</td>\n",
       "      <td>358-1921</td>\n",
       "      <td>no</td>\n",
       "      <td>no</td>\n",
       "      <td>0</td>\n",
       "      <td>243.4</td>\n",
       "      <td>114</td>\n",
       "      <td>41.38</td>\n",
       "      <td>...</td>\n",
       "      <td>110</td>\n",
       "      <td>10.30</td>\n",
       "      <td>162.6</td>\n",
       "      <td>104</td>\n",
       "      <td>7.32</td>\n",
       "      <td>12.2</td>\n",
       "      <td>5</td>\n",
       "      <td>3.29</td>\n",
       "      <td>0</td>\n",
       "      <td>False</td>\n",
       "    </tr>\n",
       "    <tr>\n",
       "      <th>3</th>\n",
       "      <td>OH</td>\n",
       "      <td>84</td>\n",
       "      <td>408</td>\n",
       "      <td>375-9999</td>\n",
       "      <td>yes</td>\n",
       "      <td>no</td>\n",
       "      <td>0</td>\n",
       "      <td>299.4</td>\n",
       "      <td>71</td>\n",
       "      <td>50.90</td>\n",
       "      <td>...</td>\n",
       "      <td>88</td>\n",
       "      <td>5.26</td>\n",
       "      <td>196.9</td>\n",
       "      <td>89</td>\n",
       "      <td>8.86</td>\n",
       "      <td>6.6</td>\n",
       "      <td>7</td>\n",
       "      <td>1.78</td>\n",
       "      <td>2</td>\n",
       "      <td>False</td>\n",
       "    </tr>\n",
       "    <tr>\n",
       "      <th>4</th>\n",
       "      <td>OK</td>\n",
       "      <td>75</td>\n",
       "      <td>415</td>\n",
       "      <td>330-6626</td>\n",
       "      <td>yes</td>\n",
       "      <td>no</td>\n",
       "      <td>0</td>\n",
       "      <td>166.7</td>\n",
       "      <td>113</td>\n",
       "      <td>28.34</td>\n",
       "      <td>...</td>\n",
       "      <td>122</td>\n",
       "      <td>12.61</td>\n",
       "      <td>186.9</td>\n",
       "      <td>121</td>\n",
       "      <td>8.41</td>\n",
       "      <td>10.1</td>\n",
       "      <td>3</td>\n",
       "      <td>2.73</td>\n",
       "      <td>3</td>\n",
       "      <td>False</td>\n",
       "    </tr>\n",
       "  </tbody>\n",
       "</table>\n",
       "<p>5 rows × 21 columns</p>\n",
       "</div>"
      ],
      "text/plain": [
       "  state  account length  area code phone number international plan  \\\n",
       "0    KS             128        415     382-4657                 no   \n",
       "1    OH             107        415     371-7191                 no   \n",
       "2    NJ             137        415     358-1921                 no   \n",
       "3    OH              84        408     375-9999                yes   \n",
       "4    OK              75        415     330-6626                yes   \n",
       "\n",
       "  voice mail plan  number vmail messages  total day minutes  total day calls  \\\n",
       "0             yes                     25              265.1              110   \n",
       "1             yes                     26              161.6              123   \n",
       "2              no                      0              243.4              114   \n",
       "3              no                      0              299.4               71   \n",
       "4              no                      0              166.7              113   \n",
       "\n",
       "   total day charge  ...  total eve calls  total eve charge  \\\n",
       "0             45.07  ...               99             16.78   \n",
       "1             27.47  ...              103             16.62   \n",
       "2             41.38  ...              110             10.30   \n",
       "3             50.90  ...               88              5.26   \n",
       "4             28.34  ...              122             12.61   \n",
       "\n",
       "   total night minutes  total night calls  total night charge  \\\n",
       "0                244.7                 91               11.01   \n",
       "1                254.4                103               11.45   \n",
       "2                162.6                104                7.32   \n",
       "3                196.9                 89                8.86   \n",
       "4                186.9                121                8.41   \n",
       "\n",
       "   total intl minutes  total intl calls  total intl charge  \\\n",
       "0                10.0                 3               2.70   \n",
       "1                13.7                 3               3.70   \n",
       "2                12.2                 5               3.29   \n",
       "3                 6.6                 7               1.78   \n",
       "4                10.1                 3               2.73   \n",
       "\n",
       "   customer service calls  churn  \n",
       "0                       1  False  \n",
       "1                       1  False  \n",
       "2                       0  False  \n",
       "3                       2  False  \n",
       "4                       3  False  \n",
       "\n",
       "[5 rows x 21 columns]"
      ]
     },
     "execution_count": 17,
     "metadata": {},
     "output_type": "execute_result"
    }
   ],
   "source": [
    "# либо загружаем из альтернативного хранилища\n",
    "url =\"https://raw.githubusercontent.com/piton1/DS/Lesson_5/telecom_churn.csv\"\n",
    "df=pd.read_csv(url)\n",
    "df.head()"
   ]
  },
  {
   "cell_type": "code",
   "execution_count": 18,
   "id": "774a9279",
   "metadata": {},
   "outputs": [],
   "source": [
    "df['churn'] = df['churn'].map({1:'True', 2:'False'})"
   ]
  },
  {
   "cell_type": "code",
   "execution_count": 19,
   "id": "0dfe7e67",
   "metadata": {},
   "outputs": [],
   "source": [
    "x = list(df['total day calls'])"
   ]
  },
  {
   "cell_type": "code",
   "execution_count": 20,
   "id": "df64ab6d",
   "metadata": {},
   "outputs": [
    {
     "data": {
      "text/plain": [
       "array([9.83325829e+01, 1.39539562e+02, 5.06424904e+01, 1.08398679e+02,\n",
       "       1.06907057e+02, 2.51226697e+01, 2.19312494e+01, 9.44588884e+01,\n",
       "       7.52842043e+01, 3.62363811e+01, 1.37179974e+02, 1.37519156e+02,\n",
       "       1.15961303e+02, 2.35183324e+01, 1.08124480e+02, 1.99194943e+01,\n",
       "       1.07985584e+02, 9.51088309e+01, 5.16161612e+01, 1.30372129e+02,\n",
       "       7.43066060e+01, 5.71827750e+01, 8.39669090e+01, 1.02615731e+02,\n",
       "       1.24319718e+01, 7.41813333e+01, 2.70292036e+00, 6.34518054e+01,\n",
       "       1.63783394e+02, 3.38989001e+01, 1.41984977e+02, 1.40490672e+02,\n",
       "       1.50530838e+02, 1.29337040e+02, 2.22249000e+01, 9.67931133e+01,\n",
       "       1.51205167e+02, 7.49246106e+00, 7.35933937e+01, 1.55030751e+02,\n",
       "       2.35880859e+01, 9.14467015e+01, 1.37190318e+02, 3.99065666e+01,\n",
       "       1.15551056e+02, 6.42433367e+01, 1.67688762e+01, 3.59185188e+01,\n",
       "       2.94685927e+01, 1.55178595e+02, 1.36048662e+02, 9.22435497e+01,\n",
       "       1.45052112e+02, 2.90781356e+01, 3.05504208e+01, 1.04712729e+02,\n",
       "       9.47180949e+01, 9.71236969e+01, 1.47933265e+02, 1.02178467e+02,\n",
       "       6.36839822e+01, 1.26145314e+02, 6.59480096e+01, 1.47210353e+02,\n",
       "       5.46058004e+01, 1.18776954e+02, 5.43449153e+01, 4.17557515e+01,\n",
       "       7.47297002e+01, 1.54747855e+02, 1.64670516e+02, 1.47546736e+02,\n",
       "       1.23124625e+02, 3.79626100e+01, 6.95614591e+00, 1.09276700e+02,\n",
       "       7.98462813e+01, 1.58093564e+02, 1.30978638e+02, 1.25240808e+02,\n",
       "       2.68866312e+01, 1.00293461e+01, 1.17324986e+02, 3.13470218e+00,\n",
       "       3.59745718e+01, 1.58199734e+02, 4.44954790e+01, 1.27321407e-01,\n",
       "       1.25790056e+02, 1.00847450e+02, 1.53135454e+02, 1.48678017e+02,\n",
       "       1.63584309e+02, 2.14893554e+01, 9.08238263e+01, 8.00588368e+01,\n",
       "       3.79280070e+01, 1.78488089e+01, 6.68208354e+01, 9.45776552e+01])"
      ]
     },
     "execution_count": 20,
     "metadata": {},
     "output_type": "execute_result"
    }
   ],
   "source": [
    "uniform_rv = sts.uniform(min(x), max(x)-(min(x)))\n",
    "\n",
    "uniform_rv.rvs(int(np.mean(x)))"
   ]
  },
  {
   "cell_type": "code",
   "execution_count": 21,
   "id": "f39af3e3",
   "metadata": {},
   "outputs": [],
   "source": [
    "N = len(df['total day calls'])\n",
    "# сгенерируем много выборочных средних\n",
    "means = []\n",
    "for i in range(100):\n",
    "    means.append(np.mean(uniform_rv.rvs(int(np.mean(x)))))"
   ]
  },
  {
   "cell_type": "code",
   "execution_count": 22,
   "id": "6af2c433",
   "metadata": {},
   "outputs": [
    {
     "data": {
      "text/plain": [
       "(array([0.00358763, 0.0215258 , 0.06098977, 0.07175267, 0.0861032 ,\n",
       "        0.0430516 , 0.0430516 , 0.02870107]),\n",
       " array([70.87864438, 73.66599725, 76.45335012, 79.24070299, 82.02805586,\n",
       "        84.81540873, 87.6027616 , 90.39011447, 93.17746733]),\n",
       " <BarContainer object of 8 artists>)"
      ]
     },
     "execution_count": 22,
     "metadata": {},
     "output_type": "execute_result"
    },
    {
     "data": {
      "image/png": "[encoded data removed]",
      "text/plain": [
       "<Figure size 432x288 with 1 Axes>"
      ]
     },
     "metadata": {
      "needs_background": "light"
     },
     "output_type": "display_data"
    }
   ],
   "source": [
    "plt.hist(means, density=True, bins='auto')"
   ]
  },
  {
   "cell_type": "code",
   "execution_count": 24,
   "id": "8f68cd37",
   "metadata": {},
   "outputs": [
    {
     "data": {
      "text/plain": [
       "[]"
      ]
     },
     "execution_count": 24,
     "metadata": {},
     "output_type": "execute_result"
    },
    {
     "data": {
      "image/png": "[encoded data removed]",
      "text/plain": [
       "<Figure size 864x576 with 1 Axes>"
      ]
     },
     "metadata": {
      "needs_background": "light"
     },
     "output_type": "display_data"
    }
   ],
   "source": [
    "plt.figure(figsize=(12,8))\n",
    "norm_rv = sts.norm(loc=uniform_rv.mean(), scale=uniform_rv.std() / np.sqrt(len(means)))\n",
    "plt.hist(means, density=True, bins=40)\n",
    "x = sorted(means)\n",
    "pdf = norm_rv.pdf(x)\n",
    "plt.plot(x, pdf, label='Теоретическая плотность', alpha=0.5)\n",
    "plt.legend()\n",
    "plt.plot()"
   ]
  },
  {
   "cell_type": "code",
   "execution_count": 25,
   "id": "f6862fc1",
   "metadata": {},
   "outputs": [
    {
     "name": "stdout",
     "output_type": "stream",
     "text": [
      "Доверительный интервал для среднего по цпт, если нам известна дисперсия: [81.1758184014085, 84.409980113537] \n",
      "Доверительный интервал для среднего по цпт интервальная оценка: (81.17886921089642, 84.40692930404909) \n",
      "Доверительный интервал для среднего по цпт методом _zconfint_generic: (79.81166799297485, 85.77413052197066) \n"
     ]
    }
   ],
   "source": [
    "import statsmodels.stats.weightstats as ssw\n",
    "\n",
    "data = uniform_rv.rvs(N)\n",
    "print(\"Доверительный интервал для среднего по цпт, если нам известна дисперсия: [{}, {}] \".format(\n",
    "    np.mean(data) - 1.96 * uniform_rv.std() / np.sqrt(N), np.mean(data) + 1.96 * uniform_rv.std() / np.sqrt(N) \n",
    "))\n",
    "print(\"Доверительный интервал для среднего по цпт интервальная оценка: {} \".format(\n",
    "    sts.norm.interval(alpha=0.95, loc=np.mean(data), \n",
    "                      scale=np.std(data, ddof=1)/np.sqrt(N)) # alternative 'two-sided' only\n",
    "))\n",
    "\n",
    "print(\"Доверительный интервал для среднего по цпт методом _zconfint_generic: {} \".format(\n",
    "    ssw._zconfint_generic(np.mean(data),  np.std(data, ddof=1), alpha=0.95, alternative='two-sided')\n",
    "))"
   ]
  },
  {
   "cell_type": "code",
   "execution_count": null,
   "id": "c21c0631",
   "metadata": {},
   "outputs": [],
   "source": []
  },
  {
   "cell_type": "code",
   "execution_count": 26,
   "id": "e9e03fff",
   "metadata": {},
   "outputs": [
    {
     "data": {
      "text/plain": [
       "402.7681409197326"
      ]
     },
     "execution_count": 26,
     "metadata": {},
     "output_type": "execute_result"
    }
   ],
   "source": [
    "def variance(data, ddof=0): \n",
    "    n = len(data) \n",
    "    mean = sum(data) / n \n",
    "    return sum((x - mean) ** 2 for x in data) / (n - ddof)\n",
    "\n",
    "variance(df['total day calls'], ddof=1)\n"
   ]
  },
  {
   "cell_type": "code",
   "execution_count": 27,
   "id": "1c77c1a6",
   "metadata": {},
   "outputs": [
    {
     "data": {
      "text/plain": [
       "(99.75421058258004, 101.11707654613284)"
      ]
     },
     "execution_count": 27,
     "metadata": {},
     "output_type": "execute_result"
    }
   ],
   "source": [
    "from statistics import NormalDist\n",
    "\n",
    "def confidence_interval(data, confidence=0.95):\n",
    "  dist = NormalDist.from_samples(data)\n",
    "  z = NormalDist().inv_cdf((1 + confidence) / 2.)\n",
    "  h = dist.stdev * z / ((len(data) - 1) ** .5)\n",
    "  return dist.mean - h, dist.mean + h\n",
    "\n",
    "confidence_interval(df['total day calls'])"
   ]
  },
  {
   "cell_type": "code",
   "execution_count": null,
   "id": "ff62db83",
   "metadata": {},
   "outputs": [],
   "source": []
  }
 ],
 "metadata": {
  "kernelspec": {
   "display_name": "Python 3 (ipykernel)",
   "language": "python",
   "name": "python3"
  },
  "language_info": {
   "codemirror_mode": {
    "name": "ipython",
    "version": 3
   },
   "file_extension": ".py",
   "mimetype": "text/x-python",
   "name": "python",
   "nbconvert_exporter": "python",
   "pygments_lexer": "ipython3",
   "version": "3.9.12"
  }
 },
 "nbformat": 4,
 "nbformat_minor": 5
}
