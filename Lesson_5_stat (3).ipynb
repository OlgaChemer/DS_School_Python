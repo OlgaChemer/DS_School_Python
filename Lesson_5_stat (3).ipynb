{
 "cells": [
  {
   "cell_type": "code",
   "execution_count": 1,
   "id": "e072cd02",
   "metadata": {},
   "outputs": [],
   "source": [
    "import pandas as pd\n",
    "import numpy as np\n",
    "import matplotlib.pyplot as plt\n",
    "import scipy.stats as sts\n",
    "import math\n",
    "%matplotlib inline"
   ]
  },
  {
   "cell_type": "markdown",
   "id": "02a2fc55",
   "metadata": {},
   "source": [
    "## ЦПТ для различных распределений\n",
    "Возьмите то непрерывное распределение, которое вам больше всего понравится из списка доступных в модуле scipy.stats.\n",
    "\n",
    "### Сгенерируйте примеры из распределения"
   ]
  },
  {
   "cell_type": "code",
   "execution_count": 2,
   "id": "0cc369bc",
   "metadata": {},
   "outputs": [
    {
     "data": {
      "text/plain": [
       "array([ 0.80797462, -0.36983228, -1.23616165,  1.32120455,  1.21585958,\n",
       "        0.09975748,  1.99734062,  0.84294165, -1.21421511,  0.99416256,\n",
       "        1.58674238, -0.84910291, -1.55556621, -0.38353192,  0.66362411,\n",
       "        1.15515922, -0.68884696,  1.40629461, -0.98525987, -0.29595731,\n",
       "        0.29864657,  0.9423464 , -1.71092613,  2.35492244, -0.59908766,\n",
       "       -0.74322382, -0.89341897, -0.65208674,  2.04183933,  0.51784827,\n",
       "        0.06147839,  0.66375751, -0.93559676, -0.80555252,  0.82602703,\n",
       "       -1.16231604, -1.85480046,  0.0633273 ,  1.13333417, -0.51331647,\n",
       "       -1.84733776, -0.02725485,  1.96389168, -1.99261887,  0.16814045,\n",
       "        1.31699691,  2.05849854, -0.31648097,  0.98079952, -1.06022183,\n",
       "       -0.29265015,  0.07918363,  1.05258813, -0.57341718,  2.15632191,\n",
       "        1.39115877,  0.27205283,  0.82744663, -0.604318  , -1.01065892,\n",
       "        0.45932132,  0.37375927, -1.48440655,  1.28714018,  0.26842787,\n",
       "        0.86376854,  0.02139749, -0.29010654,  1.15737841, -2.71739358,\n",
       "       -1.25822862, -0.3165889 , -0.2551361 , -1.27611927,  1.19247098,\n",
       "       -0.9409361 , -0.80650286, -0.387107  , -0.20117631,  1.54327822,\n",
       "       -0.71398828, -0.77054547,  1.81350584, -0.50663352, -1.80826936,\n",
       "        1.44407161, -1.48985132,  0.36901074, -0.77472005,  0.27909385,\n",
       "       -0.05228835, -1.75026448, -0.42247631,  0.11362895,  1.24211649,\n",
       "        0.75950703, -0.58441186, -0.15857842,  0.91529965,  0.3360368 ])"
      ]
     },
     "execution_count": 2,
     "metadata": {},
     "output_type": "execute_result"
    }
   ],
   "source": [
    "# ваш код тут\n",
    "# например вот такое распределение https://docs.scipy.org/doc/scipy/reference/generated/scipy.stats.cosine.html#scipy.stats.cosine\n",
    "cosine_rv = sts.cosine()\n",
    "sample = cosine_rv.rvs(100)\n",
    "sample"
   ]
  },
  {
   "cell_type": "code",
   "execution_count": 3,
   "id": "5602b535",
   "metadata": {},
   "outputs": [
    {
     "data": {
      "text/plain": [
       "array([0, 1, 0, 0, 1, 0, 0, 0, 0, 1, 0, 0, 1, 1, 1, 1, 0, 0, 1, 1, 1, 1,\n",
       "       0, 0, 1, 0, 1, 0, 0, 0, 0, 0, 0, 1, 0, 1, 1, 1, 0, 1, 0, 0, 0, 1,\n",
       "       0, 0, 0, 1, 0, 0, 1, 0, 0, 0, 0, 0, 1, 0, 0, 0, 0, 1, 1, 0, 0, 1,\n",
       "       1, 0, 0, 1, 0, 1, 1, 0, 1, 0, 1, 1, 0, 1, 1, 1, 0, 1, 0, 0, 1, 0,\n",
       "       0, 1, 1, 1, 1, 1, 0, 0, 0, 1, 0, 1])"
      ]
     },
     "execution_count": 3,
     "metadata": {},
     "output_type": "execute_result"
    }
   ],
   "source": [
    "bernul = sts.bernoulli(p=.5)\n",
    "sample2 = bernul.rvs(100)\n",
    "sample2"
   ]
  },
  {
   "cell_type": "code",
   "execution_count": 4,
   "id": "ed098fa1",
   "metadata": {},
   "outputs": [
    {
     "name": "stdout",
     "output_type": "stream",
     "text": [
      "Настоящее среднее: 0.500\n",
      "Выборочное среднее: 0.440\n",
      "Выборочная дисперсия: 0.246\n",
      "Выборочное стандартное отклонение: 0.496\n",
      "Стандартное отклонение: 0.500\n"
     ]
    }
   ],
   "source": [
    "print('Настоящее среднее: %.3f' % bernul.mean())\n",
    "print('Выборочное среднее: %.3f' % sample2.mean())\n",
    "print('Выборочная дисперсия: %.3f' % sample2.var())\n",
    "print('Выборочное стандартное отклонение: %.3f' % sample2.std())\n",
    "print('Стандартное отклонение: %.3f' % bernul.std())"
   ]
  },
  {
   "cell_type": "code",
   "execution_count": 5,
   "id": "a5bb16c8",
   "metadata": {},
   "outputs": [
    {
     "data": {
      "text/plain": [
       "array([ 8, 12, 11, 10,  8, 11, 11,  9,  8, 11, 10, 10, 11, 10, 11, 12,  7,\n",
       "       14, 13, 11, 12, 12, 13, 15,  8, 10, 13, 10,  8,  8, 13,  9,  8, 10,\n",
       "       12,  9, 10,  9, 11, 13,  9, 11, 10, 12,  8, 10, 14,  7, 12, 11, 11,\n",
       "        9, 12, 11, 12, 10, 10,  7, 11,  9, 11, 14, 11, 10, 12, 12, 12, 12,\n",
       "       14, 11, 11, 13, 10, 11, 14, 11, 11, 12,  8, 10, 10, 10,  7,  8, 13,\n",
       "       11, 10, 11,  9, 11, 13, 11, 14, 10, 14, 10,  9,  6, 13, 15])"
      ]
     },
     "execution_count": 5,
     "metadata": {},
     "output_type": "execute_result"
    }
   ],
   "source": [
    "binom = sts.binom(20, 0.55)\n",
    "sample3 = binom.rvs(100)\n",
    "sample3"
   ]
  },
  {
   "cell_type": "code",
   "execution_count": 6,
   "id": "34082877",
   "metadata": {},
   "outputs": [
    {
     "name": "stdout",
     "output_type": "stream",
     "text": [
      "Настоящее среднее: 11.000\n",
      "Выборочное среднее: 10.720\n",
      "Выборочная дисперсия: 3.722\n",
      "Выборочное стандартное отклонение: 1.929\n",
      "Стандартное отклонение: 2.225\n"
     ]
    }
   ],
   "source": [
    "print('Настоящее среднее: %.3f' % binom.mean())\n",
    "print('Выборочное среднее: %.3f' % sample3.mean())\n",
    "print('Выборочная дисперсия: %.3f' % sample3.var())\n",
    "print('Выборочное стандартное отклонение: %.3f' % sample3.std())\n",
    "print('Стандартное отклонение: %.3f' % binom.std())"
   ]
  },
  {
   "cell_type": "markdown",
   "id": "612e9450",
   "metadata": {},
   "source": [
    "### Постройте гистограмму выборки и теоретическую плотность распределения"
   ]
  },
  {
   "cell_type": "code",
   "execution_count": 7,
   "id": "d6fee182",
   "metadata": {},
   "outputs": [
    {
     "data": {
      "text/plain": [
       "<matplotlib.legend.Legend at 0x7fc71805b9d0>"
      ]
     },
     "execution_count": 7,
     "metadata": {},
     "output_type": "execute_result"
    },
    {
     "data": {
      "image/png": "[encoded data removed]",
      "text/plain": [
       "<Figure size 432x288 with 1 Axes>"
      ]
     },
     "metadata": {
      "needs_background": "light"
     },
     "output_type": "display_data"
    }
   ],
   "source": [
    "plt.hist(sample, bins=15, density=True)\n",
    "x = np.linspace(-4,4,100)\n",
    "pdf = cosine_rv.pdf(x)\n",
    "plt.plot(x, pdf, label='теоретическая плотность', alpha=0.5)\n",
    "plt.legend()"
   ]
  },
  {
   "cell_type": "code",
   "execution_count": 8,
   "id": "dc2fb756",
   "metadata": {},
   "outputs": [
    {
     "data": {
      "text/plain": [
       "<matplotlib.legend.Legend at 0x7fc73adf0130>"
      ]
     },
     "execution_count": 8,
     "metadata": {},
     "output_type": "execute_result"
    },
    {
     "data": {
      "image/png": "[encoded data removed]",
      "text/plain": [
       "<Figure size 432x288 with 1 Axes>"
      ]
     },
     "metadata": {
      "needs_background": "light"
     },
     "output_type": "display_data"
    }
   ],
   "source": [
    "# ваш код тут\n",
    "plt.hist(sample2, density=True)\n",
    "x = np.linspace(-1,1,2)\n",
    "pdf = bernul.pmf(x)\n",
    "\n",
    "plt.plot(x, pdf, label='теоретическая плотность', alpha=0.5)\n",
    "plt.legend()"
   ]
  },
  {
   "cell_type": "code",
   "execution_count": 9,
   "id": "1ee75a26",
   "metadata": {},
   "outputs": [
    {
     "data": {
      "text/plain": [
       "<matplotlib.legend.Legend at 0x7fc7289dc610>"
      ]
     },
     "execution_count": 9,
     "metadata": {},
     "output_type": "execute_result"
    },
    {
     "data": {
      "image/png": "[encoded data removed]",
      "text/plain": [
       "<Figure size 432x288 with 1 Axes>"
      ]
     },
     "metadata": {
      "needs_background": "light"
     },
     "output_type": "display_data"
    }
   ],
   "source": [
    "plt.hist(sample3, bins=10, density=True)\n",
    "x = np.linspace(-1,20,100)\n",
    "pdf = binom.pmf(x)\n",
    "plt.plot(x, pdf, label='теоретическая плотность', alpha=0.5)\n",
    "plt.legend()"
   ]
  },
  {
   "cell_type": "code",
   "execution_count": 10,
   "id": "010d7e26",
   "metadata": {},
   "outputs": [
    {
     "data": {
      "text/plain": [
       "<matplotlib.legend.Legend at 0x7fc73ae380a0>"
      ]
     },
     "execution_count": 10,
     "metadata": {},
     "output_type": "execute_result"
    },
    {
     "data": {
      "image/png": "[encoded data removed]",
      "text/plain": [
       "<Figure size 432x288 with 1 Axes>"
      ]
     },
     "metadata": {
      "needs_background": "light"
     },
     "output_type": "display_data"
    }
   ],
   "source": [
    "norm = sts.norm()\n",
    "sample4 = norm.rvs(100)\n",
    "\n",
    "plt.hist(sample4, density=True)\n",
    "x = np.linspace(-4,4,100)\n",
    "pdf = norm.pdf(x)\n",
    "plt.plot(x, pdf, label='теоретическая плотность', alpha=0.5)\n",
    "plt.legend()"
   ]
  },
  {
   "cell_type": "markdown",
   "id": "3c696c81",
   "metadata": {},
   "source": [
    "### Оценим распределение выборочного среднего для разных объёмов выборок\n",
    "Для этого постройте на одном полотне гистограмму выборочных средних и теоретическое распределение выборочных средних по ЦПТ для разных объёмов выборок.\n",
    "\n",
    "Для теоретического распределение используйте настоящие значения мат ожидания и дисперсии (не приближенные на основе выборки)."
   ]
  },
  {
   "cell_type": "code",
   "execution_count": 11,
   "id": "c0f90c9f",
   "metadata": {},
   "outputs": [
    {
     "name": "stdout",
     "output_type": "stream",
     "text": [
      "0.03561393488368585\n",
      "1.2085753910266184\n"
     ]
    }
   ],
   "source": [
    "sample_mean = sample.mean() # выборочное среднее\n",
    "print(sample_mean)\n",
    "sample_var = sample.var() # выборочная дисперсия\n",
    "print(sample_var)"
   ]
  },
  {
   "cell_type": "code",
   "execution_count": 12,
   "id": "285d456f",
   "metadata": {},
   "outputs": [
    {
     "data": {
      "text/plain": [
       "0.44"
      ]
     },
     "execution_count": 12,
     "metadata": {},
     "output_type": "execute_result"
    }
   ],
   "source": [
    "vs = sample2.mean()\n",
    "vs"
   ]
  },
  {
   "cell_type": "code",
   "execution_count": 13,
   "id": "bdd72b6c",
   "metadata": {},
   "outputs": [
    {
     "data": {
      "image/png": "[encoded data removed]",
      "text/plain": [
       "<Figure size 1152x648 with 1 Axes>"
      ]
     },
     "metadata": {
      "needs_background": "light"
     },
     "output_type": "display_data"
    }
   ],
   "source": [
    "plt.figure(figsize=(16,9))\n",
    "for N in [50, 100, 200]:\n",
    "    means = []\n",
    "    for i in range(100):\n",
    "         means.append(np.mean(norm.rvs(N)))\n",
    "    plt.hist(means, alpha=0.1)\n",
    "plt.legend(['50', '100', '200'])\n",
    "plt.show()"
   ]
  },
  {
   "cell_type": "code",
   "execution_count": 14,
   "id": "7fcfabeb",
   "metadata": {},
   "outputs": [],
   "source": [
    "a = 1\n",
    "b = 5\n",
    "\n",
    "uniform_rv = sts.uniform(a, b-a)\n",
    "\n",
    "# есть сгенерированная последовательность ar\n",
    "ar = uniform_rv.rvs(1000)\n"
   ]
  },
  {
   "cell_type": "code",
   "execution_count": 15,
   "id": "e2ea0910",
   "metadata": {},
   "outputs": [
    {
     "data": {
      "image/png": "[encoded data removed]",
      "text/plain": [
       "<Figure size 1008x576 with 1 Axes>"
      ]
     },
     "metadata": {
      "needs_background": "light"
     },
     "output_type": "display_data"
    }
   ],
   "source": [
    "plt.figure(figsize=(14,8))\n",
    "\n",
    "means = []\n",
    "\n",
    "for i in range(1000):\n",
    "    choice = []\n",
    "#     из нее выбираем 5 значений из uniform_rv.rvs(1000)\n",
    "    choice.append(np.random.choice(ar, 5))\n",
    "#     считаем для этой выборки среднее и запоминаем\n",
    "    means.append(np.mean(choice))\n",
    "# повторяем много раз\n",
    "\n",
    "\n",
    "plt.hist(means, bins=15, alpha=0.1)\n",
    "# norm = sts.norm()\n",
    "norm = sts.norm(loc=np.mean(means), scale=np.std(means) / np.sqrt(len(means)))\n",
    "pdf = norm.pdf(np.sort(ar))\n",
    "plt.plot(np.sort(ar), pdf, label='теоретическая плотность', alpha=0.1)\n",
    "plt.show()\n",
    "\n",
    "# for k in [100, 150, 200, 300]:\n",
    "\n",
    "#     for i in range(1000):\n",
    "# #         choice.append(np.mean(uniform_rv.rvs(1000)))\n",
    "#         choice.append(np.random.choice(ar, 5))\n",
    "#     plt.hist(means, bins=15, alpha=0.1)\n",
    "#     norm = sts.norm(loc=uniform_rv.mean(), scale=uniform_rv.std() / np.sqrt(k))\n",
    "#     x = np.linspace(2,4,k*100)\n",
    "#     pdf = norm.pdf(x)\n",
    "#     plt.plot(x, pdf, label='теоретическая плотность', alpha=0.1)\n",
    "# plt.legend(['100', '150', '200', '300'])\n",
    "# plt.show()"
   ]
  },
  {
   "cell_type": "code",
   "execution_count": 16,
   "id": "29671881",
   "metadata": {},
   "outputs": [],
   "source": [
    "# plt.figure(figsize=(14,8))\n",
    "\n",
    "# means = []\n",
    "# for k in [50, 100, 150, 200]:\n",
    "#     for i in range(10):\n",
    "#         means.append(np.mean(uniform_rv.rvs(k)))\n",
    "#     plt.hist(means, bins=15, alpha=0.1)\n",
    "#     norm = sts.norm(loc=uniform_rv.mean(), scale=uniform_rv.std() / np.sqrt(k))\n",
    "#     x = np.linspace(2,4,k*100)\n",
    "#     pdf = norm.pdf(x)\n",
    "#     plt.plot(x, pdf, label='теоретическая плотность', alpha=0.1)\n",
    "# plt.legend(['50', '100', '150', '200'])\n",
    "# plt.show()"
   ]
  },
  {
   "cell_type": "markdown",
   "id": "12c75ab4",
   "metadata": {},
   "source": [
    "Как вы считаете, для выбранного распределения апроксимация распределения выборочного среднего работает хорошо или плохо? Ваш ответ: Думаю работает хорошо, с выборочними среднеми достаточно точный результат"
   ]
  },
  {
   "cell_type": "markdown",
   "id": "31999a74",
   "metadata": {},
   "source": [
    "## Доверительный интервал на основе ЦПТ\n",
    "Возьмите данные для оттока телеком компании, и постройте доверительные интервалы для среднего значения total day calls, используя центральную предельную теорему в разбиении по колонке churn (ушел/не ушел).\n",
    "\n",
    "Для оценки дисперсии используйте несмещенную оценку (параметр ddof=1).\n",
    "\n",
    "Сделайте оценку с использованием явной формулы для z интервала, а затем с помощью функций from statsmodels.stats.weightstats import _zconfint_generic. Сравните результаты.\n",
    "\n",
    "Ссылка на данные: https://drive.google.com/file/d/1X_drKqoarnU2Sz2har7uSCsgyhh8Xtz8/view?usp=sharing"
   ]
  },
  {
   "cell_type": "code",
   "execution_count": 17,
   "id": "fe994591",
   "metadata": {},
   "outputs": [
    {
     "data": {
      "text/html": [
       "<div>\n",
       "<style scoped>\n",
       "    .dataframe tbody tr th:only-of-type {\n",
       "        vertical-align: middle;\n",
       "    }\n",
       "\n",
       "    .dataframe tbody tr th {\n",
       "        vertical-align: top;\n",
       "    }\n",
       "\n",
       "    .dataframe thead th {\n",
       "        text-align: right;\n",
       "    }\n",
       "</style>\n",
       "<table border=\"1\" class=\"dataframe\">\n",
       "  <thead>\n",
       "    <tr style=\"text-align: right;\">\n",
       "      <th></th>\n",
       "      <th>state</th>\n",
       "      <th>account length</th>\n",
       "      <th>area code</th>\n",
       "      <th>phone number</th>\n",
       "      <th>international plan</th>\n",
       "      <th>voice mail plan</th>\n",
       "      <th>number vmail messages</th>\n",
       "      <th>total day minutes</th>\n",
       "      <th>total day calls</th>\n",
       "      <th>total day charge</th>\n",
       "      <th>...</th>\n",
       "      <th>total eve calls</th>\n",
       "      <th>total eve charge</th>\n",
       "      <th>total night minutes</th>\n",
       "      <th>total night calls</th>\n",
       "      <th>total night charge</th>\n",
       "      <th>total intl minutes</th>\n",
       "      <th>total intl calls</th>\n",
       "      <th>total intl charge</th>\n",
       "      <th>customer service calls</th>\n",
       "      <th>churn</th>\n",
       "    </tr>\n",
       "  </thead>\n",
       "  <tbody>\n",
       "    <tr>\n",
       "      <th>0</th>\n",
       "      <td>KS</td>\n",
       "      <td>128</td>\n",
       "      <td>415</td>\n",
       "      <td>382-4657</td>\n",
       "      <td>no</td>\n",
       "      <td>yes</td>\n",
       "      <td>25</td>\n",
       "      <td>265.1</td>\n",
       "      <td>110</td>\n",
       "      <td>45.07</td>\n",
       "      <td>...</td>\n",
       "      <td>99</td>\n",
       "      <td>16.78</td>\n",
       "      <td>244.7</td>\n",
       "      <td>91</td>\n",
       "      <td>11.01</td>\n",
       "      <td>10.0</td>\n",
       "      <td>3</td>\n",
       "      <td>2.70</td>\n",
       "      <td>1</td>\n",
       "      <td>False</td>\n",
       "    </tr>\n",
       "    <tr>\n",
       "      <th>1</th>\n",
       "      <td>OH</td>\n",
       "      <td>107</td>\n",
       "      <td>415</td>\n",
       "      <td>371-7191</td>\n",
       "      <td>no</td>\n",
       "      <td>yes</td>\n",
       "      <td>26</td>\n",
       "      <td>161.6</td>\n",
       "      <td>123</td>\n",
       "      <td>27.47</td>\n",
       "      <td>...</td>\n",
       "      <td>103</td>\n",
       "      <td>16.62</td>\n",
       "      <td>254.4</td>\n",
       "      <td>103</td>\n",
       "      <td>11.45</td>\n",
       "      <td>13.7</td>\n",
       "      <td>3</td>\n",
       "      <td>3.70</td>\n",
       "      <td>1</td>\n",
       "      <td>False</td>\n",
       "    </tr>\n",
       "    <tr>\n",
       "      <th>2</th>\n",
       "      <td>NJ</td>\n",
       "      <td>137</td>\n",
       "      <td>415</td>\n",
       "      <td>358-1921</td>\n",
       "      <td>no</td>\n",
       "      <td>no</td>\n",
       "      <td>0</td>\n",
       "      <td>243.4</td>\n",
       "      <td>114</td>\n",
       "      <td>41.38</td>\n",
       "      <td>...</td>\n",
       "      <td>110</td>\n",
       "      <td>10.30</td>\n",
       "      <td>162.6</td>\n",
       "      <td>104</td>\n",
       "      <td>7.32</td>\n",
       "      <td>12.2</td>\n",
       "      <td>5</td>\n",
       "      <td>3.29</td>\n",
       "      <td>0</td>\n",
       "      <td>False</td>\n",
       "    </tr>\n",
       "    <tr>\n",
       "      <th>3</th>\n",
       "      <td>OH</td>\n",
       "      <td>84</td>\n",
       "      <td>408</td>\n",
       "      <td>375-9999</td>\n",
       "      <td>yes</td>\n",
       "      <td>no</td>\n",
       "      <td>0</td>\n",
       "      <td>299.4</td>\n",
       "      <td>71</td>\n",
       "      <td>50.90</td>\n",
       "      <td>...</td>\n",
       "      <td>88</td>\n",
       "      <td>5.26</td>\n",
       "      <td>196.9</td>\n",
       "      <td>89</td>\n",
       "      <td>8.86</td>\n",
       "      <td>6.6</td>\n",
       "      <td>7</td>\n",
       "      <td>1.78</td>\n",
       "      <td>2</td>\n",
       "      <td>False</td>\n",
       "    </tr>\n",
       "    <tr>\n",
       "      <th>4</th>\n",
       "      <td>OK</td>\n",
       "      <td>75</td>\n",
       "      <td>415</td>\n",
       "      <td>330-6626</td>\n",
       "      <td>yes</td>\n",
       "      <td>no</td>\n",
       "      <td>0</td>\n",
       "      <td>166.7</td>\n",
       "      <td>113</td>\n",
       "      <td>28.34</td>\n",
       "      <td>...</td>\n",
       "      <td>122</td>\n",
       "      <td>12.61</td>\n",
       "      <td>186.9</td>\n",
       "      <td>121</td>\n",
       "      <td>8.41</td>\n",
       "      <td>10.1</td>\n",
       "      <td>3</td>\n",
       "      <td>2.73</td>\n",
       "      <td>3</td>\n",
       "      <td>False</td>\n",
       "    </tr>\n",
       "  </tbody>\n",
       "</table>\n",
       "<p>5 rows × 21 columns</p>\n",
       "</div>"
      ],
      "text/plain": [
       "  state  account length  area code phone number international plan  \\\n",
       "0    KS             128        415     382-4657                 no   \n",
       "1    OH             107        415     371-7191                 no   \n",
       "2    NJ             137        415     358-1921                 no   \n",
       "3    OH              84        408     375-9999                yes   \n",
       "4    OK              75        415     330-6626                yes   \n",
       "\n",
       "  voice mail plan  number vmail messages  total day minutes  total day calls  \\\n",
       "0             yes                     25              265.1              110   \n",
       "1             yes                     26              161.6              123   \n",
       "2              no                      0              243.4              114   \n",
       "3              no                      0              299.4               71   \n",
       "4              no                      0              166.7              113   \n",
       "\n",
       "   total day charge  ...  total eve calls  total eve charge  \\\n",
       "0             45.07  ...               99             16.78   \n",
       "1             27.47  ...              103             16.62   \n",
       "2             41.38  ...              110             10.30   \n",
       "3             50.90  ...               88              5.26   \n",
       "4             28.34  ...              122             12.61   \n",
       "\n",
       "   total night minutes  total night calls  total night charge  \\\n",
       "0                244.7                 91               11.01   \n",
       "1                254.4                103               11.45   \n",
       "2                162.6                104                7.32   \n",
       "3                196.9                 89                8.86   \n",
       "4                186.9                121                8.41   \n",
       "\n",
       "   total intl minutes  total intl calls  total intl charge  \\\n",
       "0                10.0                 3               2.70   \n",
       "1                13.7                 3               3.70   \n",
       "2                12.2                 5               3.29   \n",
       "3                 6.6                 7               1.78   \n",
       "4                10.1                 3               2.73   \n",
       "\n",
       "   customer service calls  churn  \n",
       "0                       1  False  \n",
       "1                       1  False  \n",
       "2                       0  False  \n",
       "3                       2  False  \n",
       "4                       3  False  \n",
       "\n",
       "[5 rows x 21 columns]"
      ]
     },
     "execution_count": 17,
     "metadata": {},
     "output_type": "execute_result"
    }
   ],
   "source": [
    "# либо загружаем из альтернативного хранилища\n",
    "url =\"https://raw.githubusercontent.com/piton1/DS/Lesson_5/telecom_churn.csv\"\n",
    "df=pd.read_csv(url)\n",
    "df.head()"
   ]
  },
  {
   "cell_type": "code",
   "execution_count": 18,
   "id": "082941d2",
   "metadata": {},
   "outputs": [],
   "source": [
    "day = df.groupby('total day calls')['churn'].count()"
   ]
  },
  {
   "cell_type": "code",
   "execution_count": 19,
   "id": "8f68cd37",
   "metadata": {},
   "outputs": [
    {
     "data": {
      "text/plain": [
       "[]"
      ]
     },
     "execution_count": 19,
     "metadata": {},
     "output_type": "execute_result"
    },
    {
     "data": {
      "image/png": "[encoded data removed]",
      "text/plain": [
       "<Figure size 864x576 with 1 Axes>"
      ]
     },
     "metadata": {
      "needs_background": "light"
     },
     "output_type": "display_data"
    }
   ],
   "source": [
    "plt.figure(figsize=(12,8))\n",
    "plt.hist(day, density=True, bins=20)\n",
    "plt.plot()"
   ]
  },
  {
   "cell_type": "code",
   "execution_count": 20,
   "id": "f6862fc1",
   "metadata": {},
   "outputs": [
    {
     "name": "stdout",
     "output_type": "stream",
     "text": [
      "Доверительный интервал для среднего по цпт, если нам известна дисперсия: [27.969201401197527, 28.04760532149155] \n",
      "Доверительный интервал для среднего по цпт интервальная оценка: (27.20300746408481, 28.813799258604266) \n",
      "Доверительный интервал для среднего по цпт методом _zconfint_generic: (26.520778373010405, 29.49602834967867) \n"
     ]
    }
   ],
   "source": [
    "import statsmodels.stats.weightstats as ssw\n",
    "\n",
    "N = len(df['total day calls'])\n",
    "print(\"Доверительный интервал для среднего по цпт, если нам известна дисперсия: [{}, {}] \".format(\n",
    "    np.mean(day) - 1.96 * uniform_rv.std() / np.sqrt(N), np.mean(day) + 1.96 * uniform_rv.std() / np.sqrt(N) \n",
    "))\n",
    "print(\"Доверительный интервал для среднего по цпт интервальная оценка: {} \".format(\n",
    "    sts.norm.interval(alpha=0.95, loc=np.mean(day), \n",
    "                      scale=np.std(day, ddof=1)/np.sqrt(N)) # alternative 'two-sided' only\n",
    "))\n",
    "\n",
    "print(\"Доверительный интервал для среднего по цпт методом _zconfint_generic: {} \".format(\n",
    "    ssw._zconfint_generic(np.mean(day),  np.std(day, ddof=1), alpha=0.95, alternative='two-sided')\n",
    "))"
   ]
  },
  {
   "cell_type": "code",
   "execution_count": null,
   "id": "c21c0631",
   "metadata": {},
   "outputs": [],
   "source": []
  },
  {
   "cell_type": "code",
   "execution_count": 21,
   "id": "e9e03fff",
   "metadata": {},
   "outputs": [
    {
     "data": {
      "text/plain": [
       "562.8050135308359"
      ]
     },
     "execution_count": 21,
     "metadata": {},
     "output_type": "execute_result"
    }
   ],
   "source": [
    "def variance(data, ddof=0): \n",
    "    n = len(data) \n",
    "    mean = sum(data) / n \n",
    "    return sum((x - mean) ** 2 for x in data) / (n - ddof)\n",
    "\n",
    "variance(day, ddof=1)\n"
   ]
  },
  {
   "cell_type": "code",
   "execution_count": 22,
   "id": "1c77c1a6",
   "metadata": {},
   "outputs": [
    {
     "data": {
      "text/plain": [
       "(23.727986500250694, 32.28882022243838)"
      ]
     },
     "execution_count": 22,
     "metadata": {},
     "output_type": "execute_result"
    }
   ],
   "source": [
    "from statistics import NormalDist\n",
    "\n",
    "def confidence_interval(data, confidence=0.95):\n",
    "  dist = NormalDist.from_samples(data)\n",
    "  z = NormalDist().inv_cdf((1 + confidence) / 2.)\n",
    "  h = dist.stdev * z / ((len(data) - 1) ** .5)\n",
    "  return dist.mean - h, dist.mean + h\n",
    "\n",
    "confidence_interval(day)"
   ]
  },
  {
   "cell_type": "code",
   "execution_count": null,
   "id": "ff62db83",
   "metadata": {},
   "outputs": [],
   "source": []
  }
 ],
 "metadata": {
  "kernelspec": {
   "display_name": "Python 3 (ipykernel)",
   "language": "python",
   "name": "python3"
  },
  "language_info": {
   "codemirror_mode": {
    "name": "ipython",
    "version": 3
   },
   "file_extension": ".py",
   "mimetype": "text/x-python",
   "name": "python",
   "nbconvert_exporter": "python",
   "pygments_lexer": "ipython3",
   "version": "3.9.12"
  }
 },
 "nbformat": 4,
 "nbformat_minor": 5
}
