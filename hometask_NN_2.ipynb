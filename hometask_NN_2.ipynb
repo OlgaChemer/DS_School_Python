{
 "cells": [
  {
   "cell_type": "code",
   "execution_count": 1,
   "id": "a562acf1",
   "metadata": {},
   "outputs": [
    {
     "name": "stdout",
     "output_type": "stream",
     "text": [
      "Requirement already satisfied: torchvision in /Users/olgakamskaa/opt/anaconda3/lib/python3.9/site-packages (0.14.0)\r\n",
      "Requirement already satisfied: pillow!=8.3.*,>=5.3.0 in /Users/olgakamskaa/opt/anaconda3/lib/python3.9/site-packages (from torchvision) (9.0.1)\r\n",
      "Requirement already satisfied: torch==1.13.0 in /Users/olgakamskaa/opt/anaconda3/lib/python3.9/site-packages (from torchvision) (1.13.0)\r\n",
      "Requirement already satisfied: numpy in /Users/olgakamskaa/opt/anaconda3/lib/python3.9/site-packages (from torchvision) (1.21.5)\r\n",
      "Requirement already satisfied: typing-extensions in /Users/olgakamskaa/opt/anaconda3/lib/python3.9/site-packages (from torchvision) (4.1.1)\r\n",
      "Requirement already satisfied: requests in /Users/olgakamskaa/opt/anaconda3/lib/python3.9/site-packages (from torchvision) (2.27.1)\r\n",
      "Requirement already satisfied: idna<4,>=2.5 in /Users/olgakamskaa/opt/anaconda3/lib/python3.9/site-packages (from requests->torchvision) (3.3)\r\n",
      "Requirement already satisfied: urllib3<1.27,>=1.21.1 in /Users/olgakamskaa/opt/anaconda3/lib/python3.9/site-packages (from requests->torchvision) (1.26.9)\r\n",
      "Requirement already satisfied: charset-normalizer~=2.0.0 in /Users/olgakamskaa/opt/anaconda3/lib/python3.9/site-packages (from requests->torchvision) (2.0.4)\r\n",
      "Requirement already satisfied: certifi>=2017.4.17 in /Users/olgakamskaa/opt/anaconda3/lib/python3.9/site-packages (from requests->torchvision) (2021.10.8)\r\n"
     ]
    }
   ],
   "source": [
    "!pip install torchvision"
   ]
  },
  {
   "cell_type": "code",
   "execution_count": 2,
   "id": "8e63c8b2",
   "metadata": {},
   "outputs": [],
   "source": [
    "import torch\n",
    "import numpy as np\n",
    "import torch.nn as nn\n",
    "import torch.nn.functional as F\n",
    "from torchvision import datasets\n",
    "from torch.utils.data import DataLoader\n",
    "from torchvision import transforms   \n",
    "from torchvision import datasets\n",
    "from torch.utils.data import DataLoader \n",
    "from sklearn.metrics import accuracy_score\n",
    "from matplotlib import pyplot as plt\n",
    "import matplotlib.ticker as ticker\n",
    "from numpy import argmax\n",
    "from numpy import vstack"
   ]
  },
  {
   "cell_type": "code",
   "execution_count": 3,
   "id": "678b7511",
   "metadata": {},
   "outputs": [
    {
     "name": "stdout",
     "output_type": "stream",
     "text": [
      "Using cpu device\n"
     ]
    }
   ],
   "source": [
    "device = \"cuda\" if torch.cuda.is_available() else \"cpu\"\n",
    "print(f\"Using {device} device\")"
   ]
  },
  {
   "cell_type": "code",
   "execution_count": 4,
   "id": "89398318",
   "metadata": {},
   "outputs": [],
   "source": [
    "training_data = datasets.MNIST(\n",
    "                                root=\"data\",\n",
    "                                train=True,\n",
    "                                download=True\n",
    ")\n",
    "\n",
    "test_data = datasets.MNIST(\n",
    "                                root=\"data\",\n",
    "                                train=False,\n",
    "                                download=True\n",
    ")\n",
    "\n",
    "train_dataloader = DataLoader(    training_data, \n",
    "                                  batch_size=64, \n",
    "                                  shuffle=True\n",
    "                             )\n",
    "test_dataloader = DataLoader(     test_data, \n",
    "                                  batch_size=64, \n",
    "                                  shuffle=True\n",
    "                            )"
   ]
  },
  {
   "cell_type": "code",
   "execution_count": 5,
   "id": "57baee95",
   "metadata": {},
   "outputs": [],
   "source": [
    "# define model\n",
    "inc = 28*28\n",
    "outc = 128\n",
    "res = 10"
   ]
  },
  {
   "cell_type": "code",
   "execution_count": 6,
   "id": "98537b58",
   "metadata": {},
   "outputs": [],
   "source": [
    "#полносвязная сеть\n",
    "class FCnet(nn.Module):\n",
    "        def __init__(self):\n",
    "            super().__init__()\n",
    "            self.flat = nn.Flatten()\n",
    "            self.fc1 = nn.Linear(inc, outc )\n",
    "            self.fc2 = nn.Linear(outc, res)\n",
    "            self.dp1 = nn.Dropout(0.2)\n",
    "\n",
    "        def forward(self, x):\n",
    "            x = self.flat(x) # 28*28\n",
    "            x = self.fc1(x) # 28*28*128\n",
    "            x = F.relu(x)\n",
    "            x = self.dp1(x)\n",
    "            x = self.fc2(x) # 128*10\n",
    "            output = F.softmax(x, dim=1)\n",
    "            return output\n"
   ]
  },
  {
   "cell_type": "code",
   "execution_count": 7,
   "id": "a1193b40",
   "metadata": {},
   "outputs": [],
   "source": [
    "#глубокая сверточная сеть\n",
    "class   DeepConvnet(nn.Module):\n",
    "        def __init__(self):\n",
    "            super().__init__()\n",
    "            self.conv1 = nn.Conv2d(1, 8, 5) \n",
    "            self.mp1 = nn.MaxPool2d(2) \n",
    "            self.act1 = nn.Tanh()\n",
    "            self.conv2 = nn.Conv2d(8, 24, 3) \n",
    "            self.flat = nn.Flatten()\n",
    "            self.fc1 = nn.Linear(600, 128)\n",
    "            self.fc2 = nn.Linear(128, 64)\n",
    "            self.fc3 = nn.Linear(64, 10)\n",
    "            self.act2 = nn.Softmax()\n",
    "\n",
    "        def forward(self, x):\n",
    "            x = self.conv1(x) #out 8x24x24\n",
    "            x = self.mp1(x) #out 8x12x12\n",
    "            x = self.act1(x)\n",
    "            x = self.conv2(x) #out 16x10x10\n",
    "            x = self.mp1(x) #out 16x5x5\n",
    "            x = self.act1(x)\n",
    "            x = self.flat(x) #out 400\n",
    "            x = self.fc1(x) #out 128\n",
    "            x = self.act1(x)\n",
    "            x = self.fc2(x) #out 64\n",
    "            x = self.act1(x)\n",
    "            x = self.fc3(x) #out 10\n",
    "            output = self.act2(x)\n",
    "            return output"
   ]
  },
  {
   "cell_type": "code",
   "execution_count": 8,
   "id": "f4051c89",
   "metadata": {},
   "outputs": [],
   "source": [
    "class SimpleCustomBatch:\n",
    "    def __init__(self, data):\n",
    "        transposed_data = list(zip(*data))\n",
    "        convert = transforms.ToTensor()\n",
    "        inp = tuple(map(lambda x: convert(x), transposed_data[0]))\n",
    "        tgt = tuple(map(lambda x: torch.asarray(x), transposed_data[1]))\n",
    "        self.inp = torch.stack(inp, 0)\n",
    "        self.tgt = torch.stack(tgt, 0)\n",
    "\n",
    "    def pin_memory(self):\n",
    "        self.inp = self.inp.pin_memory()\n",
    "        self.tgt = self.tgt.pin_memory()\n",
    "        return self"
   ]
  },
  {
   "cell_type": "code",
   "execution_count": 9,
   "id": "03051bab",
   "metadata": {},
   "outputs": [],
   "source": [
    "def collate_wrapper(batch):\n",
    "    return SimpleCustomBatch(batch)"
   ]
  },
  {
   "cell_type": "code",
   "execution_count": 10,
   "id": "b346467b",
   "metadata": {},
   "outputs": [],
   "source": [
    "# prepare data  Train , Test\n",
    "training_data = datasets.MNIST(\n",
    "                                root=\"data\",\n",
    "                                train=True,\n",
    "                                download=True\n",
    ")\n",
    "\n",
    "test_data = datasets.MNIST(\n",
    "                                root=\"data\",\n",
    "                                train=False,\n",
    "                                download=True\n",
    ")\n",
    "\n",
    "train_dataloader = DataLoader(    training_data, \n",
    "                                  batch_size=64, \n",
    "                                  collate_fn = collate_wrapper,\n",
    "                                  shuffle=True\n",
    "                             )\n",
    "\n",
    "test_dataloader = DataLoader(     test_data, \n",
    "                                  batch_size=512, \n",
    "                                  collate_fn = collate_wrapper,  \n",
    "                                  shuffle=True\n",
    "                            )\n",
    "     "
   ]
  },
  {
   "cell_type": "code",
   "execution_count": 11,
   "id": "71b5ecad",
   "metadata": {},
   "outputs": [
    {
     "data": {
      "text/plain": [
       "<matplotlib.image.AxesImage at 0x7f85b86c9430>"
      ]
     },
     "execution_count": 11,
     "metadata": {},
     "output_type": "execute_result"
    },
    {
     "data": {
      "image/png": "[encoded data removed]",
      "text/plain": [
       "<Figure size 432x288 with 1 Axes>"
      ]
     },
     "metadata": {
      "needs_background": "light"
     },
     "output_type": "display_data"
    }
   ],
   "source": [
    "from matplotlib.pyplot import imshow\n",
    "imshow(training_data.__getitem__(15)[0])"
   ]
  },
  {
   "cell_type": "code",
   "execution_count": 12,
   "id": "2eaba903",
   "metadata": {},
   "outputs": [],
   "source": [
    "# train model\n",
    "from torch.nn.modules.loss import CrossEntropyLoss, MSELoss\n",
    "from torch.optim import SGD\n",
    "from torchvision import transforms"
   ]
  },
  {
   "cell_type": "code",
   "execution_count": 13,
   "id": "22a3fe10",
   "metadata": {},
   "outputs": [],
   "source": [
    "def train_model(train_ds, model):\n",
    "    loss_fn = CrossEntropyLoss(reduction='none')\n",
    "    optimizer = SGD(model.parameters(), lr=0.01, momentum=0.9)\n",
    "\n",
    "    for epoch in range(1):\n",
    "          for i, data in enumerate(train_ds):\n",
    "            inputs = data.inp.to(torch.float32)\n",
    "            labels = data.tgt.to(torch.float32)\n",
    "            labels = torch.tensor(labels, dtype=torch.long)\n",
    "            optimizer.zero_grad()\n",
    "            outputs = model(inputs)\n",
    "            loss = loss_fn(outputs, labels)\n",
    "            loss.mean().backward()\n",
    "            optimizer.step()\n",
    "    print('Epoch {} loss equals : {}'.format( epoch, loss.mean() ))\n",
    "    return loss.mean().detach().numpy()"
   ]
  },
  {
   "cell_type": "code",
   "execution_count": 14,
   "id": "4cb808a0",
   "metadata": {},
   "outputs": [],
   "source": [
    "def evaluate(test_ds, model):\n",
    "    preds, actuals = list(), list()\n",
    "    for i, data in enumerate(test_ds):\n",
    "        inputs = data.inp.to(torch.float32)\n",
    "        labels = data.tgt.to(torch.float32)\n",
    "        y = model(inputs)\n",
    "        y = y.detach().numpy()\n",
    "        actual = labels.numpy()\n",
    "        y = argmax(y, axis=1)\n",
    "        actual = actual.reshape((len(actual), 1))\n",
    "        y = y.reshape((len(y), 1))\n",
    "\n",
    "        preds.append(y)\n",
    "        actuals.append(actual)\n",
    "\n",
    "        preds, actuals = vstack(preds), vstack(actuals)\n",
    "        acc = accuracy_score(actuals, preds)\n",
    "        return acc"
   ]
  },
  {
   "cell_type": "code",
   "execution_count": 15,
   "id": "d74ccc51",
   "metadata": {},
   "outputs": [],
   "source": [
    "net = FCnet()"
   ]
  },
  {
   "cell_type": "code",
   "execution_count": 16,
   "id": "49690bbb",
   "metadata": {},
   "outputs": [
    {
     "name": "stderr",
     "output_type": "stream",
     "text": [
      "/var/folders/04/p9n_pr6j0n971vm_1r43l7400000gn/T/ipykernel_5638/2078521555.py:9: UserWarning: To copy construct from a tensor, it is recommended to use sourceTensor.clone().detach() or sourceTensor.clone().detach().requires_grad_(True), rather than torch.tensor(sourceTensor).\n",
      "  labels = torch.tensor(labels, dtype=torch.long)\n"
     ]
    },
    {
     "name": "stdout",
     "output_type": "stream",
     "text": [
      "Epoch 0 loss equals : 1.624010443687439\n"
     ]
    },
    {
     "data": {
      "text/plain": [
       "array(1.6240104, dtype=float32)"
      ]
     },
     "execution_count": 16,
     "metadata": {},
     "output_type": "execute_result"
    }
   ],
   "source": [
    "train_model(train_dataloader, net)"
   ]
  },
  {
   "cell_type": "code",
   "execution_count": 17,
   "id": "5f140101",
   "metadata": {},
   "outputs": [
    {
     "name": "stderr",
     "output_type": "stream",
     "text": [
      "/var/folders/04/p9n_pr6j0n971vm_1r43l7400000gn/T/ipykernel_5638/2078521555.py:9: UserWarning: To copy construct from a tensor, it is recommended to use sourceTensor.clone().detach() or sourceTensor.clone().detach().requires_grad_(True), rather than torch.tensor(sourceTensor).\n",
      "  labels = torch.tensor(labels, dtype=torch.long)\n"
     ]
    },
    {
     "name": "stdout",
     "output_type": "stream",
     "text": [
      "Epoch 0 loss equals : 1.6117758750915527\n",
      "epoch: 0 , accuracy: 0.90234375\n"
     ]
    },
    {
     "name": "stderr",
     "output_type": "stream",
     "text": [
      "/var/folders/04/p9n_pr6j0n971vm_1r43l7400000gn/T/ipykernel_5638/2078521555.py:9: UserWarning: To copy construct from a tensor, it is recommended to use sourceTensor.clone().detach() or sourceTensor.clone().detach().requires_grad_(True), rather than torch.tensor(sourceTensor).\n",
      "  labels = torch.tensor(labels, dtype=torch.long)\n"
     ]
    },
    {
     "name": "stdout",
     "output_type": "stream",
     "text": [
      "Epoch 0 loss equals : 1.6319994926452637\n",
      "epoch: 1 , accuracy: 0.9125\n"
     ]
    },
    {
     "name": "stderr",
     "output_type": "stream",
     "text": [
      "/var/folders/04/p9n_pr6j0n971vm_1r43l7400000gn/T/ipykernel_5638/2078521555.py:9: UserWarning: To copy construct from a tensor, it is recommended to use sourceTensor.clone().detach() or sourceTensor.clone().detach().requires_grad_(True), rather than torch.tensor(sourceTensor).\n",
      "  labels = torch.tensor(labels, dtype=torch.long)\n"
     ]
    },
    {
     "name": "stdout",
     "output_type": "stream",
     "text": [
      "Epoch 0 loss equals : 1.559495449066162\n",
      "epoch: 2 , accuracy: 0.915234375\n"
     ]
    },
    {
     "name": "stderr",
     "output_type": "stream",
     "text": [
      "/var/folders/04/p9n_pr6j0n971vm_1r43l7400000gn/T/ipykernel_5638/2078521555.py:9: UserWarning: To copy construct from a tensor, it is recommended to use sourceTensor.clone().detach() or sourceTensor.clone().detach().requires_grad_(True), rather than torch.tensor(sourceTensor).\n",
      "  labels = torch.tensor(labels, dtype=torch.long)\n"
     ]
    },
    {
     "name": "stdout",
     "output_type": "stream",
     "text": [
      "Epoch 0 loss equals : 1.5308866500854492\n",
      "epoch: 3 , accuracy: 0.91640625\n"
     ]
    },
    {
     "name": "stderr",
     "output_type": "stream",
     "text": [
      "/var/folders/04/p9n_pr6j0n971vm_1r43l7400000gn/T/ipykernel_5638/2078521555.py:9: UserWarning: To copy construct from a tensor, it is recommended to use sourceTensor.clone().detach() or sourceTensor.clone().detach().requires_grad_(True), rather than torch.tensor(sourceTensor).\n",
      "  labels = torch.tensor(labels, dtype=torch.long)\n"
     ]
    },
    {
     "name": "stdout",
     "output_type": "stream",
     "text": [
      "Epoch 0 loss equals : 1.5112005472183228\n",
      "epoch: 4 , accuracy: 0.91484375\n"
     ]
    },
    {
     "name": "stderr",
     "output_type": "stream",
     "text": [
      "/var/folders/04/p9n_pr6j0n971vm_1r43l7400000gn/T/ipykernel_5638/2078521555.py:9: UserWarning: To copy construct from a tensor, it is recommended to use sourceTensor.clone().detach() or sourceTensor.clone().detach().requires_grad_(True), rather than torch.tensor(sourceTensor).\n",
      "  labels = torch.tensor(labels, dtype=torch.long)\n"
     ]
    },
    {
     "name": "stdout",
     "output_type": "stream",
     "text": [
      "Epoch 0 loss equals : 1.5135180950164795\n",
      "epoch: 5 , accuracy: 0.925390625\n"
     ]
    },
    {
     "name": "stderr",
     "output_type": "stream",
     "text": [
      "/var/folders/04/p9n_pr6j0n971vm_1r43l7400000gn/T/ipykernel_5638/2078521555.py:9: UserWarning: To copy construct from a tensor, it is recommended to use sourceTensor.clone().detach() or sourceTensor.clone().detach().requires_grad_(True), rather than torch.tensor(sourceTensor).\n",
      "  labels = torch.tensor(labels, dtype=torch.long)\n"
     ]
    },
    {
     "name": "stdout",
     "output_type": "stream",
     "text": [
      "Epoch 0 loss equals : 1.5698803663253784\n",
      "epoch: 6 , accuracy: 0.925\n"
     ]
    },
    {
     "name": "stderr",
     "output_type": "stream",
     "text": [
      "/var/folders/04/p9n_pr6j0n971vm_1r43l7400000gn/T/ipykernel_5638/2078521555.py:9: UserWarning: To copy construct from a tensor, it is recommended to use sourceTensor.clone().detach() or sourceTensor.clone().detach().requires_grad_(True), rather than torch.tensor(sourceTensor).\n",
      "  labels = torch.tensor(labels, dtype=torch.long)\n"
     ]
    },
    {
     "name": "stdout",
     "output_type": "stream",
     "text": [
      "Epoch 0 loss equals : 1.5119953155517578\n",
      "epoch: 7 , accuracy: 0.932421875\n"
     ]
    },
    {
     "name": "stderr",
     "output_type": "stream",
     "text": [
      "/var/folders/04/p9n_pr6j0n971vm_1r43l7400000gn/T/ipykernel_5638/2078521555.py:9: UserWarning: To copy construct from a tensor, it is recommended to use sourceTensor.clone().detach() or sourceTensor.clone().detach().requires_grad_(True), rather than torch.tensor(sourceTensor).\n",
      "  labels = torch.tensor(labels, dtype=torch.long)\n"
     ]
    },
    {
     "name": "stdout",
     "output_type": "stream",
     "text": [
      "Epoch 0 loss equals : 1.505581021308899\n",
      "epoch: 8 , accuracy: 0.93984375\n"
     ]
    },
    {
     "name": "stderr",
     "output_type": "stream",
     "text": [
      "/var/folders/04/p9n_pr6j0n971vm_1r43l7400000gn/T/ipykernel_5638/2078521555.py:9: UserWarning: To copy construct from a tensor, it is recommended to use sourceTensor.clone().detach() or sourceTensor.clone().detach().requires_grad_(True), rather than torch.tensor(sourceTensor).\n",
      "  labels = torch.tensor(labels, dtype=torch.long)\n"
     ]
    },
    {
     "name": "stdout",
     "output_type": "stream",
     "text": [
      "Epoch 0 loss equals : 1.476839303970337\n",
      "epoch: 9 , accuracy: 0.940234375\n"
     ]
    }
   ],
   "source": [
    "loss_list = list()\n",
    "epoch = list()\n",
    "acc_list = list()\n",
    "\n",
    "for i in range(10):\n",
    "    epoch.append(i)\n",
    "    loss_list.append(train_model(train_dataloader, net))\n",
    "    res = []\n",
    "    for j in range(5):\n",
    "        res.append(evaluate(test_dataloader,net))\n",
    "\n",
    "    print(f'epoch: {i} , accuracy: {np.mean(res)}')\n",
    "    acc_list.append(np.mean(res))"
   ]
  },
  {
   "cell_type": "code",
   "execution_count": 18,
   "id": "59c59bd3",
   "metadata": {},
   "outputs": [
    {
     "data": {
      "image/png": "[encoded data removed]",
      "text/plain": [
       "<Figure size 576x288 with 1 Axes>"
      ]
     },
     "metadata": {
      "needs_background": "light"
     },
     "output_type": "display_data"
    }
   ],
   "source": [
    "fig , ax = plt.subplots(figsize=(8,4))\n",
    "plt.plot(epoch, acc_list)\n",
    "plt.plot(epoch, loss_list)\n",
    "ax.xaxis.set_major_locator(ticker.IndexLocator(base=1, offset=0))\n",
    "ax.yaxis.set_major_locator(ticker.MultipleLocator(0.1))\n",
    "plt.show()"
   ]
  },
  {
   "cell_type": "code",
   "execution_count": 19,
   "id": "8323bde6",
   "metadata": {},
   "outputs": [],
   "source": [
    "dnet = DeepConvnet()"
   ]
  },
  {
   "cell_type": "code",
   "execution_count": 20,
   "id": "2b217fba",
   "metadata": {},
   "outputs": [],
   "source": [
    "def train_dmodel(train_ds, model):\n",
    "    loss_fn = CrossEntropyLoss(reduction='none')\n",
    "    optimizer = SGD(model.parameters(), lr=0.01, momentum=0.9)\n",
    "\n",
    "    for epoch in range(1):\n",
    "        for i, data in enumerate(train_ds):\n",
    "            inputs = data.inp.to(torch.float32)\n",
    "            labels = data.tgt.to(torch.float32)\n",
    "            labels = torch.tensor(labels, dtype=torch.long)\n",
    "            optimizer.zero_grad()\n",
    "            outputs = model(inputs)\n",
    "            loss = loss_fn(outputs, labels)\n",
    "            loss.mean().backward()\n",
    "            optimizer.step()\n",
    "    print('Epoch {} loss equals : {}'.format( epoch, loss.mean() ))\n",
    "    return loss.mean().detach().numpy()\n",
    "     "
   ]
  },
  {
   "cell_type": "code",
   "execution_count": 21,
   "id": "c4f54342",
   "metadata": {},
   "outputs": [
    {
     "name": "stderr",
     "output_type": "stream",
     "text": [
      "/var/folders/04/p9n_pr6j0n971vm_1r43l7400000gn/T/ipykernel_5638/2025828778.py:9: UserWarning: To copy construct from a tensor, it is recommended to use sourceTensor.clone().detach() or sourceTensor.clone().detach().requires_grad_(True), rather than torch.tensor(sourceTensor).\n",
      "  labels = torch.tensor(labels, dtype=torch.long)\n"
     ]
    },
    {
     "name": "stdout",
     "output_type": "stream",
     "text": [
      "Epoch 0 loss equals : 1.556881070137024\n",
      "epoch: 0 , accuracy: 0.937109375\n"
     ]
    },
    {
     "name": "stderr",
     "output_type": "stream",
     "text": [
      "/var/folders/04/p9n_pr6j0n971vm_1r43l7400000gn/T/ipykernel_5638/2025828778.py:9: UserWarning: To copy construct from a tensor, it is recommended to use sourceTensor.clone().detach() or sourceTensor.clone().detach().requires_grad_(True), rather than torch.tensor(sourceTensor).\n",
      "  labels = torch.tensor(labels, dtype=torch.long)\n"
     ]
    },
    {
     "name": "stdout",
     "output_type": "stream",
     "text": [
      "Epoch 0 loss equals : 1.5395128726959229\n",
      "epoch: 1 , accuracy: 0.943359375\n"
     ]
    },
    {
     "name": "stderr",
     "output_type": "stream",
     "text": [
      "/var/folders/04/p9n_pr6j0n971vm_1r43l7400000gn/T/ipykernel_5638/2025828778.py:9: UserWarning: To copy construct from a tensor, it is recommended to use sourceTensor.clone().detach() or sourceTensor.clone().detach().requires_grad_(True), rather than torch.tensor(sourceTensor).\n",
      "  labels = torch.tensor(labels, dtype=torch.long)\n"
     ]
    },
    {
     "name": "stdout",
     "output_type": "stream",
     "text": [
      "Epoch 0 loss equals : 1.5478503704071045\n",
      "epoch: 2 , accuracy: 0.945703125\n"
     ]
    },
    {
     "name": "stderr",
     "output_type": "stream",
     "text": [
      "/var/folders/04/p9n_pr6j0n971vm_1r43l7400000gn/T/ipykernel_5638/2025828778.py:9: UserWarning: To copy construct from a tensor, it is recommended to use sourceTensor.clone().detach() or sourceTensor.clone().detach().requires_grad_(True), rather than torch.tensor(sourceTensor).\n",
      "  labels = torch.tensor(labels, dtype=torch.long)\n"
     ]
    },
    {
     "name": "stdout",
     "output_type": "stream",
     "text": [
      "Epoch 0 loss equals : 1.5549813508987427\n",
      "epoch: 3 , accuracy: 0.9421875\n"
     ]
    },
    {
     "name": "stderr",
     "output_type": "stream",
     "text": [
      "/var/folders/04/p9n_pr6j0n971vm_1r43l7400000gn/T/ipykernel_5638/2025828778.py:9: UserWarning: To copy construct from a tensor, it is recommended to use sourceTensor.clone().detach() or sourceTensor.clone().detach().requires_grad_(True), rather than torch.tensor(sourceTensor).\n",
      "  labels = torch.tensor(labels, dtype=torch.long)\n"
     ]
    },
    {
     "name": "stdout",
     "output_type": "stream",
     "text": [
      "Epoch 0 loss equals : 1.4897524118423462\n",
      "epoch: 4 , accuracy: 0.94375\n"
     ]
    },
    {
     "name": "stderr",
     "output_type": "stream",
     "text": [
      "/var/folders/04/p9n_pr6j0n971vm_1r43l7400000gn/T/ipykernel_5638/2025828778.py:9: UserWarning: To copy construct from a tensor, it is recommended to use sourceTensor.clone().detach() or sourceTensor.clone().detach().requires_grad_(True), rather than torch.tensor(sourceTensor).\n",
      "  labels = torch.tensor(labels, dtype=torch.long)\n"
     ]
    },
    {
     "name": "stdout",
     "output_type": "stream",
     "text": [
      "Epoch 0 loss equals : 1.5090731382369995\n",
      "epoch: 5 , accuracy: 0.946875\n"
     ]
    },
    {
     "name": "stderr",
     "output_type": "stream",
     "text": [
      "/var/folders/04/p9n_pr6j0n971vm_1r43l7400000gn/T/ipykernel_5638/2025828778.py:9: UserWarning: To copy construct from a tensor, it is recommended to use sourceTensor.clone().detach() or sourceTensor.clone().detach().requires_grad_(True), rather than torch.tensor(sourceTensor).\n",
      "  labels = torch.tensor(labels, dtype=torch.long)\n"
     ]
    },
    {
     "name": "stdout",
     "output_type": "stream",
     "text": [
      "Epoch 0 loss equals : 1.5485494136810303\n",
      "epoch: 6 , accuracy: 0.95078125\n"
     ]
    },
    {
     "name": "stderr",
     "output_type": "stream",
     "text": [
      "/var/folders/04/p9n_pr6j0n971vm_1r43l7400000gn/T/ipykernel_5638/2025828778.py:9: UserWarning: To copy construct from a tensor, it is recommended to use sourceTensor.clone().detach() or sourceTensor.clone().detach().requires_grad_(True), rather than torch.tensor(sourceTensor).\n",
      "  labels = torch.tensor(labels, dtype=torch.long)\n"
     ]
    },
    {
     "name": "stdout",
     "output_type": "stream",
     "text": [
      "Epoch 0 loss equals : 1.4927902221679688\n",
      "epoch: 7 , accuracy: 0.94609375\n"
     ]
    },
    {
     "name": "stderr",
     "output_type": "stream",
     "text": [
      "/var/folders/04/p9n_pr6j0n971vm_1r43l7400000gn/T/ipykernel_5638/2025828778.py:9: UserWarning: To copy construct from a tensor, it is recommended to use sourceTensor.clone().detach() or sourceTensor.clone().detach().requires_grad_(True), rather than torch.tensor(sourceTensor).\n",
      "  labels = torch.tensor(labels, dtype=torch.long)\n"
     ]
    },
    {
     "name": "stdout",
     "output_type": "stream",
     "text": [
      "Epoch 0 loss equals : 1.6247942447662354\n",
      "epoch: 8 , accuracy: 0.955078125\n"
     ]
    },
    {
     "name": "stderr",
     "output_type": "stream",
     "text": [
      "/var/folders/04/p9n_pr6j0n971vm_1r43l7400000gn/T/ipykernel_5638/2025828778.py:9: UserWarning: To copy construct from a tensor, it is recommended to use sourceTensor.clone().detach() or sourceTensor.clone().detach().requires_grad_(True), rather than torch.tensor(sourceTensor).\n",
      "  labels = torch.tensor(labels, dtype=torch.long)\n"
     ]
    },
    {
     "name": "stdout",
     "output_type": "stream",
     "text": [
      "Epoch 0 loss equals : 1.5335496664047241\n",
      "epoch: 9 , accuracy: 0.949609375\n"
     ]
    }
   ],
   "source": [
    "dloss_list = list()\n",
    "depoch = list()\n",
    "dacc_list = list()\n",
    "\n",
    "for i in range(10):\n",
    "    depoch.append(i)\n",
    "    dloss_list.append(train_dmodel(train_dataloader, net))\n",
    "    res = []\n",
    "    for j in range(5):\n",
    "        res.append(evaluate(test_dataloader,net))\n",
    "  \n",
    "    print(f'epoch: {i} , accuracy: {np.mean(res)}')\n",
    "    dacc_list.append(np.mean(res))"
   ]
  },
  {
   "cell_type": "code",
   "execution_count": 22,
   "id": "55e6df66",
   "metadata": {},
   "outputs": [
    {
     "data": {
      "image/png": "[encoded data removed]",
      "text/plain": [
       "<Figure size 576x288 with 1 Axes>"
      ]
     },
     "metadata": {
      "needs_background": "light"
     },
     "output_type": "display_data"
    }
   ],
   "source": [
    "fig , ax1 = plt.subplots(figsize=(8,4))\n",
    "plt.plot(depoch, dacc_list)\n",
    "plt.plot(depoch, dloss_list)\n",
    "ax1.xaxis.set_major_locator(ticker.IndexLocator(base=1, offset=0))\n",
    "ax1.yaxis.set_major_locator(ticker.MultipleLocator(0.1))\n",
    "plt.show()"
   ]
  },
  {
   "cell_type": "markdown",
   "id": "45b528d4",
   "metadata": {},
   "source": [
    "Cверточная сеть, показывает результ лучше, чем полносвязная сеть"
   ]
  }
 ],
 "metadata": {
  "kernelspec": {
   "display_name": "Python 3 (ipykernel)",
   "language": "python",
   "name": "python3"
  },
  "language_info": {
   "codemirror_mode": {
    "name": "ipython",
    "version": 3
   },
   "file_extension": ".py",
   "mimetype": "text/x-python",
   "name": "python",
   "nbconvert_exporter": "python",
   "pygments_lexer": "ipython3",
   "version": "3.9.12"
  }
 },
 "nbformat": 4,
 "nbformat_minor": 5
}
