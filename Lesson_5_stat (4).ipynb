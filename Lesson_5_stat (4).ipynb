{
 "cells": [
  {
   "cell_type": "code",
   "execution_count": 1,
   "id": "e072cd02",
   "metadata": {},
   "outputs": [],
   "source": [
    "import pandas as pd\n",
    "import numpy as np\n",
    "import matplotlib.pyplot as plt\n",
    "import scipy.stats as sts\n",
    "import math\n",
    "%matplotlib inline"
   ]
  },
  {
   "cell_type": "markdown",
   "id": "02a2fc55",
   "metadata": {},
   "source": [
    "## ЦПТ для различных распределений\n",
    "Возьмите то непрерывное распределение, которое вам больше всего понравится из списка доступных в модуле scipy.stats.\n",
    "\n",
    "### Сгенерируйте примеры из распределения"
   ]
  },
  {
   "cell_type": "code",
   "execution_count": 2,
   "id": "0cc369bc",
   "metadata": {},
   "outputs": [
    {
     "data": {
      "text/plain": [
       "array([-2.55981283e-01, -5.94654648e-01, -1.86389096e+00,  3.67695147e-01,\n",
       "        3.74170811e-01,  8.10354199e-01,  7.60904783e-01, -1.59764963e+00,\n",
       "       -2.08184088e-01,  1.20561945e+00,  5.91292356e-01, -1.93468535e+00,\n",
       "        1.35869098e+00,  4.01867341e-01, -9.99054091e-02, -6.90942493e-01,\n",
       "        8.70408160e-01,  1.87555941e+00, -6.06528560e-01, -1.46120890e+00,\n",
       "        2.19311894e-01,  1.02527158e-03, -2.25926008e-01,  3.80710220e-02,\n",
       "       -1.24708046e+00,  6.73034836e-02,  7.12995046e-01,  1.58792865e+00,\n",
       "        4.03560641e-01,  8.36585061e-01, -1.76942334e+00, -1.40745590e+00,\n",
       "       -1.91691155e+00,  1.72357558e+00, -1.84070918e+00,  1.02770866e+00,\n",
       "       -1.32472339e-01,  1.18371398e+00,  5.04680417e-01, -2.13243761e+00,\n",
       "        3.09287873e-01,  2.17478376e-01,  5.80995304e-01,  1.04074550e+00,\n",
       "        9.48752539e-02, -3.59004063e-01,  6.25318405e-01,  1.63784298e+00,\n",
       "       -2.56120667e+00, -1.42884218e+00,  2.71660052e+00, -1.37232556e+00,\n",
       "       -7.06215225e-01,  3.80517042e-01, -1.41892473e-01, -1.94598631e-01,\n",
       "       -4.46952248e-01, -8.64796010e-01, -2.30008591e+00, -5.97213395e-01,\n",
       "        3.15082422e-01,  6.15396943e-01, -2.35593500e+00,  1.09584562e-01,\n",
       "        3.29934591e-01, -1.36707218e+00, -4.24167291e-02, -1.69044730e+00,\n",
       "        6.66987861e-01, -2.51301573e-01,  7.97538692e-01,  7.71601559e-02,\n",
       "       -1.35507621e+00, -6.08667629e-01, -4.65920927e-02, -1.06313467e+00,\n",
       "        2.52245259e-01, -3.37854147e-01,  5.90145246e-01,  6.26635018e-01,\n",
       "       -1.11089182e+00, -7.50654359e-01,  8.95976079e-01,  5.68554131e-01,\n",
       "       -5.37223009e-01,  1.22637715e+00,  3.28691679e-01, -1.14045142e-02,\n",
       "       -2.57574793e+00,  1.30712507e-02,  1.55421897e+00, -2.42855764e-01,\n",
       "       -1.37485677e+00,  5.65687198e-01,  3.93725945e-01,  1.14377813e+00,\n",
       "       -8.00879158e-01, -6.81137373e-01,  7.17393458e-01,  1.62138523e+00])"
      ]
     },
     "execution_count": 2,
     "metadata": {},
     "output_type": "execute_result"
    }
   ],
   "source": [
    "# ваш код тут\n",
    "# например вот такое распределение https://docs.scipy.org/doc/scipy/reference/generated/scipy.stats.cosine.html#scipy.stats.cosine\n",
    "cosine_rv = sts.cosine()\n",
    "sample = cosine_rv.rvs(100)\n",
    "sample"
   ]
  },
  {
   "cell_type": "code",
   "execution_count": 3,
   "id": "5602b535",
   "metadata": {},
   "outputs": [
    {
     "data": {
      "text/plain": [
       "array([0, 1, 0, 0, 0, 0, 1, 0, 0, 0, 1, 0, 0, 1, 0, 1, 0, 0, 1, 1, 0, 0,\n",
       "       0, 1, 1, 0, 1, 1, 0, 0, 1, 0, 1, 0, 0, 0, 1, 0, 0, 1, 0, 1, 1, 1,\n",
       "       0, 0, 1, 1, 1, 1, 0, 1, 1, 1, 1, 0, 0, 0, 1, 1, 0, 1, 1, 0, 1, 1,\n",
       "       1, 0, 0, 1, 0, 0, 0, 1, 1, 1, 1, 0, 1, 1, 0, 1, 1, 0, 1, 0, 0, 1,\n",
       "       1, 1, 1, 1, 0, 1, 1, 1, 0, 0, 0, 0])"
      ]
     },
     "execution_count": 3,
     "metadata": {},
     "output_type": "execute_result"
    }
   ],
   "source": [
    "bernul = sts.bernoulli(p=.5)\n",
    "sample2 = bernul.rvs(100)\n",
    "sample2"
   ]
  },
  {
   "cell_type": "code",
   "execution_count": 4,
   "id": "ed098fa1",
   "metadata": {},
   "outputs": [
    {
     "name": "stdout",
     "output_type": "stream",
     "text": [
      "Настоящее среднее: 0.500\n",
      "Выборочное среднее: 0.510\n",
      "Выборочная дисперсия: 0.250\n",
      "Выборочное стандартное отклонение: 0.500\n",
      "Стандартное отклонение: 0.500\n"
     ]
    }
   ],
   "source": [
    "print('Настоящее среднее: %.3f' % bernul.mean())\n",
    "print('Выборочное среднее: %.3f' % sample2.mean())\n",
    "print('Выборочная дисперсия: %.3f' % sample2.var())\n",
    "print('Выборочное стандартное отклонение: %.3f' % sample2.std())\n",
    "print('Стандартное отклонение: %.3f' % bernul.std())"
   ]
  },
  {
   "cell_type": "code",
   "execution_count": 5,
   "id": "a5bb16c8",
   "metadata": {},
   "outputs": [
    {
     "data": {
      "text/plain": [
       "array([10, 14, 14, 10, 11, 10, 13,  9, 10, 10, 11, 11, 13,  7, 10, 15, 13,\n",
       "       14, 14,  9, 17, 14, 14, 10, 12, 10, 11, 11, 11, 11,  9, 12, 11, 12,\n",
       "       13, 11, 16, 12, 13,  7,  9, 12, 10, 12,  8, 14, 11, 10, 10,  7, 11,\n",
       "       10, 12, 11,  9, 14, 14, 13, 10, 10, 10,  9, 10,  9, 11, 11, 11, 11,\n",
       "       13, 12, 12, 11, 10, 10,  3, 15, 14, 12, 12,  9, 10,  7, 11,  9,  9,\n",
       "       11, 11, 10, 11, 13, 10,  9, 11, 15,  6,  8, 12, 15,  7, 11])"
      ]
     },
     "execution_count": 5,
     "metadata": {},
     "output_type": "execute_result"
    }
   ],
   "source": [
    "binom = sts.binom(20, 0.55)\n",
    "sample3 = binom.rvs(100)\n",
    "sample3"
   ]
  },
  {
   "cell_type": "code",
   "execution_count": 6,
   "id": "34082877",
   "metadata": {},
   "outputs": [
    {
     "name": "stdout",
     "output_type": "stream",
     "text": [
      "Настоящее среднее: 11.000\n",
      "Выборочное среднее: 11.030\n",
      "Выборочная дисперсия: 5.109\n",
      "Выборочное стандартное отклонение: 2.260\n",
      "Стандартное отклонение: 2.225\n"
     ]
    }
   ],
   "source": [
    "print('Настоящее среднее: %.3f' % binom.mean())\n",
    "print('Выборочное среднее: %.3f' % sample3.mean())\n",
    "print('Выборочная дисперсия: %.3f' % sample3.var())\n",
    "print('Выборочное стандартное отклонение: %.3f' % sample3.std())\n",
    "print('Стандартное отклонение: %.3f' % binom.std())"
   ]
  },
  {
   "cell_type": "markdown",
   "id": "612e9450",
   "metadata": {},
   "source": [
    "### Постройте гистограмму выборки и теоретическую плотность распределения"
   ]
  },
  {
   "cell_type": "code",
   "execution_count": 7,
   "id": "d6fee182",
   "metadata": {},
   "outputs": [
    {
     "data": {
      "text/plain": [
       "<matplotlib.legend.Legend at 0x7fe788a5e5e0>"
      ]
     },
     "execution_count": 7,
     "metadata": {},
     "output_type": "execute_result"
    },
    {
     "data": {
      "image/png": "[encoded data removed]",
      "text/plain": [
       "<Figure size 432x288 with 1 Axes>"
      ]
     },
     "metadata": {
      "needs_background": "light"
     },
     "output_type": "display_data"
    }
   ],
   "source": [
    "plt.hist(sample, bins=15, density=True)\n",
    "x = np.linspace(-4,4,100)\n",
    "pdf = cosine_rv.pdf(x)\n",
    "plt.plot(x, pdf, label='теоретическая плотность', alpha=0.5)\n",
    "plt.legend()"
   ]
  },
  {
   "cell_type": "code",
   "execution_count": 8,
   "id": "dc2fb756",
   "metadata": {},
   "outputs": [
    {
     "data": {
      "text/plain": [
       "<matplotlib.legend.Legend at 0x7fe7c96e9130>"
      ]
     },
     "execution_count": 8,
     "metadata": {},
     "output_type": "execute_result"
    },
    {
     "data": {
      "image/png": "[encoded data removed]",
      "text/plain": [
       "<Figure size 432x288 with 1 Axes>"
      ]
     },
     "metadata": {
      "needs_background": "light"
     },
     "output_type": "display_data"
    }
   ],
   "source": [
    "# ваш код тут\n",
    "plt.hist(sample2, density=True)\n",
    "x = np.linspace(-1,1,2)\n",
    "pdf = bernul.pmf(x)\n",
    "\n",
    "plt.plot(x, pdf, label='теоретическая плотность', alpha=0.5)\n",
    "plt.legend()"
   ]
  },
  {
   "cell_type": "code",
   "execution_count": 9,
   "id": "1ee75a26",
   "metadata": {},
   "outputs": [
    {
     "data": {
      "text/plain": [
       "<matplotlib.legend.Legend at 0x7fe788b35790>"
      ]
     },
     "execution_count": 9,
     "metadata": {},
     "output_type": "execute_result"
    },
    {
     "data": {
      "image/png": "[encoded data removed]",
      "text/plain": [
       "<Figure size 432x288 with 1 Axes>"
      ]
     },
     "metadata": {
      "needs_background": "light"
     },
     "output_type": "display_data"
    }
   ],
   "source": [
    "plt.hist(sample3, bins=10, density=True)\n",
    "x = np.linspace(-1,20,100)\n",
    "pdf = binom.pmf(x)\n",
    "plt.plot(x, pdf, label='теоретическая плотность', alpha=0.5)\n",
    "plt.legend()"
   ]
  },
  {
   "cell_type": "code",
   "execution_count": 10,
   "id": "010d7e26",
   "metadata": {},
   "outputs": [
    {
     "data": {
      "text/plain": [
       "<matplotlib.legend.Legend at 0x7fe77861fc10>"
      ]
     },
     "execution_count": 10,
     "metadata": {},
     "output_type": "execute_result"
    },
    {
     "data": {
      "image/png": "[encoded data removed]",
      "text/plain": [
       "<Figure size 432x288 with 1 Axes>"
      ]
     },
     "metadata": {
      "needs_background": "light"
     },
     "output_type": "display_data"
    }
   ],
   "source": [
    "norm = sts.norm()\n",
    "sample4 = norm.rvs(100)\n",
    "\n",
    "plt.hist(sample4, density=True)\n",
    "x = np.linspace(-4,4,100)\n",
    "pdf = norm.pdf(x)\n",
    "plt.plot(x, pdf, label='теоретическая плотность', alpha=0.5)\n",
    "plt.legend()"
   ]
  },
  {
   "cell_type": "markdown",
   "id": "3c696c81",
   "metadata": {},
   "source": [
    "### Оценим распределение выборочного среднего для разных объёмов выборок\n",
    "Для этого постройте на одном полотне гистограмму выборочных средних и теоретическое распределение выборочных средних по ЦПТ для разных объёмов выборок.\n",
    "\n",
    "Для теоретического распределение используйте настоящие значения мат ожидания и дисперсии (не приближенные на основе выборки)."
   ]
  },
  {
   "cell_type": "code",
   "execution_count": 11,
   "id": "bdd72b6c",
   "metadata": {},
   "outputs": [
    {
     "data": {
      "image/png": "[encoded data removed]",
      "text/plain": [
       "<Figure size 1152x648 with 1 Axes>"
      ]
     },
     "metadata": {
      "needs_background": "light"
     },
     "output_type": "display_data"
    }
   ],
   "source": [
    "plt.figure(figsize=(16,9))\n",
    "for N in [50, 100, 200]:\n",
    "    means = []\n",
    "    for i in range(100):\n",
    "         means.append(np.mean(norm.rvs(N)))\n",
    "    plt.hist(means, alpha=0.1)\n",
    "plt.legend(['50', '100', '200'])\n",
    "plt.show()"
   ]
  },
  {
   "cell_type": "code",
   "execution_count": 12,
   "id": "7fcfabeb",
   "metadata": {},
   "outputs": [
    {
     "data": {
      "text/plain": [
       "array([-0.56874006,  0.21850339, -0.74589424, -1.21130579,  1.05689301,\n",
       "       -1.1518235 , -1.37697352,  1.03886261,  1.34871105,  0.71765346,\n",
       "        1.58384715, -1.24190824,  1.04954444, -0.17386567, -0.83406391,\n",
       "       -1.51853805,  1.50833426, -1.49886905, -1.20094445,  0.15958101,\n",
       "       -1.09111455, -0.39801577,  1.51906396, -0.35058696,  1.37740297,\n",
       "        1.47781483, -1.01328544, -0.96544476, -0.37703526,  0.6527848 ,\n",
       "        1.21179756,  2.03519404, -0.77667283,  1.96060426, -0.05018297,\n",
       "       -0.85834555,  0.80247937,  2.55894373, -0.52641429,  0.72910128,\n",
       "        0.54908848, -1.46153677, -0.82354383, -1.6800561 , -1.25283307,\n",
       "       -0.97183398, -0.27842418, -1.44313105,  0.83996039,  0.42870874,\n",
       "       -0.91701186, -1.01265714, -0.59567818, -1.58068857, -1.9528441 ,\n",
       "       -0.50744098,  0.47104706, -1.53022104,  2.46193559,  0.63636012,\n",
       "       -0.02764023, -1.32585928, -0.21343277, -0.51844376, -0.26113565,\n",
       "        1.65611931,  0.99272593, -1.30956206,  2.11765803, -1.27858778,\n",
       "       -0.74379175,  0.10093446, -1.36679   , -0.22796341, -2.0196434 ,\n",
       "        0.52697145,  1.23107086,  0.73663073, -2.06716139, -1.00038122,\n",
       "        0.66949812, -0.72942694,  0.98799924,  0.69809847,  1.22498124,\n",
       "        0.2549985 ,  0.86987028, -2.20293766, -0.70033416,  0.07428096,\n",
       "        0.44430346, -0.56347147,  1.59597017,  1.82742541,  1.86922215,\n",
       "        1.22251555,  1.03737372,  0.36449698,  0.93483591,  0.95143777])"
      ]
     },
     "execution_count": 12,
     "metadata": {},
     "output_type": "execute_result"
    }
   ],
   "source": [
    "# 1. Сгенерируйте последовательность 100...1000 значений из любого распределения \n",
    "cosine_rv = sts.cosine()\n",
    "sam = cosine_rv.rvs(100)\n",
    "sam"
   ]
  },
  {
   "cell_type": "code",
   "execution_count": 13,
   "id": "cfa345be",
   "metadata": {},
   "outputs": [],
   "source": [
    "# 2. Из этой последовательности выбирайте по N случайных значений 1000+ раз, \n",
    "# в каждой выборке считайте среднее и запоминайте\n",
    "means = []\n",
    "for N in [50, 100, 250, 500]:\n",
    "    for i in range(1000):\n",
    "         means.append(np.mean(np.random.choice(sam, N)))"
   ]
  },
  {
   "cell_type": "code",
   "execution_count": 14,
   "id": "d17094d6",
   "metadata": {},
   "outputs": [
    {
     "name": "stdout",
     "output_type": "stream",
     "text": [
      "0.002706897811397403\n",
      "0.005767854321387769\n",
      "0.0035813508381411867\n",
      "0.0028513047528669054\n"
     ]
    }
   ],
   "source": [
    "print(np.mean(means[:1000]))\n",
    "print(np.mean(means[1000:2000]))\n",
    "print(np.mean(means[2000:3000]))\n",
    "print(np.mean(means[3000:4000]))"
   ]
  },
  {
   "cell_type": "code",
   "execution_count": 15,
   "id": "d04d3e3b",
   "metadata": {},
   "outputs": [
    {
     "data": {
      "image/png": "[encoded data removed]",
      "text/plain": [
       "<Figure size 432x288 with 1 Axes>"
      ]
     },
     "metadata": {
      "needs_background": "light"
     },
     "output_type": "display_data"
    }
   ],
   "source": [
    "# 3. Изобразите распределение полученных средних\n",
    "plt.hist(means[:1000], alpha=0.1, label='50')\n",
    "plt.hist(means[1000:2000], alpha=0.1, label='100')\n",
    "plt.hist(means[2000:3000], alpha=0.1, label='250')\n",
    "plt.hist(means[2000:3000], alpha=0.1, label='500')\n",
    "plt.legend(['50', '100', '250', '500'])\n",
    "plt.show()"
   ]
  },
  {
   "cell_type": "code",
   "execution_count": 17,
   "id": "35157820",
   "metadata": {},
   "outputs": [],
   "source": [
    "# 4. Сравните для разных N\n",
    "# Чем больше выборка (N) тем больше средние значения выборки приближены к одному значению"
   ]
  },
  {
   "cell_type": "markdown",
   "id": "31999a74",
   "metadata": {},
   "source": [
    "## Доверительный интервал на основе ЦПТ\n",
    "Возьмите данные для оттока телеком компании, и постройте доверительные интервалы для среднего значения total day calls, используя центральную предельную теорему в разбиении по колонке churn (ушел/не ушел).\n",
    "\n",
    "Для оценки дисперсии используйте несмещенную оценку (параметр ddof=1).\n",
    "\n",
    "Сделайте оценку с использованием явной формулы для z интервала, а затем с помощью функций from statsmodels.stats.weightstats import _zconfint_generic. Сравните результаты.\n",
    "\n",
    "Ссылка на данные: https://drive.google.com/file/d/1X_drKqoarnU2Sz2har7uSCsgyhh8Xtz8/view?usp=sharing"
   ]
  },
  {
   "cell_type": "code",
   "execution_count": 18,
   "id": "fe994591",
   "metadata": {},
   "outputs": [
    {
     "data": {
      "text/html": [
       "<div>\n",
       "<style scoped>\n",
       "    .dataframe tbody tr th:only-of-type {\n",
       "        vertical-align: middle;\n",
       "    }\n",
       "\n",
       "    .dataframe tbody tr th {\n",
       "        vertical-align: top;\n",
       "    }\n",
       "\n",
       "    .dataframe thead th {\n",
       "        text-align: right;\n",
       "    }\n",
       "</style>\n",
       "<table border=\"1\" class=\"dataframe\">\n",
       "  <thead>\n",
       "    <tr style=\"text-align: right;\">\n",
       "      <th></th>\n",
       "      <th>state</th>\n",
       "      <th>account length</th>\n",
       "      <th>area code</th>\n",
       "      <th>phone number</th>\n",
       "      <th>international plan</th>\n",
       "      <th>voice mail plan</th>\n",
       "      <th>number vmail messages</th>\n",
       "      <th>total day minutes</th>\n",
       "      <th>total day calls</th>\n",
       "      <th>total day charge</th>\n",
       "      <th>...</th>\n",
       "      <th>total eve calls</th>\n",
       "      <th>total eve charge</th>\n",
       "      <th>total night minutes</th>\n",
       "      <th>total night calls</th>\n",
       "      <th>total night charge</th>\n",
       "      <th>total intl minutes</th>\n",
       "      <th>total intl calls</th>\n",
       "      <th>total intl charge</th>\n",
       "      <th>customer service calls</th>\n",
       "      <th>churn</th>\n",
       "    </tr>\n",
       "  </thead>\n",
       "  <tbody>\n",
       "    <tr>\n",
       "      <th>0</th>\n",
       "      <td>KS</td>\n",
       "      <td>128</td>\n",
       "      <td>415</td>\n",
       "      <td>382-4657</td>\n",
       "      <td>no</td>\n",
       "      <td>yes</td>\n",
       "      <td>25</td>\n",
       "      <td>265.1</td>\n",
       "      <td>110</td>\n",
       "      <td>45.07</td>\n",
       "      <td>...</td>\n",
       "      <td>99</td>\n",
       "      <td>16.78</td>\n",
       "      <td>244.7</td>\n",
       "      <td>91</td>\n",
       "      <td>11.01</td>\n",
       "      <td>10.0</td>\n",
       "      <td>3</td>\n",
       "      <td>2.70</td>\n",
       "      <td>1</td>\n",
       "      <td>False</td>\n",
       "    </tr>\n",
       "    <tr>\n",
       "      <th>1</th>\n",
       "      <td>OH</td>\n",
       "      <td>107</td>\n",
       "      <td>415</td>\n",
       "      <td>371-7191</td>\n",
       "      <td>no</td>\n",
       "      <td>yes</td>\n",
       "      <td>26</td>\n",
       "      <td>161.6</td>\n",
       "      <td>123</td>\n",
       "      <td>27.47</td>\n",
       "      <td>...</td>\n",
       "      <td>103</td>\n",
       "      <td>16.62</td>\n",
       "      <td>254.4</td>\n",
       "      <td>103</td>\n",
       "      <td>11.45</td>\n",
       "      <td>13.7</td>\n",
       "      <td>3</td>\n",
       "      <td>3.70</td>\n",
       "      <td>1</td>\n",
       "      <td>False</td>\n",
       "    </tr>\n",
       "    <tr>\n",
       "      <th>2</th>\n",
       "      <td>NJ</td>\n",
       "      <td>137</td>\n",
       "      <td>415</td>\n",
       "      <td>358-1921</td>\n",
       "      <td>no</td>\n",
       "      <td>no</td>\n",
       "      <td>0</td>\n",
       "      <td>243.4</td>\n",
       "      <td>114</td>\n",
       "      <td>41.38</td>\n",
       "      <td>...</td>\n",
       "      <td>110</td>\n",
       "      <td>10.30</td>\n",
       "      <td>162.6</td>\n",
       "      <td>104</td>\n",
       "      <td>7.32</td>\n",
       "      <td>12.2</td>\n",
       "      <td>5</td>\n",
       "      <td>3.29</td>\n",
       "      <td>0</td>\n",
       "      <td>False</td>\n",
       "    </tr>\n",
       "    <tr>\n",
       "      <th>3</th>\n",
       "      <td>OH</td>\n",
       "      <td>84</td>\n",
       "      <td>408</td>\n",
       "      <td>375-9999</td>\n",
       "      <td>yes</td>\n",
       "      <td>no</td>\n",
       "      <td>0</td>\n",
       "      <td>299.4</td>\n",
       "      <td>71</td>\n",
       "      <td>50.90</td>\n",
       "      <td>...</td>\n",
       "      <td>88</td>\n",
       "      <td>5.26</td>\n",
       "      <td>196.9</td>\n",
       "      <td>89</td>\n",
       "      <td>8.86</td>\n",
       "      <td>6.6</td>\n",
       "      <td>7</td>\n",
       "      <td>1.78</td>\n",
       "      <td>2</td>\n",
       "      <td>False</td>\n",
       "    </tr>\n",
       "    <tr>\n",
       "      <th>4</th>\n",
       "      <td>OK</td>\n",
       "      <td>75</td>\n",
       "      <td>415</td>\n",
       "      <td>330-6626</td>\n",
       "      <td>yes</td>\n",
       "      <td>no</td>\n",
       "      <td>0</td>\n",
       "      <td>166.7</td>\n",
       "      <td>113</td>\n",
       "      <td>28.34</td>\n",
       "      <td>...</td>\n",
       "      <td>122</td>\n",
       "      <td>12.61</td>\n",
       "      <td>186.9</td>\n",
       "      <td>121</td>\n",
       "      <td>8.41</td>\n",
       "      <td>10.1</td>\n",
       "      <td>3</td>\n",
       "      <td>2.73</td>\n",
       "      <td>3</td>\n",
       "      <td>False</td>\n",
       "    </tr>\n",
       "  </tbody>\n",
       "</table>\n",
       "<p>5 rows × 21 columns</p>\n",
       "</div>"
      ],
      "text/plain": [
       "  state  account length  area code phone number international plan  \\\n",
       "0    KS             128        415     382-4657                 no   \n",
       "1    OH             107        415     371-7191                 no   \n",
       "2    NJ             137        415     358-1921                 no   \n",
       "3    OH              84        408     375-9999                yes   \n",
       "4    OK              75        415     330-6626                yes   \n",
       "\n",
       "  voice mail plan  number vmail messages  total day minutes  total day calls  \\\n",
       "0             yes                     25              265.1              110   \n",
       "1             yes                     26              161.6              123   \n",
       "2              no                      0              243.4              114   \n",
       "3              no                      0              299.4               71   \n",
       "4              no                      0              166.7              113   \n",
       "\n",
       "   total day charge  ...  total eve calls  total eve charge  \\\n",
       "0             45.07  ...               99             16.78   \n",
       "1             27.47  ...              103             16.62   \n",
       "2             41.38  ...              110             10.30   \n",
       "3             50.90  ...               88              5.26   \n",
       "4             28.34  ...              122             12.61   \n",
       "\n",
       "   total night minutes  total night calls  total night charge  \\\n",
       "0                244.7                 91               11.01   \n",
       "1                254.4                103               11.45   \n",
       "2                162.6                104                7.32   \n",
       "3                196.9                 89                8.86   \n",
       "4                186.9                121                8.41   \n",
       "\n",
       "   total intl minutes  total intl calls  total intl charge  \\\n",
       "0                10.0                 3               2.70   \n",
       "1                13.7                 3               3.70   \n",
       "2                12.2                 5               3.29   \n",
       "3                 6.6                 7               1.78   \n",
       "4                10.1                 3               2.73   \n",
       "\n",
       "   customer service calls  churn  \n",
       "0                       1  False  \n",
       "1                       1  False  \n",
       "2                       0  False  \n",
       "3                       2  False  \n",
       "4                       3  False  \n",
       "\n",
       "[5 rows x 21 columns]"
      ]
     },
     "execution_count": 18,
     "metadata": {},
     "output_type": "execute_result"
    }
   ],
   "source": [
    "# либо загружаем из альтернативного хранилища\n",
    "url =\"https://raw.githubusercontent.com/piton1/DS/Lesson_5/telecom_churn.csv\"\n",
    "df=pd.read_csv(url)\n",
    "df.head()"
   ]
  },
  {
   "cell_type": "code",
   "execution_count": 19,
   "id": "f51388d5",
   "metadata": {},
   "outputs": [
    {
     "name": "stdout",
     "output_type": "stream",
     "text": [
      "<class 'pandas.core.frame.DataFrame'>\n",
      "RangeIndex: 3333 entries, 0 to 3332\n",
      "Data columns (total 21 columns):\n",
      " #   Column                  Non-Null Count  Dtype  \n",
      "---  ------                  --------------  -----  \n",
      " 0   state                   3333 non-null   object \n",
      " 1   account length          3333 non-null   int64  \n",
      " 2   area code               3333 non-null   int64  \n",
      " 3   phone number            3333 non-null   object \n",
      " 4   international plan      3333 non-null   object \n",
      " 5   voice mail plan         3333 non-null   object \n",
      " 6   number vmail messages   3333 non-null   int64  \n",
      " 7   total day minutes       3333 non-null   float64\n",
      " 8   total day calls         3333 non-null   int64  \n",
      " 9   total day charge        3333 non-null   float64\n",
      " 10  total eve minutes       3333 non-null   float64\n",
      " 11  total eve calls         3333 non-null   int64  \n",
      " 12  total eve charge        3333 non-null   float64\n",
      " 13  total night minutes     3333 non-null   float64\n",
      " 14  total night calls       3333 non-null   int64  \n",
      " 15  total night charge      3333 non-null   float64\n",
      " 16  total intl minutes      3333 non-null   float64\n",
      " 17  total intl calls        3333 non-null   int64  \n",
      " 18  total intl charge       3333 non-null   float64\n",
      " 19  customer service calls  3333 non-null   int64  \n",
      " 20  churn                   3333 non-null   bool   \n",
      "dtypes: bool(1), float64(8), int64(8), object(4)\n",
      "memory usage: 524.2+ KB\n"
     ]
    }
   ],
   "source": [
    "df.info()"
   ]
  },
  {
   "cell_type": "code",
   "execution_count": 20,
   "id": "bf10963a",
   "metadata": {},
   "outputs": [],
   "source": [
    "true = df[df['churn']==True].groupby('total day calls')['churn'].count()\n",
    "false = df[df['churn']==False].groupby('total day calls')['churn'].count()"
   ]
  },
  {
   "cell_type": "code",
   "execution_count": 21,
   "id": "f217fa24",
   "metadata": {},
   "outputs": [
    {
     "data": {
      "text/plain": [
       "98"
      ]
     },
     "execution_count": 21,
     "metadata": {},
     "output_type": "execute_result"
    }
   ],
   "source": [
    "len(true)"
   ]
  },
  {
   "cell_type": "code",
   "execution_count": 22,
   "id": "cf901f59",
   "metadata": {},
   "outputs": [
    {
     "data": {
      "text/plain": [
       "117"
      ]
     },
     "execution_count": 22,
     "metadata": {},
     "output_type": "execute_result"
    }
   ],
   "source": [
    "len(false)"
   ]
  },
  {
   "cell_type": "code",
   "execution_count": 23,
   "id": "86c711f2",
   "metadata": {},
   "outputs": [
    {
     "name": "stdout",
     "output_type": "stream",
     "text": [
      "Настоящее среднее: 4.929\n",
      "Стандартное отклонение: 3.494\n"
     ]
    }
   ],
   "source": [
    "# Уволившиеся\n",
    "print('Настоящее среднее: %.3f' % true.mean())\n",
    "print('Стандартное отклонение: %.3f' % true.std())"
   ]
  },
  {
   "cell_type": "code",
   "execution_count": 24,
   "id": "82a81519",
   "metadata": {},
   "outputs": [
    {
     "name": "stdout",
     "output_type": "stream",
     "text": [
      "Доверительный интервал для среднего по цпт, если нам известна дисперсия: [4.2367011111835, 5.620441745959358] \n",
      "Доверительный интервал для среднего по цпт интервальная оценка: (4.2367138244629405, 5.620429032679917) \n",
      "Доверительный интервал для среднего по цпт методом _zconfint_generic: (4.709444298168576, 5.147698558974282) \n"
     ]
    }
   ],
   "source": [
    "import statsmodels.stats.weightstats as ssw\n",
    "\n",
    "N = len(true)\n",
    "print(\"Доверительный интервал для среднего по цпт, если нам известна дисперсия: [{}, {}] \".format(\n",
    "    np.mean(true) - 1.96 * true.std() / np.sqrt(N), np.mean(true) + 1.96 * true.std() / np.sqrt(N) \n",
    "))\n",
    "print(\"Доверительный интервал для среднего по цпт интервальная оценка: {} \".format(\n",
    "    sts.norm.interval(alpha=0.95, loc=np.mean(true), \n",
    "                      scale=np.std(true, ddof=1)/np.sqrt(N)) # alternative 'two-sided' only\n",
    "))\n",
    "\n",
    "print(\"Доверительный интервал для среднего по цпт методом _zconfint_generic: {} \".format(\n",
    "    ssw._zconfint_generic(np.mean(true),  np.std(true, ddof=1), alpha=0.95, alternative='two-sided')\n",
    "))"
   ]
  },
  {
   "cell_type": "code",
   "execution_count": null,
   "id": "02b6c719",
   "metadata": {},
   "outputs": [],
   "source": []
  },
  {
   "cell_type": "code",
   "execution_count": 25,
   "id": "b9f6337a",
   "metadata": {},
   "outputs": [
    {
     "name": "stdout",
     "output_type": "stream",
     "text": [
      "Настоящее среднее: 24.359\n",
      "Стандартное отклонение: 20.665\n"
     ]
    }
   ],
   "source": [
    "# Работающие\n",
    "print('Настоящее среднее: %.3f' % false.mean())\n",
    "print('Стандартное отклонение: %.3f' % false.std())"
   ]
  },
  {
   "cell_type": "code",
   "execution_count": 26,
   "id": "082941d2",
   "metadata": {},
   "outputs": [
    {
     "name": "stdout",
     "output_type": "stream",
     "text": [
      "Доверительный интервал для среднего по цпт, если нам известна дисперсия: [20.61435717017122, 28.103591547777494] \n",
      "Доверительный интервал для среднего по цпт интервальная оценка: (20.614425978390802, 28.103522739557913) \n",
      "Доверительный интервал для среднего по цпт методом _zconfint_generic: (23.063112307365934, 25.65483641058278) \n"
     ]
    }
   ],
   "source": [
    "import statsmodels.stats.weightstats as ssw\n",
    "\n",
    "N = len(false)\n",
    "print(\"Доверительный интервал для среднего по цпт, если нам известна дисперсия: [{}, {}] \".format(\n",
    "    np.mean(false) - 1.96 * false.std() / np.sqrt(N), np.mean(false) + 1.96 * false.std() / np.sqrt(N) \n",
    "))\n",
    "print(\"Доверительный интервал для среднего по цпт интервальная оценка: {} \".format(\n",
    "    sts.norm.interval(alpha=0.95, loc=np.mean(false), \n",
    "                      scale=np.std(false, ddof=1)/np.sqrt(N)) # alternative 'two-sided' only\n",
    "))\n",
    "\n",
    "print(\"Доверительный интервал для среднего по цпт методом _zconfint_generic: {} \".format(\n",
    "    ssw._zconfint_generic(np.mean(false),  np.std(false, ddof=1), alpha=0.95, alternative='two-sided')\n",
    "))"
   ]
  },
  {
   "cell_type": "code",
   "execution_count": null,
   "id": "2ba0a922",
   "metadata": {},
   "outputs": [],
   "source": []
  },
  {
   "cell_type": "code",
   "execution_count": 29,
   "id": "e9e03fff",
   "metadata": {},
   "outputs": [
    {
     "data": {
      "text/plain": [
       "12.211340206185563"
      ]
     },
     "execution_count": 29,
     "metadata": {},
     "output_type": "execute_result"
    }
   ],
   "source": [
    "def variance(data, ddof=0): \n",
    "    n = len(data) \n",
    "    mean = sum(data) / n \n",
    "    return sum((x - mean) ** 2 for x in data) / (n - ddof)\n",
    "\n",
    "variance(true, ddof=1)\n"
   ]
  },
  {
   "cell_type": "code",
   "execution_count": 30,
   "id": "1c77c1a6",
   "metadata": {},
   "outputs": [
    {
     "data": {
      "text/plain": [
       "(20.598320319632037, 28.119628398316678)"
      ]
     },
     "execution_count": 30,
     "metadata": {},
     "output_type": "execute_result"
    }
   ],
   "source": [
    "from statistics import NormalDist\n",
    "\n",
    "def confidence_interval(data, confidence=0.95):\n",
    "  dist = NormalDist.from_samples(data)\n",
    "  z = NormalDist().inv_cdf((1 + confidence) / 2.)\n",
    "  h = dist.stdev * z / ((len(data) - 1) ** .5)\n",
    "  return dist.mean - h, dist.mean + h\n",
    "\n",
    "confidence_interval(false)"
   ]
  },
  {
   "cell_type": "code",
   "execution_count": null,
   "id": "ff62db83",
   "metadata": {},
   "outputs": [],
   "source": []
  }
 ],
 "metadata": {
  "kernelspec": {
   "display_name": "Python 3 (ipykernel)",
   "language": "python",
   "name": "python3"
  },
  "language_info": {
   "codemirror_mode": {
    "name": "ipython",
    "version": 3
   },
   "file_extension": ".py",
   "mimetype": "text/x-python",
   "name": "python",
   "nbconvert_exporter": "python",
   "pygments_lexer": "ipython3",
   "version": "3.9.12"
  }
 },
 "nbformat": 4,
 "nbformat_minor": 5
}
