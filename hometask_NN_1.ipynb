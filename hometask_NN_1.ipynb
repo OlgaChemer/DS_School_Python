{
 "cells": [
  {
   "cell_type": "markdown",
   "id": "e594a61a",
   "metadata": {},
   "source": [
    "### Написать на PyTorch forward и backward полносвязного слоя без использования autograd\n"
   ]
  },
  {
   "cell_type": "code",
   "execution_count": 1,
   "id": "32878519",
   "metadata": {},
   "outputs": [],
   "source": [
    "# !pip install torch"
   ]
  },
  {
   "cell_type": "code",
   "execution_count": 2,
   "id": "0ae42c94",
   "metadata": {},
   "outputs": [
    {
     "data": {
      "text/plain": [
       "torch.Size([3])"
      ]
     },
     "execution_count": 2,
     "metadata": {},
     "output_type": "execute_result"
    }
   ],
   "source": [
    "import torch\n",
    "import numpy as np\n",
    "import torch.nn as nn\n",
    "\n",
    "tensor = torch.tensor([1, 2, 3]).float()\n",
    "\n",
    "tensor.size()"
   ]
  },
  {
   "cell_type": "code",
   "execution_count": 3,
   "id": "99aa6c19",
   "metadata": {},
   "outputs": [
    {
     "data": {
      "text/plain": [
       "0.18483627770751276"
      ]
     },
     "execution_count": 3,
     "metadata": {},
     "output_type": "execute_result"
    }
   ],
   "source": [
    "tensor.dim() # число измерений\n",
    "np.random.random()"
   ]
  },
  {
   "cell_type": "code",
   "execution_count": 4,
   "id": "1f13c607",
   "metadata": {},
   "outputs": [],
   "source": [
    "zeros = torch.zeros((3,2,4))"
   ]
  },
  {
   "cell_type": "code",
   "execution_count": 5,
   "id": "97428418",
   "metadata": {},
   "outputs": [],
   "source": [
    "class MyLayer(nn.Module):\n",
    "    def __init__(self, tensor):\n",
    "        super().__init__()\n",
    "        self.params = nn.parameter.Parameter( Tensor = tensor, requires_grad = False)\n",
    "       \n",
    "    def forward(self, x):\n",
    "        return x * self.params\n",
    "\n",
    "    def backward(self, grad):\n",
    "        return tensor.backward(grad)"
   ]
  },
  {
   "cell_type": "markdown",
   "id": "87d92a83",
   "metadata": {},
   "source": [
    "### Написать 1-2 адаптивных оптимизатора\n"
   ]
  },
  {
   "cell_type": "code",
   "execution_count": 6,
   "id": "bcf6286c",
   "metadata": {},
   "outputs": [],
   "source": [
    "class Adagrad:\n",
    "    def __init__(self, lr, model):\n",
    "        self.accumulated = torch.zeros_like(model)\n",
    "        self.lr = lr\n",
    "        self.adapt_lr = lr\n",
    "        self.model = model\n",
    "\n",
    "    def step(self, grad):\n",
    "        self.accumulated += grad**2\n",
    "        self.adapt_lr = self.lr / torch.sqrt(self.accumulated)\n",
    "        self.model -= self.adapt_lr * grad"
   ]
  },
  {
   "cell_type": "code",
   "execution_count": 7,
   "id": "42765fff",
   "metadata": {},
   "outputs": [],
   "source": [
    "class RMSprop:\n",
    "    def __init__(self, rho, lr, model):\n",
    "        self.accumulated = torch.zeros_like(model)\n",
    "        self.rho = rho\n",
    "        self.lr = lr\n",
    "        self.adapt_lr = lr\n",
    "        self.model = model\n",
    "\n",
    "    def step(self, grad):\n",
    "        self.accumulated += self.rho * self.accumulated + (1 - self.rho) * grad**2\n",
    "        self.adapt_lr = self.lr / torch.sqrt(self.accumulated)\n",
    "        self.model -= self.adapt_lr * grad"
   ]
  },
  {
   "cell_type": "markdown",
   "id": "efba32ab",
   "metadata": {},
   "source": [
    "### Решить задачу нахождения корней квадратного уравнения методом градиентного спуска"
   ]
  },
  {
   "cell_type": "code",
   "execution_count": 8,
   "id": "91570564",
   "metadata": {},
   "outputs": [],
   "source": [
    "a, b, c = 5, 2, -3\n",
    "\n",
    "g = lambda x: (2*a*x + b)\n",
    "\n",
    "def gradient_boosting(num):\n",
    "    x = torch.tensor(num, dtype=torch.float32)\n",
    "    grad = g(x)\n",
    "    opt = Adagrad(0.001, x)\n",
    "    for i in range(100):\n",
    "        opt.step(grad)\n",
    "        grad = g(opt.model)\n",
    "    print(opt.model)\n"
   ]
  },
  {
   "cell_type": "code",
   "execution_count": 9,
   "id": "0353038c",
   "metadata": {},
   "outputs": [
    {
     "name": "stdout",
     "output_type": "stream",
     "text": [
      "tensor(6.9814)\n"
     ]
    }
   ],
   "source": [
    "gradient_boosting(7)"
   ]
  },
  {
   "cell_type": "code",
   "execution_count": null,
   "id": "cc205a1f",
   "metadata": {},
   "outputs": [],
   "source": []
  }
 ],
 "metadata": {
  "kernelspec": {
   "display_name": "Python 3 (ipykernel)",
   "language": "python",
   "name": "python3"
  },
  "language_info": {
   "codemirror_mode": {
    "name": "ipython",
    "version": 3
   },
   "file_extension": ".py",
   "mimetype": "text/x-python",
   "name": "python",
   "nbconvert_exporter": "python",
   "pygments_lexer": "ipython3",
   "version": "3.9.12"
  }
 },
 "nbformat": 4,
 "nbformat_minor": 5
}
