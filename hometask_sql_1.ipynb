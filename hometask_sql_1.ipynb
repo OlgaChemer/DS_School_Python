{
 "cells": [
  {
   "cell_type": "markdown",
   "id": "0e28ec2a",
   "metadata": {},
   "source": [
    "#### 1. Выберите заказчиков из Германии, Франции и Мадрида, выведите их название, страну и адрес.\n"
   ]
  },
  {
   "cell_type": "code",
   "execution_count": null,
   "id": "094768dc",
   "metadata": {},
   "outputs": [],
   "source": [
    "query = \"\"\"\n",
    "SELECT CustomerName, Country, Address FROM Customers\n",
    "WHERE (Country IN ('Germany', 'France') OR City = 'Madrid'); \n",
    "\"\"\""
   ]
  },
  {
   "cell_type": "markdown",
   "id": "b944cbd3",
   "metadata": {},
   "source": [
    "#### 2. Выберите топ 3 страны по количеству заказчиков, выведите их названия и количество записей.\n"
   ]
  },
  {
   "cell_type": "code",
   "execution_count": null,
   "id": "9ccfacf5",
   "metadata": {},
   "outputs": [],
   "source": [
    "query = \"\"\"\n",
    "SELECT Country, count(Country) as cnt FROM Customers\n",
    "GROUP BY Country\n",
    "ORDER BY cnt DESC\n",
    "LIMIT 3; \n",
    "\"\"\""
   ]
  },
  {
   "cell_type": "markdown",
   "id": "7c82c566",
   "metadata": {},
   "source": [
    "#### 3. Выберите перевозчика, который отправил 10-й по времени заказ, выведите его название, и дату отправления.\n"
   ]
  },
  {
   "cell_type": "code",
   "execution_count": null,
   "id": "edb1a224",
   "metadata": {},
   "outputs": [],
   "source": [
    "query = \"\"\"\n",
    "SELECT\n",
    "\t\t  ShipperName\n",
    "\t\t, OrderDate\n",
    "        , ROW_NUMBER() OVER(ORDER BY OrderDate) as rnum\n",
    "FROM Orders\n",
    "JOIN Shippers ON Orders.ShipperID = Shippers.ShipperID\n",
    "WHERE rnum = 10\n",
    "\"\"\""
   ]
  },
  {
   "cell_type": "markdown",
   "id": "87bf6314",
   "metadata": {},
   "source": [
    "#### 4. Выберите самый дорогой заказ, выведите список товаров с их ценами.\n"
   ]
  },
  {
   "cell_type": "code",
   "execution_count": null,
   "id": "50ea3f26",
   "metadata": {},
   "outputs": [],
   "source": [
    "query = \"\"\"\n",
    "SELECT\n",
    "\t\tp.ProductName,\n",
    "        p.price,\n",
    "        od.Quantity,\n",
    "\t\tp.price * od.Quantity AS total_cost \n",
    "FROM Products p\n",
    "JOIN OrderDetails od ON od.ProductID = p.ProductID\n",
    "where OrderID = (\n",
    "                  SELECT OrderID FROM (\n",
    "                                        SELECT    od.OrderID, \n",
    "                                                  (p.price * od.Quantity) AS cost\n",
    "                                        FROM OrderDetails od\n",
    "                                        JOIN Products p ON od.ProductID = p.ProductID\n",
    "                                        GROUP BY od.OrderID\n",
    "                                        ORDER BY cost DESC\n",
    "                                        LIMIT 1\n",
    "                                        ) a\n",
    "                                        )\n",
    "\n",
    "\"\"\""
   ]
  },
  {
   "cell_type": "markdown",
   "id": "4f3e4c90",
   "metadata": {},
   "source": [
    "#### 5. Какой товар больше всего заказывали по количеству единиц товара, выведите его название и количество единиц в каждом из заказов.\n"
   ]
  },
  {
   "cell_type": "code",
   "execution_count": null,
   "id": "0ad1fc31",
   "metadata": {},
   "outputs": [],
   "source": [
    "query = \"\"\"\n",
    "SELECT\n",
    "\t\tod.OrderID,\n",
    "        p.ProductName,\n",
    "        od.Quantity\n",
    "FROM Products p\n",
    "JOIN OrderDetails od ON od.ProductID = p.ProductID\n",
    "where p.ProductName = (\n",
    "                  SELECT ProductName FROM (\n",
    "                                        SELECT    p.ProductName, \n",
    "                                                  max(od.Quantity) AS max_\n",
    "                                        FROM OrderDetails od\n",
    "                                        JOIN Products p ON od.ProductID = p.ProductID\n",
    "                                        GROUP BY od.ProductID\n",
    "                                        ORDER BY max_ DESC\n",
    "                                        LIMIT 1\n",
    "                                        ) a\n",
    "                                        )\n",
    "\"\"\""
   ]
  },
  {
   "cell_type": "markdown",
   "id": "4b6bfa30",
   "metadata": {},
   "source": [
    "#### 6. Выведите топ 5 поставщиков по количеству заказов, выведите их названия, страну, контактное лицо и телефон.\n"
   ]
  },
  {
   "cell_type": "code",
   "execution_count": null,
   "id": "fb7c5eb7",
   "metadata": {},
   "outputs": [],
   "source": [
    "query = \"\"\"\n",
    "SELECT\n",
    "\t\tSupplierName,\n",
    "        Country,\n",
    "        ContactName,\n",
    "        Phone,\n",
    "        COUNT(od.OrderID) AS cnt\n",
    "FROM Suppliers s\n",
    "JOIN Products p ON p.SupplierID = s.SupplierID\n",
    "JOIN OrderDetails od ON od.ProductID = p.ProductID\n",
    "JOIN Orders o ON o.OrderID = od.OrderID\n",
    "GROUP BY SupplierName,Country,ContactName, Phone\n",
    "ORDER BY cnt DESC\n",
    "LIMIT 5\n",
    "\"\"\""
   ]
  },
  {
   "cell_type": "markdown",
   "id": "8b30ad00",
   "metadata": {},
   "source": [
    "#### 7. Какую категорию товаров заказывали больше всего по стоимости в Бразилии, выведите страну, название категории и сумму.\n"
   ]
  },
  {
   "cell_type": "code",
   "execution_count": null,
   "id": "b6ae253e",
   "metadata": {},
   "outputs": [],
   "source": [
    "query = \"\"\"\n",
    "SELECT\n",
    "        cus.Country,\n",
    "        cat.CategoryName,\n",
    "        SUM(p.price * od.Quantity) AS sum_\n",
    "FROM Products p\n",
    "JOIN Categories cat ON cat.CategoryID = p.CategoryID\n",
    "JOIN OrderDetails od ON od.ProductID = p.ProductID\n",
    "JOIN Orders o ON o.orderID = od.OrderID\n",
    "JOIN Customers cus ON cus.CustomerID = o.CustomerID\n",
    "WHERE 1=1\n",
    "AND Country = 'Brazil'\n",
    "GROUP BY cat.CategoryID\n",
    "ORDER BY sum_ DESC\n",
    "LIMIT 1\n",
    "\"\"\""
   ]
  },
  {
   "cell_type": "markdown",
   "id": "efd7d42d",
   "metadata": {},
   "source": [
    "#### 8. Какая разница в стоимости между самым дорогим и самым дешевым заказом из США.\n"
   ]
  },
  {
   "cell_type": "code",
   "execution_count": null,
   "id": "54b301ba",
   "metadata": {},
   "outputs": [],
   "source": [
    "query = \"\"\"\n",
    "SELECT (SELECT\n",
    "                SUM(p.price * od.Quantity) AS sum_\n",
    "        FROM Products p\n",
    "        JOIN OrderDetails od ON od.ProductID = p.ProductID\n",
    "        JOIN Orders o ON o.orderID = od.OrderID\n",
    "        GROUP BY o.orderID\n",
    "        ORDER BY sum_ DESC\n",
    "        LIMIT 1)\n",
    " - \n",
    "        (SELECT\n",
    "                SUM(p.price * od.Quantity) AS sum_\n",
    "        FROM Products p\n",
    "        JOIN OrderDetails od ON od.ProductID = p.ProductID\n",
    "        JOIN Orders o ON o.orderID = od.OrderID\n",
    "        GROUP BY o.orderID\n",
    "        ORDER BY sum_ \n",
    "        LIMIT 1) \n",
    "\"\"\""
   ]
  },
  {
   "cell_type": "markdown",
   "id": "3eeed1ea",
   "metadata": {},
   "source": [
    "#### 9. Выведите количество заказов у каждого их трех самых молодых сотрудников, а также имя и фамилию во второй колонке.\n"
   ]
  },
  {
   "cell_type": "code",
   "execution_count": null,
   "id": "dea65dff",
   "metadata": {},
   "outputs": [],
   "source": [
    "query = \"\"\"\n",
    "SELECT \n",
    "\t\tCOUNT(o.orderID) AS cnt,\n",
    "        FirstName,\n",
    "        LastName\n",
    "FROM Employees e\n",
    "JOIN Orders o ON o.EmployeeID = e.EmployeeID\n",
    "WHERE BirthDate IN (SELECT BirthDate FROM Employees\n",
    "                    ORDER BY 1 DESC\n",
    "                    LIMIT 3\n",
    "                    )\n",
    "GROUP BY o.EmployeeID  \n",
    "\"\"\""
   ]
  },
  {
   "cell_type": "markdown",
   "id": "e4d1a401",
   "metadata": {},
   "source": [
    "#### 10. Сколько банок крабового мяса всего было заказано."
   ]
  },
  {
   "cell_type": "code",
   "execution_count": null,
   "id": "e2b543a3",
   "metadata": {},
   "outputs": [],
   "source": [
    "query = \"\"\"\n",
    "SELECT SUM(Quantity) \n",
    "FROM Products p\n",
    "JOIN OrderDetails od ON od.ProductID = p.ProductID\n",
    "WHERE 1=1\n",
    "AND ProductName = 'Boston Crab Meat'\n",
    "GROUP BY p.ProductID\n",
    "\"\"\""
   ]
  }
 ],
 "metadata": {
  "kernelspec": {
   "display_name": "Python 3 (ipykernel)",
   "language": "python",
   "name": "python3"
  },
  "language_info": {
   "codemirror_mode": {
    "name": "ipython",
    "version": 3
   },
   "file_extension": ".py",
   "mimetype": "text/x-python",
   "name": "python",
   "nbconvert_exporter": "python",
   "pygments_lexer": "ipython3",
   "version": "3.9.12"
  }
 },
 "nbformat": 4,
 "nbformat_minor": 5
}
