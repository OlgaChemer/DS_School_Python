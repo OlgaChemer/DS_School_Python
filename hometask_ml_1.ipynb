{
 "cells": [
  {
   "cell_type": "code",
   "execution_count": 1,
   "id": "0cf3b9f8",
   "metadata": {},
   "outputs": [],
   "source": [
    "from sklearn.datasets import load_boston\n",
    "from sklearn.model_selection import train_test_split\n",
    "from sklearn.linear_model import Ridge, Lasso\n",
    "from sklearn.metrics import mean_squared_error\n",
    "from sklearn.metrics import r2_score\n",
    "from sklearn.linear_model import LinearRegression\n",
    "import pandas as pd\n",
    "import numpy as np"
   ]
  },
  {
   "cell_type": "code",
   "execution_count": 2,
   "id": "abf5f914",
   "metadata": {},
   "outputs": [],
   "source": [
    "RANDOM_STATE = 42"
   ]
  },
  {
   "cell_type": "code",
   "execution_count": 3,
   "id": "485dfb44",
   "metadata": {},
   "outputs": [
    {
     "name": "stderr",
     "output_type": "stream",
     "text": [
      "/Users/olgakamskaa/opt/anaconda3/lib/python3.9/site-packages/sklearn/utils/deprecation.py:87: FutureWarning: Function load_boston is deprecated; `load_boston` is deprecated in 1.0 and will be removed in 1.2.\n",
      "\n",
      "    The Boston housing prices dataset has an ethical problem. You can refer to\n",
      "    the documentation of this function for further details.\n",
      "\n",
      "    The scikit-learn maintainers therefore strongly discourage the use of this\n",
      "    dataset unless the purpose of the code is to study and educate about\n",
      "    ethical issues in data science and machine learning.\n",
      "\n",
      "    In this special case, you can fetch the dataset from the original\n",
      "    source::\n",
      "\n",
      "        import pandas as pd\n",
      "        import numpy as np\n",
      "\n",
      "\n",
      "        data_url = \"http://lib.stat.cmu.edu/datasets/boston\"\n",
      "        raw_df = pd.read_csv(data_url, sep=\"\\s+\", skiprows=22, header=None)\n",
      "        data = np.hstack([raw_df.values[::2, :], raw_df.values[1::2, :2]])\n",
      "        target = raw_df.values[1::2, 2]\n",
      "\n",
      "    Alternative datasets include the California housing dataset (i.e.\n",
      "    :func:`~sklearn.datasets.fetch_california_housing`) and the Ames housing\n",
      "    dataset. You can load the datasets as follows::\n",
      "\n",
      "        from sklearn.datasets import fetch_california_housing\n",
      "        housing = fetch_california_housing()\n",
      "\n",
      "    for the California housing dataset and::\n",
      "\n",
      "        from sklearn.datasets import fetch_openml\n",
      "        housing = fetch_openml(name=\"house_prices\", as_frame=True)\n",
      "\n",
      "    for the Ames housing dataset.\n",
      "    \n",
      "  warnings.warn(msg, category=FutureWarning)\n"
     ]
    }
   ],
   "source": [
    "dataset = load_boston()\n",
    "X = pd.DataFrame(dataset.data)\n",
    "X.columns = dataset.feature_names\n",
    "y = dataset.target"
   ]
  },
  {
   "cell_type": "markdown",
   "id": "f768f5e9",
   "metadata": {},
   "source": [
    "1. Разделите выборку на обучающую и тестовую в отношении 80%/20%"
   ]
  },
  {
   "cell_type": "code",
   "execution_count": 4,
   "id": "b0886a3e",
   "metadata": {},
   "outputs": [],
   "source": [
    "X_train, X_test, y_train, y_test = train_test_split(X, y, test_size=0.1, shuffle=True, random_state=42)"
   ]
  },
  {
   "cell_type": "markdown",
   "id": "ff3197dd",
   "metadata": {},
   "source": [
    "2. Обучите стандартную регрессию, а также Ridge и Lasso и параметрами по умолчанию и выведите их R2 на тестовой выборке"
   ]
  },
  {
   "cell_type": "code",
   "execution_count": 5,
   "id": "313e8e0f",
   "metadata": {},
   "outputs": [
    {
     "name": "stdout",
     "output_type": "stream",
     "text": [
      "Качество на валидации: 14.775\n",
      "Качество на обучении: 22.924\n",
      "r2: 0.756\n"
     ]
    }
   ],
   "source": [
    "# Ridge\n",
    "model_Ridge = Ridge().fit(X_train, y_train)\n",
    "y_pred = model_Ridge.predict(X_test)\n",
    "y_pred_train = model_Ridge.predict(X_train)\n",
    "print(\"Качество на валидации: %.3f\" % mean_squared_error(y_test, y_pred))\n",
    "print(\"Качество на обучении: %.3f\" % mean_squared_error(y_train, y_pred_train))\n",
    "print(\"r2: %.3f\" % r2_score(y_pred, y_test))"
   ]
  },
  {
   "cell_type": "code",
   "execution_count": 6,
   "id": "7bff8fbe",
   "metadata": {},
   "outputs": [
    {
     "name": "stdout",
     "output_type": "stream",
     "text": [
      "Качество на валидации: 18.645\n",
      "Качество на обучении: 27.607\n",
      "r2: 0.614\n"
     ]
    }
   ],
   "source": [
    "# Lasso\n",
    "model_Lasso = Lasso().fit(X_train, y_train)\n",
    "y_pred_Lasso = model_Lasso.predict(X_test)\n",
    "y_pred_train_Lasso = model_Lasso.predict(X_train)\n",
    "print(\"Качество на валидации: %.3f\" % mean_squared_error(y_test, y_pred_Lasso))\n",
    "print(\"Качество на обучении: %.3f\" % mean_squared_error(y_train, y_pred_train_Lasso))\n",
    "print(\"r2: %.3f\" % r2_score(y_pred_Lasso, y_test))"
   ]
  },
  {
   "cell_type": "code",
   "execution_count": 7,
   "id": "06d92e0d",
   "metadata": {},
   "outputs": [
    {
     "data": {
      "image/png": "[encoded data removed]",
      "text/plain": [
       "<Figure size 432x288 with 1 Axes>"
      ]
     },
     "metadata": {
      "needs_background": "light"
     },
     "output_type": "display_data"
    }
   ],
   "source": [
    "import matplotlib.pyplot as plt\n",
    "import seaborn as sns\n",
    "%matplotlib inline\n",
    "\n",
    "sns.histplot(model_Ridge.coef_, color='b', bins=30, alpha=0.1,label='Ridge')\n",
    "sns.histplot(model_Lasso.coef_, color='r', bins=30, alpha=0.4, label='Lasso')\n",
    "plt.legend()\n",
    "plt.show()"
   ]
  },
  {
   "cell_type": "code",
   "execution_count": 8,
   "id": "8218b969",
   "metadata": {},
   "outputs": [
    {
     "name": "stdout",
     "output_type": "stream",
     "text": [
      "r2: 0.755\n"
     ]
    }
   ],
   "source": [
    "# Линейная регрессия\n",
    "reg = LinearRegression().fit(X_train, y_train)\n",
    "y_pred = reg.predict(X_test)\n",
    "y_pred\n",
    "print(\"r2: %.3f\" % r2_score(y_pred, y_test))"
   ]
  },
  {
   "cell_type": "markdown",
   "id": "2343c611",
   "metadata": {},
   "source": [
    "3. Для Ridge и Lasso подберите коэффициент регуляризации(используйте GridSearchCV, RidgeCV, LassoCV) в пределах от  до  (по степеням 10). Посчитайте R2 на тестовой выборке по лучшим моделям и сравните с предыдущими результатами. Напишите как изменился результат"
   ]
  },
  {
   "cell_type": "code",
   "execution_count": 9,
   "id": "3846ce2e",
   "metadata": {},
   "outputs": [],
   "source": [
    "from sklearn.model_selection import GridSearchCV\n",
    "from sklearn.linear_model import RidgeCV, LassoCV\n",
    "\n",
    "params = [0.1, 1, 10]"
   ]
  },
  {
   "cell_type": "code",
   "execution_count": 10,
   "id": "76a39ea7",
   "metadata": {},
   "outputs": [
    {
     "name": "stdout",
     "output_type": "stream",
     "text": [
      "Best Number Of Components: {'alpha': 0.1, 'copy_X': True, 'fit_intercept': True, 'max_iter': 1000, 'normalize': 'deprecated', 'positive': False, 'precompute': False, 'random_state': None, 'selection': 'cyclic', 'tol': 0.0001, 'warm_start': False}\n",
      "r2_grid: 0.737\n",
      "r2_lassoCV: 0.737\n"
     ]
    }
   ],
   "source": [
    "# модель лассо\n",
    "grid_Lasso = GridSearchCV(model_Lasso, {'alpha':[0.1, 1, 10]}, cv=7)\n",
    "y_pred = grid_Lasso.fit(X_train, y_train).predict(X_test)\n",
    "\n",
    "print('Best Number Of Components:', grid_Lasso.best_estimator_.get_params())\n",
    "print(\"r2_grid: %.3f\" % r2_score(y_pred, y_test))\n",
    "\n",
    "grid_LassoCV = LassoCV(alphas=params)\n",
    "y_pred_Lasso = grid_LassoCV.fit(X_train, y_train).predict(X_test)\n",
    "\n",
    "print(\"r2_lassoCV: %.3f\" % r2_score(y_pred_Lasso, y_test))"
   ]
  },
  {
   "cell_type": "code",
   "execution_count": 11,
   "id": "af9d70a1",
   "metadata": {},
   "outputs": [
    {
     "name": "stdout",
     "output_type": "stream",
     "text": [
      "Best Number Of Components: {'alpha': 0.1, 'copy_X': True, 'fit_intercept': True, 'max_iter': None, 'normalize': 'deprecated', 'positive': False, 'random_state': None, 'solver': 'auto', 'tol': 0.001}\n",
      "r2_grid: 0.755\n",
      "r2_ridgeCV: 0.755\n"
     ]
    }
   ],
   "source": [
    "# модель ridge\n",
    "grid_Ridge = GridSearchCV(model_Ridge, {'alpha':[0.1, 1, 10]}, cv=10)\n",
    "y_pred = grid_Ridge.fit(X_train, y_train).predict(X_test)\n",
    "\n",
    "print('Best Number Of Components:', grid_Ridge.best_estimator_.get_params())\n",
    "print(\"r2_grid: %.3f\" % r2_score(y_pred, y_test))\n",
    "\n",
    "grid_RidgeCV = RidgeCV(alphas=params)\n",
    "y_pred_Ridge = grid_RidgeCV.fit(X_train, y_train).predict(X_test)\n",
    "\n",
    "print(\"r2_ridgeCV: %.3f\" % r2_score(y_pred_Ridge, y_test))"
   ]
  },
  {
   "cell_type": "code",
   "execution_count": 12,
   "id": "34e4c2cd",
   "metadata": {},
   "outputs": [],
   "source": [
    "# коэффициент детерминации увеличился по модели Lasso  на 0.12, по модели Ridge остался такой же"
   ]
  },
  {
   "cell_type": "markdown",
   "id": "33039047",
   "metadata": {},
   "source": [
    "4. Проведите масштабирование выборки(используйте Pipeline, StandardScaler, MinMaxScaler), посчитайте R2 и сравните с предыдущими результатами. Напишите как изменился результат"
   ]
  },
  {
   "cell_type": "code",
   "execution_count": 13,
   "id": "b72a2144",
   "metadata": {},
   "outputs": [
    {
     "name": "stdout",
     "output_type": "stream",
     "text": [
      "r2_std: 0.760\n",
      "r2_min_max: 0.760\n"
     ]
    }
   ],
   "source": [
    "from sklearn.pipeline import Pipeline\n",
    "from sklearn.preprocessing import StandardScaler, MinMaxScaler\n",
    "from sklearn import decomposition\n",
    "from sklearn.decomposition import PCA\n",
    "\n",
    "\n",
    "std_slc = StandardScaler()\n",
    "pca = decomposition.PCA()\n",
    "min_max_scaler = MinMaxScaler()\n",
    "\n",
    "linear = LinearRegression()\n",
    "pipe_std_slc = Pipeline(steps=[('std_scl', std_slc),\n",
    "                       ('pca', pca),\n",
    "                       ('linear', linear)])\n",
    "\n",
    "pipe_std_slc.fit(X_train, y_train)\n",
    "print(\"r2_std: %.3f\" % pipe_std_slc.score(X_test,y_test))\n",
    "\n",
    "pipe_min_max_scaler = Pipeline(steps=[('min_max', min_max_scaler),\n",
    "                              ('pca', pca),\n",
    "                              ('linear', linear)])\n",
    "\n",
    "pipe_min_max_scaler.fit(X_train, y_train)\n",
    "print(\"r2_min_max: %.3f\" % pipe_min_max_scaler.score(X_test,y_test))\n",
    "\n",
    "\n",
    "# n_components = list(range(1,X.shape[1]+1,1))\n",
    "# normalize = [True, False]\n",
    "# param = dict(pca__n_components=n_components,\n",
    "#                       linear__normalize=normalize)\n",
    "\n",
    "# grid = GridSearchCV(pipe, param_grid=param, cv=10)\n",
    "# y_pred = grid.fit(X_train, y_train).predict(X_test)\n",
    "# print('Best Number Of Components:', grid.best_estimator_.get_params()['pca__n_components'])\n",
    "# print(grid.best_estimator_.get_params()['linear'])\n",
    "\n",
    "# print(\"r2: %.3f\" % r2_score(y_pred, y_test))"
   ]
  },
  {
   "cell_type": "code",
   "execution_count": 14,
   "id": "0c8f3151",
   "metadata": {},
   "outputs": [],
   "source": [
    "# Результат линейной регрессии увеличился на 0.01 и является лучшим среди моделей lasso и ridge"
   ]
  },
  {
   "cell_type": "markdown",
   "id": "7bd9808a",
   "metadata": {},
   "source": [
    "5. Подберите коэффициент регуляризации для Ridge и Lasso на масштабированных данных, посчитайте R2 и сравните с предыдущими результатами. Напишите как изменился результат"
   ]
  },
  {
   "cell_type": "code",
   "execution_count": 15,
   "id": "23fab5f4",
   "metadata": {},
   "outputs": [
    {
     "name": "stdout",
     "output_type": "stream",
     "text": [
      "Для GridSearchCV(cv=10, estimator=Ridge(), param_grid={'alpha': [0.1, 1, 10]}) \n",
      " R2 : 0.76963321\n",
      "Для GridSearchCV(cv=7, estimator=Lasso(), param_grid={'alpha': [0.1, 1, 10]}) \n",
      " R2 : 0.73968725\n",
      "Для RidgeCV(alphas=array([ 0.1,  1. , 10. ])) \n",
      " R2 : 0.76142815\n",
      "Для LassoCV(alphas=[0.1, 1, 10]) \n",
      " R2 : 0.73968725\n"
     ]
    },
    {
     "name": "stderr",
     "output_type": "stream",
     "text": [
      "/Users/olgakamskaa/opt/anaconda3/lib/python3.9/site-packages/sklearn/base.py:450: UserWarning: X does not have valid feature names, but RidgeCV was fitted with feature names\n",
      "  warnings.warn(\n"
     ]
    }
   ],
   "source": [
    "# Создадим цикл для моделей\n",
    "for model in [grid_Ridge, grid_Lasso, grid_RidgeCV, grid_LassoCV]:\n",
    "    pipe = Pipeline([('std_scl', std_slc), ('min_max', min_max_scaler), ('lgs', model) ])\n",
    "    pipe.fit(X_train, y_train)\n",
    "    r2 = pipe.score(X_test,y_test)\n",
    "    print(f\"Для {model:} \\n R2 : {r2:.8f}\")"
   ]
  },
  {
   "cell_type": "code",
   "execution_count": 16,
   "id": "99704e9a",
   "metadata": {},
   "outputs": [],
   "source": [
    "# Самая точная модель на этом этапе это модель GridSearchCV с estimator=Ridge - R2 : 0.769\n",
    "# Менее точная модель на этом этапе это модель LassoCV - R2 : 0.739"
   ]
  },
  {
   "cell_type": "markdown",
   "id": "3d3f6cfd",
   "metadata": {},
   "source": [
    "6. Добавьте попарные произведения признаков и их квадраты (используйте PolynomialFeatures) на масштабированных признаках, посчитайте R2 и сравните с предыдущими результатами. Напишите как изменился результат"
   ]
  },
  {
   "cell_type": "code",
   "execution_count": 17,
   "id": "695088f2",
   "metadata": {},
   "outputs": [
    {
     "name": "stdout",
     "output_type": "stream",
     "text": [
      "Для GridSearchCV(cv=10, estimator=Ridge(), param_grid={'alpha': [0.1, 1, 10]}) \n",
      " R2 : 0.89408948\n",
      "Для GridSearchCV(cv=7, estimator=Lasso(), param_grid={'alpha': [0.1, 1, 10]}) \n",
      " R2 : 0.80476041\n",
      "Для RidgeCV(alphas=array([ 0.1,  1. , 10. ])) \n",
      " R2 : 0.89408948\n",
      "Для LassoCV(alphas=[0.1, 1, 10]) \n",
      " R2 : 0.80476041\n"
     ]
    },
    {
     "name": "stderr",
     "output_type": "stream",
     "text": [
      "/Users/olgakamskaa/opt/anaconda3/lib/python3.9/site-packages/sklearn/base.py:450: UserWarning: X does not have valid feature names, but RidgeCV was fitted with feature names\n",
      "  warnings.warn(\n"
     ]
    }
   ],
   "source": [
    "from sklearn.preprocessing import PolynomialFeatures\n",
    "\n",
    "poly = PolynomialFeatures(2)\n",
    "\n",
    "# Создадим цикл для моделей\n",
    "for model in [grid_Ridge, grid_Lasso, grid_RidgeCV, grid_LassoCV]:\n",
    "    pipe = Pipeline([('std_scl', std_slc), ('min_max', min_max_scaler), ('poly', poly), ('lgs', model) ])\n",
    "    pipe.fit(X_train, y_train)\n",
    "    r2 = pipe.score(X_test,y_test)\n",
    "    print(f\"Для {model:} \\n R2 : {r2:.8f}\")"
   ]
  },
  {
   "cell_type": "code",
   "execution_count": 18,
   "id": "a081b5e7",
   "metadata": {},
   "outputs": [],
   "source": [
    "# Модели GridSearchCV с estimator=Ridge и RidgeCV сравнялись и показывают лучший результат - R2 : 0.894\n",
    "# Модели GridSearchCV с estimator=Lasso и LassoCV тоже сравнялись, но показывают резултат меньше - R2 : 0.804"
   ]
  },
  {
   "cell_type": "markdown",
   "id": "b9bd84a4",
   "metadata": {},
   "source": [
    "7. Подберите наилучшую модель (используйте Pipeline, GridSearchSCV) подбирая тип регуляризации (L1,L2), коэффициент регуляризации, метод масштабирования и степень полинома в PolynomialFeatures. Выведите итоговые параметры и результат R2. Напишите как изменился R2 по сравнению с предыдущими экспериментами"
   ]
  },
  {
   "cell_type": "code",
   "execution_count": 19,
   "id": "936cc5d9",
   "metadata": {},
   "outputs": [
    {
     "name": "stdout",
     "output_type": "stream",
     "text": [
      "Для degree = 1 and {'alpha': 1, 'tol': 0.1} \n",
      " R2 : 0.76032966\n",
      "Для degree = 2 and {'alpha': 10, 'tol': 0.1} \n",
      " R2 : 0.88590955\n",
      "Для degree = 3 and {'alpha': 10, 'tol': 0.1} \n",
      " R2 : 0.86960164\n",
      "Для degree = 4 and {'alpha': 10, 'tol': 0.1} \n",
      " R2 : 0.76189822\n",
      "Для degree = 1 and {'alpha': 0.1, 'tol': 0.1} \n",
      " R2 : 0.75639577\n",
      "Для degree = 2 and {'alpha': 0.1, 'tol': 0.1} \n",
      " R2 : 0.89470123\n",
      "Для degree = 3 and {'alpha': 0.1, 'tol': 0.1} \n",
      " R2 : 0.88517921\n",
      "Для degree = 4 and {'alpha': 0.1, 'tol': 0.5} \n",
      " R2 : 0.84495225\n"
     ]
    }
   ],
   "source": [
    "degree = [d for d in range(1,5)]\n",
    "# parameters = [10**i for i in range(-5,6,1)]\n",
    "grid_Ridge = GridSearchCV(model_Ridge, {'alpha':params, 'tol' : [0.1,0.5]}, scoring='r2')\n",
    "grid_Lasso = GridSearchCV(model_Lasso, {'alpha':params, 'tol' : [0.1,0.5]}, scoring='r2')\n",
    "\n",
    "for model in [grid_Ridge,grid_Lasso]:\n",
    "    for deg in degree:\n",
    "        pipe = Pipeline([('std_scl', std_slc),('poly', PolynomialFeatures(deg)), ('lgs', model)])\n",
    "        pipe.fit(X_train, y_train)\n",
    "        r2 = pipe.score(X_test,y_test)\n",
    "        print(f\"Для degree = {deg:} and {model.best_params_:} \\n R2 : {r2:.8f}\")\n"
   ]
  },
  {
   "cell_type": "code",
   "execution_count": 20,
   "id": "43f7240b",
   "metadata": {},
   "outputs": [],
   "source": [
    "# Лучший результат - R2 : 0.8947. Лучшие параметры: L2 регуляризация, степень полинома - 2, альфа - 0.1"
   ]
  },
  {
   "cell_type": "markdown",
   "id": "d9a35f50",
   "metadata": {},
   "source": [
    "http://archive.ics.uci.edu/ml/datasets/Adult"
   ]
  },
  {
   "cell_type": "code",
   "execution_count": 21,
   "id": "5d240210",
   "metadata": {},
   "outputs": [],
   "source": [
    "link = 'https://raw.githubusercontent.com/jbrownlee/Datasets/master/adult-all.csv'\n",
    "\n",
    "data = pd.read_csv(link, header=None)"
   ]
  },
  {
   "cell_type": "code",
   "execution_count": 22,
   "id": "0522e3d2",
   "metadata": {},
   "outputs": [
    {
     "data": {
      "text/html": [
       "<div>\n",
       "<style scoped>\n",
       "    .dataframe tbody tr th:only-of-type {\n",
       "        vertical-align: middle;\n",
       "    }\n",
       "\n",
       "    .dataframe tbody tr th {\n",
       "        vertical-align: top;\n",
       "    }\n",
       "\n",
       "    .dataframe thead th {\n",
       "        text-align: right;\n",
       "    }\n",
       "</style>\n",
       "<table border=\"1\" class=\"dataframe\">\n",
       "  <thead>\n",
       "    <tr style=\"text-align: right;\">\n",
       "      <th></th>\n",
       "      <th>0</th>\n",
       "      <th>1</th>\n",
       "      <th>2</th>\n",
       "      <th>3</th>\n",
       "      <th>4</th>\n",
       "      <th>5</th>\n",
       "      <th>6</th>\n",
       "      <th>7</th>\n",
       "      <th>8</th>\n",
       "      <th>9</th>\n",
       "      <th>10</th>\n",
       "      <th>11</th>\n",
       "      <th>12</th>\n",
       "      <th>13</th>\n",
       "      <th>14</th>\n",
       "    </tr>\n",
       "  </thead>\n",
       "  <tbody>\n",
       "    <tr>\n",
       "      <th>0</th>\n",
       "      <td>39</td>\n",
       "      <td>State-gov</td>\n",
       "      <td>77516</td>\n",
       "      <td>Bachelors</td>\n",
       "      <td>13</td>\n",
       "      <td>Never-married</td>\n",
       "      <td>Adm-clerical</td>\n",
       "      <td>Not-in-family</td>\n",
       "      <td>White</td>\n",
       "      <td>Male</td>\n",
       "      <td>2174</td>\n",
       "      <td>0</td>\n",
       "      <td>40</td>\n",
       "      <td>United-States</td>\n",
       "      <td>&lt;=50K</td>\n",
       "    </tr>\n",
       "    <tr>\n",
       "      <th>1</th>\n",
       "      <td>50</td>\n",
       "      <td>Self-emp-not-inc</td>\n",
       "      <td>83311</td>\n",
       "      <td>Bachelors</td>\n",
       "      <td>13</td>\n",
       "      <td>Married-civ-spouse</td>\n",
       "      <td>Exec-managerial</td>\n",
       "      <td>Husband</td>\n",
       "      <td>White</td>\n",
       "      <td>Male</td>\n",
       "      <td>0</td>\n",
       "      <td>0</td>\n",
       "      <td>13</td>\n",
       "      <td>United-States</td>\n",
       "      <td>&lt;=50K</td>\n",
       "    </tr>\n",
       "    <tr>\n",
       "      <th>2</th>\n",
       "      <td>38</td>\n",
       "      <td>Private</td>\n",
       "      <td>215646</td>\n",
       "      <td>HS-grad</td>\n",
       "      <td>9</td>\n",
       "      <td>Divorced</td>\n",
       "      <td>Handlers-cleaners</td>\n",
       "      <td>Not-in-family</td>\n",
       "      <td>White</td>\n",
       "      <td>Male</td>\n",
       "      <td>0</td>\n",
       "      <td>0</td>\n",
       "      <td>40</td>\n",
       "      <td>United-States</td>\n",
       "      <td>&lt;=50K</td>\n",
       "    </tr>\n",
       "    <tr>\n",
       "      <th>3</th>\n",
       "      <td>53</td>\n",
       "      <td>Private</td>\n",
       "      <td>234721</td>\n",
       "      <td>11th</td>\n",
       "      <td>7</td>\n",
       "      <td>Married-civ-spouse</td>\n",
       "      <td>Handlers-cleaners</td>\n",
       "      <td>Husband</td>\n",
       "      <td>Black</td>\n",
       "      <td>Male</td>\n",
       "      <td>0</td>\n",
       "      <td>0</td>\n",
       "      <td>40</td>\n",
       "      <td>United-States</td>\n",
       "      <td>&lt;=50K</td>\n",
       "    </tr>\n",
       "    <tr>\n",
       "      <th>4</th>\n",
       "      <td>28</td>\n",
       "      <td>Private</td>\n",
       "      <td>338409</td>\n",
       "      <td>Bachelors</td>\n",
       "      <td>13</td>\n",
       "      <td>Married-civ-spouse</td>\n",
       "      <td>Prof-specialty</td>\n",
       "      <td>Wife</td>\n",
       "      <td>Black</td>\n",
       "      <td>Female</td>\n",
       "      <td>0</td>\n",
       "      <td>0</td>\n",
       "      <td>40</td>\n",
       "      <td>Cuba</td>\n",
       "      <td>&lt;=50K</td>\n",
       "    </tr>\n",
       "  </tbody>\n",
       "</table>\n",
       "</div>"
      ],
      "text/plain": [
       "   0                 1       2          3   4                   5   \\\n",
       "0  39         State-gov   77516  Bachelors  13       Never-married   \n",
       "1  50  Self-emp-not-inc   83311  Bachelors  13  Married-civ-spouse   \n",
       "2  38           Private  215646    HS-grad   9            Divorced   \n",
       "3  53           Private  234721       11th   7  Married-civ-spouse   \n",
       "4  28           Private  338409  Bachelors  13  Married-civ-spouse   \n",
       "\n",
       "                  6              7      8       9     10  11  12  \\\n",
       "0       Adm-clerical  Not-in-family  White    Male  2174   0  40   \n",
       "1    Exec-managerial        Husband  White    Male     0   0  13   \n",
       "2  Handlers-cleaners  Not-in-family  White    Male     0   0  40   \n",
       "3  Handlers-cleaners        Husband  Black    Male     0   0  40   \n",
       "4     Prof-specialty           Wife  Black  Female     0   0  40   \n",
       "\n",
       "              13     14  \n",
       "0  United-States  <=50K  \n",
       "1  United-States  <=50K  \n",
       "2  United-States  <=50K  \n",
       "3  United-States  <=50K  \n",
       "4           Cuba  <=50K  "
      ]
     },
     "execution_count": 22,
     "metadata": {},
     "output_type": "execute_result"
    }
   ],
   "source": [
    "data.head()"
   ]
  },
  {
   "cell_type": "markdown",
   "id": "3c15e06a",
   "metadata": {},
   "source": [
    "1. Выясните выборку на признаки и целевую переменную(колонка со зачениями {<=50K,>50K}). Замените целевую переменную на числовые значения."
   ]
  },
  {
   "cell_type": "code",
   "execution_count": 23,
   "id": "f5043034",
   "metadata": {},
   "outputs": [],
   "source": [
    "clmn = data.columns\n",
    "X = data[clmn[:-1]]\n",
    "y = data[clmn[-1:]].applymap(lambda x: 0 if str(x) == \"<=50K\" else 1)"
   ]
  },
  {
   "cell_type": "markdown",
   "id": "2afe4264",
   "metadata": {},
   "source": [
    "2. Выясните, присутствуют ли в данных пропуски. Заполните их самыми частыми значениями (испольуйте SimpleImputer)"
   ]
  },
  {
   "cell_type": "code",
   "execution_count": 24,
   "id": "3b1eeb03",
   "metadata": {},
   "outputs": [
    {
     "data": {
      "text/plain": [
       "SimpleImputer(strategy='most_frequent')"
      ]
     },
     "execution_count": 24,
     "metadata": {},
     "output_type": "execute_result"
    }
   ],
   "source": [
    "from sklearn.impute import SimpleImputer\n",
    "\n",
    "miss = SimpleImputer(missing_values=np.nan, strategy='most_frequent')\n",
    "miss"
   ]
  },
  {
   "cell_type": "markdown",
   "id": "e3921443",
   "metadata": {},
   "source": [
    "3. Выберите колонки с числовыми и категориальными переменными."
   ]
  },
  {
   "cell_type": "code",
   "execution_count": 25,
   "id": "7bd2e4c0",
   "metadata": {},
   "outputs": [
    {
     "name": "stdout",
     "output_type": "stream",
     "text": [
      "<class 'pandas.core.frame.DataFrame'>\n",
      "RangeIndex: 48842 entries, 0 to 48841\n",
      "Data columns (total 15 columns):\n",
      " #   Column  Non-Null Count  Dtype \n",
      "---  ------  --------------  ----- \n",
      " 0   0       48842 non-null  int64 \n",
      " 1   1       48842 non-null  object\n",
      " 2   2       48842 non-null  int64 \n",
      " 3   3       48842 non-null  object\n",
      " 4   4       48842 non-null  int64 \n",
      " 5   5       48842 non-null  object\n",
      " 6   6       48842 non-null  object\n",
      " 7   7       48842 non-null  object\n",
      " 8   8       48842 non-null  object\n",
      " 9   9       48842 non-null  object\n",
      " 10  10      48842 non-null  int64 \n",
      " 11  11      48842 non-null  int64 \n",
      " 12  12      48842 non-null  int64 \n",
      " 13  13      48842 non-null  object\n",
      " 14  14      48842 non-null  object\n",
      "dtypes: int64(6), object(9)\n",
      "memory usage: 5.6+ MB\n"
     ]
    }
   ],
   "source": [
    "data.info()"
   ]
  },
  {
   "cell_type": "code",
   "execution_count": 26,
   "id": "6d3ed8d5",
   "metadata": {},
   "outputs": [],
   "source": [
    "int_ = [0, 2, 4, 10, 11, 12]\n",
    "obj_ = [1, 3, 5, 6, 7, 8, 9, 13]"
   ]
  },
  {
   "cell_type": "markdown",
   "id": "1efc17d2",
   "metadata": {},
   "source": [
    "4. Создайте пайплайн по обработке колонок(используйте OneHotEncoder,MinMaxScaler)."
   ]
  },
  {
   "cell_type": "code",
   "execution_count": 27,
   "id": "6638d766",
   "metadata": {},
   "outputs": [],
   "source": [
    "from sklearn.compose import ColumnTransformer\n",
    "from sklearn.preprocessing import OneHotEncoder\n",
    "\n",
    "encoder = OneHotEncoder(dtype='object')\n",
    "min_max_scale = MinMaxScaler()\n",
    "\n",
    "col_trans = ColumnTransformer([('int_', min_max_scale, int_),('cat_', encoder, obj_)])\n",
    "\n",
    "pipe = Pipeline([('miss', miss),('col_trans', col_trans)])"
   ]
  },
  {
   "cell_type": "markdown",
   "id": "e1e58953",
   "metadata": {},
   "source": [
    "5. Посчитайте метрики accuracy и f1_score на предсказании только самого частого класса в целевой переменной."
   ]
  },
  {
   "cell_type": "code",
   "execution_count": 28,
   "id": "e0d59e58",
   "metadata": {},
   "outputs": [
    {
     "name": "stdout",
     "output_type": "stream",
     "text": [
      "f1_score: 0.000\n",
      "accuracy_score: 0.761\n"
     ]
    }
   ],
   "source": [
    "from sklearn.metrics import f1_score , accuracy_score\n",
    "\n",
    "y_pred = pd.DataFrame(np.zeros(y.shape[0]))\n",
    "\n",
    "print(\"f1_score: %.3f\" % f1_score(y_pred, y))\n",
    "print(\"accuracy_score: %.3f\" % accuracy_score(y_pred,y))"
   ]
  },
  {
   "cell_type": "markdown",
   "id": "e47d2641",
   "metadata": {},
   "source": [
    "6. Посчитайте cross_val_score по алгоритмам LogisticRegression, SVC, LinearSVC по метрикам accuracy и f1_score. Напишите удалось ли превзойти предыдущий результат."
   ]
  },
  {
   "cell_type": "code",
   "execution_count": 29,
   "id": "72f11712",
   "metadata": {},
   "outputs": [],
   "source": [
    "from sklearn.svm import LinearSVC, SVC\n",
    "from sklearn.linear_model import LogisticRegression\n",
    "from sklearn.model_selection import cross_val_score\n",
    "\n",
    "lr = LogisticRegression(max_iter=150, penalty=\"elasticnet\", solver=\"saga\", l1_ratio=0.5)\n",
    "linear_svc = LinearSVC()\n",
    "svc = SVC()\n",
    "\n",
    "pipe_lr = Pipeline([('miss', miss),('col_trans', col_trans),('lr', lr)])\n",
    "pipe_linear_svc = Pipeline([('miss', miss),('col_trans', col_trans),('linear_svc', linear_svc)])\n",
    "pipe_svc = Pipeline([('miss', miss),('col_trans', col_trans),('svc', svc)])"
   ]
  },
  {
   "cell_type": "code",
   "execution_count": 30,
   "id": "7f0cc54b",
   "metadata": {},
   "outputs": [],
   "source": [
    "X_train , X_test, y_train , y_test = train_test_split(X, y, test_size=0.2, random_state=42)"
   ]
  },
  {
   "cell_type": "code",
   "execution_count": 31,
   "id": "a702d454",
   "metadata": {},
   "outputs": [
    {
     "name": "stdout",
     "output_type": "stream",
     "text": [
      "Среднее значение метрики f1 LogisticRegression : 0.657\n",
      "Среднее значение метрики accuracy LogisticRegression : 0.852\n",
      "\n",
      "Среднее значение метрики f1 LinearSVC : 0.658\n",
      "Среднее значение метрики accuracy LinearSVC : 0.853\n",
      "\n",
      "Среднее значение метрики f1 SVC : 0.619\n",
      "Среднее значение метрики accuracy SVC : 0.840\n"
     ]
    }
   ],
   "source": [
    "cross_lr_f1 = cross_val_score(pipe_lr, X_train, y_train[14],scoring=\"f1\")\n",
    "cross_lr_accuracy = cross_val_score(pipe_lr, X_train, y_train[14],scoring=\"accuracy\")\n",
    "print(\"Среднее значение метрики f1 LogisticRegression : %.3f\" % cross_lr_f1.mean())\n",
    "print(\"Среднее значение метрики accuracy LogisticRegression : %.3f\" % cross_lr_accuracy.mean())\n",
    "print('')\n",
    "\n",
    "cross_linear_svc_f1 = cross_val_score(pipe_linear_svc, X_train, y_train[14],scoring=\"f1\",n_jobs=5, cv=10)\n",
    "cross_linear_svc_accuracy = cross_val_score(pipe_linear_svc, X_train, y_train[14],scoring=\"accuracy\",n_jobs=5,cv=5)\n",
    "print(\"Среднее значение метрики f1 LinearSVC : %.3f\" % cross_linear_svc_f1.mean())\n",
    "print(\"Среднее значение метрики accuracy LinearSVC : %.3f\" % cross_linear_svc_accuracy.mean())\n",
    "print('')\n",
    "\n",
    "cross_svc_f1 = cross_val_score(pipe_svc, X_train, y_train[14],scoring=\"f1\",n_jobs=5, cv=10)\n",
    "cross_svc_accuracy = cross_val_score(pipe_svc, X_train, y_train[14],scoring=\"accuracy\",n_jobs=4, cv=3)\n",
    "print(\"Среднее значение метрики f1 SVC : %.3f\" % cross_svc_f1.mean())\n",
    "print(\"Среднее значение метрики accuracy SVC : %.3f\" % cross_svc_accuracy.mean())\n",
    "\n"
   ]
  },
  {
   "cell_type": "code",
   "execution_count": 32,
   "id": "f0b47c5e",
   "metadata": {},
   "outputs": [],
   "source": [
    "# метрика f1 приняла значение от 0.619 до 0.658\n",
    "# метрика accuracy увеличилась с 0.761 до 0.853 с алгоритмом LinearSVC()"
   ]
  },
  {
   "cell_type": "markdown",
   "id": "4a62badc",
   "metadata": {},
   "source": [
    "7. Можно заметить что в данных присутствуют значения '?', замените их самыми частыми значениями (испольуйте SimpleImputer)"
   ]
  },
  {
   "cell_type": "code",
   "execution_count": 33,
   "id": "d03a0d7e",
   "metadata": {},
   "outputs": [],
   "source": [
    "symb_qustion = SimpleImputer(missing_values={np.nan,'?'}, strategy='most_frequent')\n",
    "\n",
    "lr = LogisticRegression(max_iter=150, penalty=\"elasticnet\", solver=\"saga\", l1_ratio=0.5)\n",
    "linear_svc = LinearSVC()\n",
    "svc = SVC()\n",
    "\n",
    "pipe_lr_symb_q = Pipeline([('symb_qustion', symb_qustion),('col_trans', col_trans),('lr', lr)])\n",
    "pipe_linear_svc_symb_q = Pipeline([('symb_qustion', symb_qustion),('col_trans', col_trans),('linear_svc', linear_svc)])\n",
    "pipe_svc_symb_q = Pipeline([('symb_qustion', symb_qustion),('col_trans', col_trans),('svc', svc)])"
   ]
  },
  {
   "cell_type": "markdown",
   "id": "f4f07414",
   "metadata": {},
   "source": [
    "8. Посчитайте cross_val_score на новых данных. Напишите удалось ли улучшить результат."
   ]
  },
  {
   "cell_type": "code",
   "execution_count": 34,
   "id": "82e6663a",
   "metadata": {},
   "outputs": [
    {
     "name": "stdout",
     "output_type": "stream",
     "text": [
      "Среднее значение метрики f1 LogisticRegression : 0.657\n",
      "Среднее значение метрики accuracy LogisticRegression : 0.852\n",
      "\n",
      "Среднее значение метрики f1 LinearSVC : 0.658\n",
      "Среднее значение метрики accuracy LinearSVC : 0.853\n",
      "\n",
      "Среднее значение метрики f1 SVC : 0.619\n",
      "Среднее значение метрики accuracy SVC : 0.840\n"
     ]
    }
   ],
   "source": [
    "cross_lr_symb_q_f1 = cross_val_score(pipe_lr_symb_q, X_train, y_train[14],scoring=\"f1\")\n",
    "cross_lr_symb_q_accuracy = cross_val_score(pipe_lr_symb_q, X_train, y_train[14],scoring=\"accuracy\")\n",
    "print(\"Среднее значение метрики f1 LogisticRegression : %.3f\" % cross_lr_symb_q_f1.mean())\n",
    "print(\"Среднее значение метрики accuracy LogisticRegression : %.3f\" % cross_lr_symb_q_accuracy.mean())\n",
    "print('')\n",
    "\n",
    "cross_linear_svc_symb_q_f1 = cross_val_score(pipe_linear_svc_symb_q, X_train, y_train[14],scoring=\"f1\",n_jobs=5, cv=10)\n",
    "cross_linear_svc_symb_q_accuracy = cross_val_score(pipe_linear_svc_symb_q, X_train, y_train[14],scoring=\"accuracy\",n_jobs=5,cv=5)\n",
    "print(\"Среднее значение метрики f1 LinearSVC : %.3f\" % cross_linear_svc_symb_q_f1.mean())\n",
    "print(\"Среднее значение метрики accuracy LinearSVC : %.3f\" % cross_linear_svc_symb_q_accuracy.mean())\n",
    "print('')\n",
    "\n",
    "cross_svc_symb_q_f1 = cross_val_score(pipe_svc_symb_q, X_train, y_train[14],scoring=\"f1\",n_jobs=5, cv=10)\n",
    "cross_svc_symb_q_accuracy = cross_val_score(pipe_svc_symb_q, X_train, y_train[14],scoring=\"accuracy\",n_jobs=4, cv=3)\n",
    "print(\"Среднее значение метрики f1 SVC : %.3f\" % cross_svc_symb_q_f1.mean())\n",
    "print(\"Среднее значение метрики accuracy SVC : %.3f\" % cross_svc_symb_q_accuracy.mean())\n"
   ]
  },
  {
   "cell_type": "code",
   "execution_count": 35,
   "id": "13c08840",
   "metadata": {},
   "outputs": [],
   "source": [
    "# Метрики не изменились"
   ]
  },
  {
   "cell_type": "markdown",
   "id": "f2db5d98",
   "metadata": {},
   "source": [
    "9. Посчитайте cross_val_score, если просто удалить значения '?'. Напишите как изменился результат"
   ]
  },
  {
   "cell_type": "code",
   "execution_count": 36,
   "id": "333f7165",
   "metadata": {},
   "outputs": [],
   "source": [
    "link = 'https://raw.githubusercontent.com/jbrownlee/Datasets/master/adult-all.csv'\n",
    "data2 = pd.read_csv(link, header=None)\n",
    "\n",
    "# data = data[data.eq(\"?\").any(axis=1) == False].copy(deep=True)"
   ]
  },
  {
   "cell_type": "code",
   "execution_count": 37,
   "id": "0a9a92c5",
   "metadata": {},
   "outputs": [],
   "source": [
    "for col in data2.columns:\n",
    "    data2 = data2[data2[col] != '?']"
   ]
  },
  {
   "cell_type": "code",
   "execution_count": 38,
   "id": "bfc61955",
   "metadata": {},
   "outputs": [],
   "source": [
    "for col in data2.columns:\n",
    "    if data2[col].dtype == 'O':\n",
    "        data2[col] = data2[col].apply(lambda x: x.replace('?', ''))"
   ]
  },
  {
   "cell_type": "code",
   "execution_count": 39,
   "id": "2f5c52fd",
   "metadata": {},
   "outputs": [],
   "source": [
    "clmns = data2.columns\n",
    "X_without_q = data2[clmns[:-1]]\n",
    "y_without_q = data2[clmns[-1:]].applymap(lambda x: 0 if str(x) == \"<=50K\" else 1)\n",
    "\n",
    "X_train , X_test, y_train , y_test = train_test_split(X_without_q, y_without_q, test_size=0.2, random_state=42)"
   ]
  },
  {
   "cell_type": "code",
   "execution_count": 40,
   "id": "1f35a434",
   "metadata": {},
   "outputs": [],
   "source": [
    "without_q = SimpleImputer(missing_values=np.nan, strategy='most_frequent')\n",
    "\n",
    "encoder = OneHotEncoder(handle_unknown='ignore')\n",
    "min_max_scale = MinMaxScaler()\n",
    "\n",
    "col_trans = ColumnTransformer([('int_', min_max_scale, int_),('cat_', encoder, obj_)])\n",
    "\n",
    "\n",
    "lr = LogisticRegression(max_iter=1500, penalty=\"elasticnet\", solver=\"saga\", l1_ratio=0.5)\n",
    "linear_svc = LinearSVC()\n",
    "svc = SVC()\n",
    "\n",
    "pipe_lr = Pipeline([('without_q', without_q),('col_trans', col_trans),('lr', lr)])\n",
    "pipe_linear_svc = Pipeline([('without_q', without_q),('col_trans', col_trans),('linear_svc', linear_svc)])\n",
    "pipe_svc = Pipeline([('without_q', without_q),('col_trans', col_trans),('svc', svc)])"
   ]
  },
  {
   "cell_type": "code",
   "execution_count": 41,
   "id": "10cf926c",
   "metadata": {},
   "outputs": [
    {
     "name": "stdout",
     "output_type": "stream",
     "text": [
      "Среднее значение метрики f1 LogisticRegression : 0.656\n",
      "Среднее значение метрики accuracy LogisticRegression : 0.846\n",
      "\n",
      "Среднее значение метрики f1 LinearSVC : 0.657\n",
      "Среднее значение метрики accuracy LinearSVC : 0.847\n",
      "\n",
      "Среднее значение метрики f1 SVC : 0.623\n",
      "Среднее значение метрики accuracy SVC : 0.834\n"
     ]
    }
   ],
   "source": [
    "cross_lr_f1 = cross_val_score(pipe_lr, X_train, y_train[14],scoring=\"f1\")\n",
    "cross_lr_accuracy = cross_val_score(pipe_lr, X_train, y_train[14],scoring=\"accuracy\")\n",
    "print(\"Среднее значение метрики f1 LogisticRegression : %.3f\" % cross_lr_f1.mean())\n",
    "print(\"Среднее значение метрики accuracy LogisticRegression : %.3f\" % cross_lr_accuracy.mean())\n",
    "print('')\n",
    "\n",
    "cross_linear_svc_f1 = cross_val_score(pipe_linear_svc, X_train, y_train[14],scoring=\"f1\",n_jobs=5, cv=10)\n",
    "cross_linear_svc_accuracy = cross_val_score(pipe_linear_svc, X_train, y_train[14],scoring=\"accuracy\",n_jobs=5,cv=5)\n",
    "print(\"Среднее значение метрики f1 LinearSVC : %.3f\" % cross_linear_svc_f1.mean())\n",
    "print(\"Среднее значение метрики accuracy LinearSVC : %.3f\" % cross_linear_svc_accuracy.mean())\n",
    "print('')\n",
    "\n",
    "cross_svc_f1 = cross_val_score(pipe_svc, X_train, y_train[14],scoring=\"f1\",n_jobs=5, cv=10)\n",
    "cross_svc_accuracy = cross_val_score(pipe_svc, X_train, y_train[14],scoring=\"accuracy\",n_jobs=4, cv=3)\n",
    "print(\"Среднее значение метрики f1 SVC : %.3f\" % cross_svc_f1.mean())\n",
    "print(\"Среднее значение метрики accuracy SVC : %.3f\" % cross_svc_accuracy.mean())\n",
    "\n"
   ]
  },
  {
   "cell_type": "code",
   "execution_count": 42,
   "id": "bd7b77aa",
   "metadata": {},
   "outputs": [],
   "source": [
    "# Все мметрики ухудшились за исключение f1 по алгаритму LinearSVC - вырасла на 0.004"
   ]
  },
  {
   "cell_type": "markdown",
   "id": "6ff0369a",
   "metadata": {},
   "source": [
    "10. Посчитайте cross_val_score для RandomForestClassifier,GradientBoostingClassifier. Напишите как изменился результат и какой вывод можно из этого сделать."
   ]
  },
  {
   "cell_type": "code",
   "execution_count": 43,
   "id": "389c59c1",
   "metadata": {},
   "outputs": [],
   "source": [
    "from sklearn.ensemble import RandomForestClassifier , GradientBoostingClassifier\n",
    "\n",
    "rfc = RandomForestClassifier()\n",
    "gbc = GradientBoostingClassifier()"
   ]
  },
  {
   "cell_type": "code",
   "execution_count": 44,
   "id": "46929967",
   "metadata": {},
   "outputs": [
    {
     "name": "stdout",
     "output_type": "stream",
     "text": [
      "Среднее значение метрики f1 RandomForestClassifier : 0.668\n",
      "Среднее значение метрики accuracy RandomForestClassifier : 0.849\n",
      "\n",
      "Среднее значение метрики f1 GradientBoostingClassifier : 0.683\n",
      "Среднее значение метрики accuracy GradientBoostingClassifier : 0.862\n"
     ]
    }
   ],
   "source": [
    "pipe_rfc= Pipeline([('without_q', without_q),('col_trans', col_trans),('rfc', rfc)])\n",
    "pipe_gbc = Pipeline([('without_q', without_q),('col_trans', col_trans),('gbc', gbc)])\n",
    "\n",
    "rfc_f1 = cross_val_score(pipe_rfc, X_train, y_train[14], scoring= 'f1', n_jobs=4, cv=3)\n",
    "rfc_accuracy = cross_val_score(pipe_rfc, X_train, y_train[14], scoring = 'accuracy', n_jobs=4, cv=3 )\n",
    "print(\"Среднее значение метрики f1 RandomForestClassifier : %.3f\" % rfc_f1.mean())\n",
    "print(\"Среднее значение метрики accuracy RandomForestClassifier : %.3f\" % rfc_accuracy.mean())\n",
    "print('')\n",
    "\n",
    "gbc_f1 = cross_val_score(pipe_gbc, X_train, y_train[14], scoring= 'f1', n_jobs=4, cv=3)\n",
    "gbc_accuracy = cross_val_score(pipe_gbc, X_train, y_train[14], scoring = 'accuracy', n_jobs=4, cv=3)\n",
    "print(\"Среднее значение метрики f1 GradientBoostingClassifier : %.3f\" % gbc_f1.mean())\n",
    "print(\"Среднее значение метрики accuracy GradientBoostingClassifier : %.3f\" % gbc_accuracy.mean())\n"
   ]
  },
  {
   "cell_type": "code",
   "execution_count": 45,
   "id": "15b4de46",
   "metadata": {},
   "outputs": [],
   "source": [
    "# по метрике f1 показатели улучшились и у RandomForestClassifier и у GradientBoostingClassifier\n",
    "# по метрике accuracy RandomForestClassifier увеличилось не значительно, \n",
    "# а radientBoostingClassifier показывает наилучший результат - 0.862"
   ]
  },
  {
   "cell_type": "markdown",
   "id": "d855d6cf",
   "metadata": {},
   "source": [
    "11. Подберите наилучшую модель, подбирая методы обработки колонок - масштабирование признаков, кодирование признаков и заполнение пропусков. Параметры алгоритмов оставьте по умолчанию. Выведите итоговые параметры и результат accuracy и f1_score."
   ]
  },
  {
   "cell_type": "code",
   "execution_count": 46,
   "id": "43999fad",
   "metadata": {},
   "outputs": [
    {
     "name": "stdout",
     "output_type": "stream",
     "text": [
      "Наилучшая модель GradientBoostingClassifier \n",
      " \n",
      "Ее лучшие параметры :\n",
      " {'ccp_alpha': 0.0, 'criterion': 'friedman_mse', 'init': None, 'learning_rate': 0.1, 'loss': 'deviance', 'max_depth': 3, 'max_features': None, 'max_leaf_nodes': None, 'min_impurity_decrease': 0.0, 'min_samples_leaf': 1, 'min_samples_split': 2, 'min_weight_fraction_leaf': 0.0, 'n_estimators': 100, 'n_iter_no_change': None, 'random_state': None, 'subsample': 1.0, 'tol': 0.0001, 'validation_fraction': 0.1, 'verbose': 0, 'warm_start': False}\n",
      "\n",
      "Среднее значение метрики f1 GradientBoostingClassifier : 0.683\n",
      "Среднее значение метрики accuracy GradientBoostingClassifier : 0.862\n"
     ]
    }
   ],
   "source": [
    "print(\"Наилучшая модель GradientBoostingClassifier \\n \\nЕе лучшие параметры :\\n\", gbc.get_params())\n",
    "print('')\n",
    "print(\"Среднее значение метрики f1 GradientBoostingClassifier : %.3f\" % gbc_f1.mean())\n",
    "print(\"Среднее значение метрики accuracy GradientBoostingClassifier : %.3f\" % gbc_accuracy.mean())"
   ]
  }
 ],
 "metadata": {
  "kernelspec": {
   "display_name": "Python 3 (ipykernel)",
   "language": "python",
   "name": "python3"
  },
  "language_info": {
   "codemirror_mode": {
    "name": "ipython",
    "version": 3
   },
   "file_extension": ".py",
   "mimetype": "text/x-python",
   "name": "python",
   "nbconvert_exporter": "python",
   "pygments_lexer": "ipython3",
   "version": "3.9.12"
  }
 },
 "nbformat": 4,
 "nbformat_minor": 5
}
