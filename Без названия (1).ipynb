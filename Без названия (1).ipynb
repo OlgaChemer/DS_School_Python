{
 "cells": [
  {
   "cell_type": "markdown",
   "id": "b9adb4e4",
   "metadata": {},
   "source": [
    "### Подготовьте гистограммы по самым популярным жанрам, режиссерам, нац. принадлежностям фильмов, годам"
   ]
  },
  {
   "cell_type": "code",
   "execution_count": 1,
   "id": "2469ce69",
   "metadata": {},
   "outputs": [],
   "source": [
    "import pandas as pd\n",
    "import numpy as np\n",
    "import matplotlib.pyplot as plt\n",
    "%matplotlib inline\n",
    "import seaborn as sns\n",
    "plt.style.use('seaborn')\n",
    "from nltk.stem import WordNetLemmatizer\n",
    "import nltk\n",
    "from nltk.corpus import stopwords\n",
    "from nltk.tokenize import WordPunctTokenizer\n",
    "from sklearn.preprocessing import LabelEncoder"
   ]
  },
  {
   "cell_type": "code",
   "execution_count": 2,
   "id": "d84ea674",
   "metadata": {},
   "outputs": [
    {
     "data": {
      "text/html": [
       "<div>\n",
       "<style scoped>\n",
       "    .dataframe tbody tr th:only-of-type {\n",
       "        vertical-align: middle;\n",
       "    }\n",
       "\n",
       "    .dataframe tbody tr th {\n",
       "        vertical-align: top;\n",
       "    }\n",
       "\n",
       "    .dataframe thead th {\n",
       "        text-align: right;\n",
       "    }\n",
       "</style>\n",
       "<table border=\"1\" class=\"dataframe\">\n",
       "  <thead>\n",
       "    <tr style=\"text-align: right;\">\n",
       "      <th></th>\n",
       "      <th>Release Year</th>\n",
       "      <th>Title</th>\n",
       "      <th>Origin/Ethnicity</th>\n",
       "      <th>Director</th>\n",
       "      <th>Cast</th>\n",
       "      <th>Genre</th>\n",
       "      <th>Wiki Page</th>\n",
       "      <th>Plot</th>\n",
       "    </tr>\n",
       "  </thead>\n",
       "  <tbody>\n",
       "    <tr>\n",
       "      <th>0</th>\n",
       "      <td>1901</td>\n",
       "      <td>Kansas Saloon Smashers</td>\n",
       "      <td>American</td>\n",
       "      <td>Unknown</td>\n",
       "      <td>NaN</td>\n",
       "      <td>unknown</td>\n",
       "      <td>https://en.wikipedia.org/wiki/Kansas_Saloon_Sm...</td>\n",
       "      <td>A bartender is working at a saloon, serving dr...</td>\n",
       "    </tr>\n",
       "    <tr>\n",
       "      <th>1</th>\n",
       "      <td>1901</td>\n",
       "      <td>Love by the Light of the Moon</td>\n",
       "      <td>American</td>\n",
       "      <td>Unknown</td>\n",
       "      <td>NaN</td>\n",
       "      <td>unknown</td>\n",
       "      <td>https://en.wikipedia.org/wiki/Love_by_the_Ligh...</td>\n",
       "      <td>The moon, painted with a smiling face hangs ov...</td>\n",
       "    </tr>\n",
       "    <tr>\n",
       "      <th>2</th>\n",
       "      <td>1901</td>\n",
       "      <td>The Martyred Presidents</td>\n",
       "      <td>American</td>\n",
       "      <td>Unknown</td>\n",
       "      <td>NaN</td>\n",
       "      <td>unknown</td>\n",
       "      <td>https://en.wikipedia.org/wiki/The_Martyred_Pre...</td>\n",
       "      <td>The film, just over a minute long, is composed...</td>\n",
       "    </tr>\n",
       "    <tr>\n",
       "      <th>3</th>\n",
       "      <td>1901</td>\n",
       "      <td>Terrible Teddy, the Grizzly King</td>\n",
       "      <td>American</td>\n",
       "      <td>Unknown</td>\n",
       "      <td>NaN</td>\n",
       "      <td>unknown</td>\n",
       "      <td>https://en.wikipedia.org/wiki/Terrible_Teddy,_...</td>\n",
       "      <td>Lasting just 61 seconds and consisting of two ...</td>\n",
       "    </tr>\n",
       "    <tr>\n",
       "      <th>4</th>\n",
       "      <td>1902</td>\n",
       "      <td>Jack and the Beanstalk</td>\n",
       "      <td>American</td>\n",
       "      <td>George S. Fleming, Edwin S. Porter</td>\n",
       "      <td>NaN</td>\n",
       "      <td>unknown</td>\n",
       "      <td>https://en.wikipedia.org/wiki/Jack_and_the_Bea...</td>\n",
       "      <td>The earliest known adaptation of the classic f...</td>\n",
       "    </tr>\n",
       "  </tbody>\n",
       "</table>\n",
       "</div>"
      ],
      "text/plain": [
       "   Release Year                             Title Origin/Ethnicity  \\\n",
       "0          1901            Kansas Saloon Smashers         American   \n",
       "1          1901     Love by the Light of the Moon         American   \n",
       "2          1901           The Martyred Presidents         American   \n",
       "3          1901  Terrible Teddy, the Grizzly King         American   \n",
       "4          1902            Jack and the Beanstalk         American   \n",
       "\n",
       "                             Director Cast    Genre  \\\n",
       "0                             Unknown  NaN  unknown   \n",
       "1                             Unknown  NaN  unknown   \n",
       "2                             Unknown  NaN  unknown   \n",
       "3                             Unknown  NaN  unknown   \n",
       "4  George S. Fleming, Edwin S. Porter  NaN  unknown   \n",
       "\n",
       "                                           Wiki Page  \\\n",
       "0  https://en.wikipedia.org/wiki/Kansas_Saloon_Sm...   \n",
       "1  https://en.wikipedia.org/wiki/Love_by_the_Ligh...   \n",
       "2  https://en.wikipedia.org/wiki/The_Martyred_Pre...   \n",
       "3  https://en.wikipedia.org/wiki/Terrible_Teddy,_...   \n",
       "4  https://en.wikipedia.org/wiki/Jack_and_the_Bea...   \n",
       "\n",
       "                                                Plot  \n",
       "0  A bartender is working at a saloon, serving dr...  \n",
       "1  The moon, painted with a smiling face hangs ov...  \n",
       "2  The film, just over a minute long, is composed...  \n",
       "3  Lasting just 61 seconds and consisting of two ...  \n",
       "4  The earliest known adaptation of the classic f...  "
      ]
     },
     "execution_count": 2,
     "metadata": {},
     "output_type": "execute_result"
    }
   ],
   "source": [
    "df = pd.read_csv('wiki_movie_plots_deduped.csv')\n",
    "df.head()"
   ]
  },
  {
   "cell_type": "code",
   "execution_count": 3,
   "id": "07406a1e",
   "metadata": {},
   "outputs": [
    {
     "data": {
      "text/plain": [
       "'https://en.wikipedia.org/wiki/Kansas_Saloon_Smashers'"
      ]
     },
     "execution_count": 3,
     "metadata": {},
     "output_type": "execute_result"
    }
   ],
   "source": [
    "df['Wiki Page'][0]"
   ]
  },
  {
   "cell_type": "code",
   "execution_count": null,
   "id": "9369353b",
   "metadata": {},
   "outputs": [],
   "source": [
    "df.info()"
   ]
  },
  {
   "cell_type": "markdown",
   "id": "0bd26428",
   "metadata": {},
   "source": [
    "В анализируемом датасете 34886 строк. Всего 8 столбцов, все поля с типом данных object, за исключением поля Release Year. Пропущенные значения есть только в столбце Cast"
   ]
  },
  {
   "cell_type": "code",
   "execution_count": null,
   "id": "6a202caa",
   "metadata": {},
   "outputs": [],
   "source": [
    "for i in list(df.columns):\n",
    "    print(\"Уникальных значений в столбце {0} : {1}\".format(i, len(df[i].unique())))"
   ]
  },
  {
   "cell_type": "markdown",
   "id": "655c00cd",
   "metadata": {},
   "source": [
    "Так как цель проекта определить жанр, то отберем строки, где точно известен жанр"
   ]
  },
  {
   "cell_type": "code",
   "execution_count": 8,
   "id": "d5ae8955",
   "metadata": {},
   "outputs": [
    {
     "data": {
      "text/html": [
       "<div>\n",
       "<style scoped>\n",
       "    .dataframe tbody tr th:only-of-type {\n",
       "        vertical-align: middle;\n",
       "    }\n",
       "\n",
       "    .dataframe tbody tr th {\n",
       "        vertical-align: top;\n",
       "    }\n",
       "\n",
       "    .dataframe thead th {\n",
       "        text-align: right;\n",
       "    }\n",
       "</style>\n",
       "<table border=\"1\" class=\"dataframe\">\n",
       "  <thead>\n",
       "    <tr style=\"text-align: right;\">\n",
       "      <th></th>\n",
       "      <th>Release Year</th>\n",
       "      <th>Title</th>\n",
       "      <th>Origin/Ethnicity</th>\n",
       "      <th>Director</th>\n",
       "      <th>Cast</th>\n",
       "      <th>Genre</th>\n",
       "      <th>Wiki Page</th>\n",
       "      <th>Plot</th>\n",
       "    </tr>\n",
       "  </thead>\n",
       "  <tbody>\n",
       "    <tr>\n",
       "      <th>6</th>\n",
       "      <td>1903</td>\n",
       "      <td>The Great Train Robbery</td>\n",
       "      <td>American</td>\n",
       "      <td>Edwin S. Porter</td>\n",
       "      <td>NaN</td>\n",
       "      <td>western</td>\n",
       "      <td>https://en.wikipedia.org/wiki/The_Great_Train_...</td>\n",
       "      <td>The film opens with two bandits breaking into ...</td>\n",
       "    </tr>\n",
       "    <tr>\n",
       "      <th>7</th>\n",
       "      <td>1904</td>\n",
       "      <td>The Suburbanite</td>\n",
       "      <td>American</td>\n",
       "      <td>Wallace McCutcheon</td>\n",
       "      <td>NaN</td>\n",
       "      <td>comedy</td>\n",
       "      <td>https://en.wikipedia.org/wiki/The_Suburbanite</td>\n",
       "      <td>The film is about a family who move to the sub...</td>\n",
       "    </tr>\n",
       "    <tr>\n",
       "      <th>10</th>\n",
       "      <td>1906</td>\n",
       "      <td>Dream of a Rarebit Fiend</td>\n",
       "      <td>American</td>\n",
       "      <td>Wallace McCutcheon and Edwin S. Porter</td>\n",
       "      <td>NaN</td>\n",
       "      <td>short</td>\n",
       "      <td>https://en.wikipedia.org/wiki/Dream_of_a_Rareb...</td>\n",
       "      <td>The Rarebit Fiend gorges on Welsh rarebit at a...</td>\n",
       "    </tr>\n",
       "    <tr>\n",
       "      <th>11</th>\n",
       "      <td>1906</td>\n",
       "      <td>From Leadville to Aspen: A Hold-Up in the Rockies</td>\n",
       "      <td>American</td>\n",
       "      <td>Francis J. Marion and Wallace McCutcheon</td>\n",
       "      <td>NaN</td>\n",
       "      <td>short action/crime western</td>\n",
       "      <td>https://en.wikipedia.org/wiki/From_Leadville_t...</td>\n",
       "      <td>The film features a train traveling through th...</td>\n",
       "    </tr>\n",
       "    <tr>\n",
       "      <th>12</th>\n",
       "      <td>1906</td>\n",
       "      <td>Kathleen Mavourneen</td>\n",
       "      <td>American</td>\n",
       "      <td>Edwin S. Porter</td>\n",
       "      <td>NaN</td>\n",
       "      <td>short film</td>\n",
       "      <td>https://en.wikipedia.org/wiki/Kathleen_Mavourn...</td>\n",
       "      <td>Irish villager Kathleen is a tenant of Captain...</td>\n",
       "    </tr>\n",
       "  </tbody>\n",
       "</table>\n",
       "</div>"
      ],
      "text/plain": [
       "    Release Year                                              Title  \\\n",
       "6           1903                            The Great Train Robbery   \n",
       "7           1904                                    The Suburbanite   \n",
       "10          1906                           Dream of a Rarebit Fiend   \n",
       "11          1906  From Leadville to Aspen: A Hold-Up in the Rockies   \n",
       "12          1906                                Kathleen Mavourneen   \n",
       "\n",
       "   Origin/Ethnicity                                  Director Cast  \\\n",
       "6          American                           Edwin S. Porter  NaN   \n",
       "7          American                        Wallace McCutcheon  NaN   \n",
       "10         American    Wallace McCutcheon and Edwin S. Porter  NaN   \n",
       "11         American  Francis J. Marion and Wallace McCutcheon  NaN   \n",
       "12         American                           Edwin S. Porter  NaN   \n",
       "\n",
       "                         Genre  \\\n",
       "6                      western   \n",
       "7                       comedy   \n",
       "10                       short   \n",
       "11  short action/crime western   \n",
       "12                  short film   \n",
       "\n",
       "                                            Wiki Page  \\\n",
       "6   https://en.wikipedia.org/wiki/The_Great_Train_...   \n",
       "7       https://en.wikipedia.org/wiki/The_Suburbanite   \n",
       "10  https://en.wikipedia.org/wiki/Dream_of_a_Rareb...   \n",
       "11  https://en.wikipedia.org/wiki/From_Leadville_t...   \n",
       "12  https://en.wikipedia.org/wiki/Kathleen_Mavourn...   \n",
       "\n",
       "                                                 Plot  \n",
       "6   The film opens with two bandits breaking into ...  \n",
       "7   The film is about a family who move to the sub...  \n",
       "10  The Rarebit Fiend gorges on Welsh rarebit at a...  \n",
       "11  The film features a train traveling through th...  \n",
       "12  Irish villager Kathleen is a tenant of Captain...  "
      ]
     },
     "execution_count": 8,
     "metadata": {},
     "output_type": "execute_result"
    }
   ],
   "source": [
    "df = df[df['Genre']!='unknown']\n",
    "df.head()"
   ]
  },
  {
   "cell_type": "markdown",
   "id": "727d5ac5",
   "metadata": {},
   "source": [
    "На мой взгляд при определении жанра важен режисер, удалим значения с Unknown"
   ]
  },
  {
   "cell_type": "code",
   "execution_count": 9,
   "id": "a4aa8e27",
   "metadata": {},
   "outputs": [],
   "source": [
    "df = df[df['Director']!='Unknown']"
   ]
  },
  {
   "cell_type": "code",
   "execution_count": null,
   "id": "5e0b4ee6",
   "metadata": {},
   "outputs": [],
   "source": [
    "df.info()"
   ]
  },
  {
   "cell_type": "code",
   "execution_count": null,
   "id": "f1173fdc",
   "metadata": {},
   "outputs": [],
   "source": [
    "df.groupby(\"Release Year\")[\"Release Year\"].count().sort_index(ascending=False).head()\n"
   ]
  },
  {
   "cell_type": "code",
   "execution_count": 17,
   "id": "c02c6dd7",
   "metadata": {},
   "outputs": [
    {
     "data": {
      "image/png": "[encoded data removed]",
      "text/plain": [
       "<Figure size 576x360 with 1 Axes>"
      ]
     },
     "metadata": {},
     "output_type": "display_data"
    },
    {
     "data": {
      "image/png": "[encoded data removed]",
      "text/plain": [
       "<Figure size 576x360 with 1 Axes>"
      ]
     },
     "metadata": {},
     "output_type": "display_data"
    },
    {
     "data": {
      "image/png": "[encoded data removed]",
      "text/plain": [
       "<Figure size 576x360 with 1 Axes>"
      ]
     },
     "metadata": {},
     "output_type": "display_data"
    },
    {
     "data": {
      "image/png": "[encoded data removed]",
      "text/plain": [
       "<Figure size 576x360 with 1 Axes>"
      ]
     },
     "metadata": {},
     "output_type": "display_data"
    }
   ],
   "source": [
    "for i_col in [\"Genre\", \"Origin/Ethnicity\", \"Director\", \"Release Year\"] :\n",
    "    d = df.copy()\n",
    "    d['plus'] = d[i_col]\n",
    "    if i_col == \"Release Year\":\n",
    "        data = d.groupby(i_col)['plus'].count().sort_index(ascending=False).reset_index().head(10)\n",
    "        fig, ax = plt.subplots(figsize=(8,5))\n",
    "        ax = sns.barplot(data=data, x=data[i_col], y=data['plus'], ax=ax)\n",
    "    else:\n",
    "        data = d.groupby(i_col)['plus'].count().sort_values(ascending=False).reset_index().head(10)\n",
    "        fig, ax = plt.subplots(figsize=(8,5))\n",
    "        ax = sns.barplot(data=data, x=data['plus'], y=data[i_col], ax=ax)"
   ]
  },
  {
   "cell_type": "code",
   "execution_count": null,
   "id": "4a48a977",
   "metadata": {},
   "outputs": [],
   "source": [
    "Из всего датасета самый популярный жанр драма-почти 6000 фильмов"
   ]
  },
  {
   "cell_type": "code",
   "execution_count": null,
   "id": "1b9000e0",
   "metadata": {},
   "outputs": [],
   "source": [
    "# Самые попоулярные жанры в Америке\n",
    "d = df.copy()\n",
    "d['plus'] = d['Origin/Ethnicity']\n",
    "data = d.groupby(\"Genre\")['plus'].count().sort_values(ascending=False).reset_index().head(10)\n",
    "fig, ax = plt.subplots(figsize=(8,5))\n",
    "ax = sns.barplot(data=data, x=data['plus'], y=data[\"Genre\"], ax=ax)"
   ]
  },
  {
   "cell_type": "markdown",
   "id": "84f900d6",
   "metadata": {},
   "source": [
    "разделим столбец Genre с несколькими жанрами и посмотрим как изменятся объемы"
   ]
  },
  {
   "cell_type": "code",
   "execution_count": 14,
   "id": "ce2f30c6",
   "metadata": {},
   "outputs": [],
   "source": [
    "df_copy = df.copy()"
   ]
  },
  {
   "cell_type": "code",
   "execution_count": null,
   "id": "4960ba2e",
   "metadata": {},
   "outputs": [],
   "source": [
    "# tokenizer = WordPunctTokenizer()\n",
    "# df_copy['Genre'] = df_copy['Genre'].apply(lambda x: tokenizer.tokenize(x.lower()))\n",
    "# df_copy.head(10)"
   ]
  },
  {
   "cell_type": "code",
   "execution_count": 15,
   "id": "fb43f1b1",
   "metadata": {},
   "outputs": [
    {
     "data": {
      "text/html": [
       "<div>\n",
       "<style scoped>\n",
       "    .dataframe tbody tr th:only-of-type {\n",
       "        vertical-align: middle;\n",
       "    }\n",
       "\n",
       "    .dataframe tbody tr th {\n",
       "        vertical-align: top;\n",
       "    }\n",
       "\n",
       "    .dataframe thead th {\n",
       "        text-align: right;\n",
       "    }\n",
       "</style>\n",
       "<table border=\"1\" class=\"dataframe\">\n",
       "  <thead>\n",
       "    <tr style=\"text-align: right;\">\n",
       "      <th></th>\n",
       "      <th>Release Year</th>\n",
       "      <th>Title</th>\n",
       "      <th>Origin/Ethnicity</th>\n",
       "      <th>Director</th>\n",
       "      <th>Cast</th>\n",
       "      <th>Genre</th>\n",
       "      <th>Wiki Page</th>\n",
       "      <th>Plot</th>\n",
       "      <th>genre_encoded</th>\n",
       "    </tr>\n",
       "  </thead>\n",
       "  <tbody>\n",
       "    <tr>\n",
       "      <th>0</th>\n",
       "      <td>1949</td>\n",
       "      <td>The Window</td>\n",
       "      <td>American</td>\n",
       "      <td>Ted Tetzlaff</td>\n",
       "      <td>Bobby Driscoll, Barbara Hale</td>\n",
       "      <td>drama</td>\n",
       "      <td>https://en.wikipedia.org/wiki/The_Window_(film)</td>\n",
       "      <td>Set and filmed on location in the tenement sec...</td>\n",
       "      <td>11</td>\n",
       "    </tr>\n",
       "    <tr>\n",
       "      <th>1</th>\n",
       "      <td>2012</td>\n",
       "      <td>Adhisaya Ulagam</td>\n",
       "      <td>Tamil</td>\n",
       "      <td>Shakthi Scott</td>\n",
       "      <td>Livingston, Ananda Kannan, Prithvi, Sreelakshm...</td>\n",
       "      <td>fantasy</td>\n",
       "      <td>https://en.wikipedia.org/wiki/Adhisaya_Ulagam</td>\n",
       "      <td>Professor Neelakantan (J. Livingston) is an ma...</td>\n",
       "      <td>13</td>\n",
       "    </tr>\n",
       "    <tr>\n",
       "      <th>2</th>\n",
       "      <td>2008</td>\n",
       "      <td>Lala's Gun</td>\n",
       "      <td>Chinese</td>\n",
       "      <td>Ning Jingwu</td>\n",
       "      <td>Wang Jishuai</td>\n",
       "      <td>drama</td>\n",
       "      <td>https://en.wikipedia.org/wiki/Lala%27s_Gun</td>\n",
       "      <td>Lala's Gun is the story of a boy from the vill...</td>\n",
       "      <td>11</td>\n",
       "    </tr>\n",
       "    <tr>\n",
       "      <th>3</th>\n",
       "      <td>2005</td>\n",
       "      <td>The Sisterhood of the Traveling Pants</td>\n",
       "      <td>American</td>\n",
       "      <td>Ken Kwapis</td>\n",
       "      <td>Amber Tamblyn, America Ferrera, Blake Lively, ...</td>\n",
       "      <td>comedy-drama</td>\n",
       "      <td>https://en.wikipedia.org/wiki/The_Sisterhood_o...</td>\n",
       "      <td>Four teenage girls—Carmen, Tibby, Bridget, and...</td>\n",
       "      <td>8</td>\n",
       "    </tr>\n",
       "    <tr>\n",
       "      <th>4</th>\n",
       "      <td>1914</td>\n",
       "      <td>Mabel's Blunder</td>\n",
       "      <td>American</td>\n",
       "      <td>Mabel Normand</td>\n",
       "      <td>Mabel Normand, Charly Chase, Al St. John</td>\n",
       "      <td>comedy</td>\n",
       "      <td>https://en.wikipedia.org/wiki/Mabel%27s_Blunder</td>\n",
       "      <td>Mabel's Blunder tells the tale of a young woma...</td>\n",
       "      <td>5</td>\n",
       "    </tr>\n",
       "    <tr>\n",
       "      <th>...</th>\n",
       "      <td>...</td>\n",
       "      <td>...</td>\n",
       "      <td>...</td>\n",
       "      <td>...</td>\n",
       "      <td>...</td>\n",
       "      <td>...</td>\n",
       "      <td>...</td>\n",
       "      <td>...</td>\n",
       "      <td>...</td>\n",
       "    </tr>\n",
       "    <tr>\n",
       "      <th>7486</th>\n",
       "      <td>1936</td>\n",
       "      <td>Desire</td>\n",
       "      <td>American</td>\n",
       "      <td>Frank Borzage</td>\n",
       "      <td>Marlene Dietrich, Gary Cooper, William Frawley</td>\n",
       "      <td>comedy, drama</td>\n",
       "      <td>https://en.wikipedia.org/wiki/Desire_(1936_film)</td>\n",
       "      <td>The film tells of Madeleine de Beaupre (Marlen...</td>\n",
       "      <td>7</td>\n",
       "    </tr>\n",
       "    <tr>\n",
       "      <th>7487</th>\n",
       "      <td>2003</td>\n",
       "      <td>Gaz Bar Blues</td>\n",
       "      <td>Canadian</td>\n",
       "      <td>Louis Bélanger</td>\n",
       "      <td>Serge Thériault, Danny Gilmore</td>\n",
       "      <td>comedy, drama</td>\n",
       "      <td>https://en.wikipedia.org/wiki/Gaz_Bar_Blues</td>\n",
       "      <td>François Brochu (Serge Thériault), named \"the ...</td>\n",
       "      <td>7</td>\n",
       "    </tr>\n",
       "    <tr>\n",
       "      <th>7488</th>\n",
       "      <td>1944</td>\n",
       "      <td>Farewell, My Lovely</td>\n",
       "      <td>American</td>\n",
       "      <td>Edward Dmytryk</td>\n",
       "      <td>Dick Powell, Claire Trevor</td>\n",
       "      <td>film noir</td>\n",
       "      <td>https://en.wikipedia.org/wiki/Murder,_My_Sweet</td>\n",
       "      <td>Temporarily blinded with his eyes bandaged, pr...</td>\n",
       "      <td>14</td>\n",
       "    </tr>\n",
       "    <tr>\n",
       "      <th>7489</th>\n",
       "      <td>1990</td>\n",
       "      <td>Life is Sweet</td>\n",
       "      <td>British</td>\n",
       "      <td>Mike Leigh</td>\n",
       "      <td>Alison Steadman, Jim Broadbent, Jane Horrocks</td>\n",
       "      <td>comedy drama</td>\n",
       "      <td>https://en.wikipedia.org/wiki/Life_Is_Sweet_(f...</td>\n",
       "      <td>Andy (Jim Broadbent), a senior chef in a large...</td>\n",
       "      <td>6</td>\n",
       "    </tr>\n",
       "    <tr>\n",
       "      <th>7490</th>\n",
       "      <td>1963</td>\n",
       "      <td>Insect Woman !The Insect Woman</td>\n",
       "      <td>Japanese</td>\n",
       "      <td>Imamura, ShoheiShohei Imamura</td>\n",
       "      <td>Sachiko Hidari, Jitsuko Yoshimura, Hiroyuki Na...</td>\n",
       "      <td>comedy drama</td>\n",
       "      <td>https://en.wikipedia.org/wiki/The_Insect_Woman</td>\n",
       "      <td>A woman, Tome, (Sachiko Hidari) is born to a l...</td>\n",
       "      <td>6</td>\n",
       "    </tr>\n",
       "  </tbody>\n",
       "</table>\n",
       "<p>7491 rows × 9 columns</p>\n",
       "</div>"
      ],
      "text/plain": [
       "      Release Year                                  Title Origin/Ethnicity  \\\n",
       "0             1949                             The Window         American   \n",
       "1             2012                        Adhisaya Ulagam            Tamil   \n",
       "2             2008                             Lala's Gun          Chinese   \n",
       "3             2005  The Sisterhood of the Traveling Pants         American   \n",
       "4             1914                        Mabel's Blunder         American   \n",
       "...            ...                                    ...              ...   \n",
       "7486          1936                                 Desire         American   \n",
       "7487          2003                          Gaz Bar Blues         Canadian   \n",
       "7488          1944                    Farewell, My Lovely         American   \n",
       "7489          1990                          Life is Sweet          British   \n",
       "7490          1963         Insect Woman !The Insect Woman         Japanese   \n",
       "\n",
       "                           Director  \\\n",
       "0                      Ted Tetzlaff   \n",
       "1                     Shakthi Scott   \n",
       "2                       Ning Jingwu   \n",
       "3                        Ken Kwapis   \n",
       "4                     Mabel Normand   \n",
       "...                             ...   \n",
       "7486                  Frank Borzage   \n",
       "7487                 Louis Bélanger   \n",
       "7488                 Edward Dmytryk   \n",
       "7489                     Mike Leigh   \n",
       "7490  Imamura, ShoheiShohei Imamura   \n",
       "\n",
       "                                                   Cast          Genre  \\\n",
       "0                          Bobby Driscoll, Barbara Hale          drama   \n",
       "1     Livingston, Ananda Kannan, Prithvi, Sreelakshm...        fantasy   \n",
       "2                                          Wang Jishuai          drama   \n",
       "3     Amber Tamblyn, America Ferrera, Blake Lively, ...   comedy-drama   \n",
       "4              Mabel Normand, Charly Chase, Al St. John         comedy   \n",
       "...                                                 ...            ...   \n",
       "7486     Marlene Dietrich, Gary Cooper, William Frawley  comedy, drama   \n",
       "7487                     Serge Thériault, Danny Gilmore  comedy, drama   \n",
       "7488                         Dick Powell, Claire Trevor      film noir   \n",
       "7489      Alison Steadman, Jim Broadbent, Jane Horrocks   comedy drama   \n",
       "7490  Sachiko Hidari, Jitsuko Yoshimura, Hiroyuki Na...   comedy drama   \n",
       "\n",
       "                                              Wiki Page  \\\n",
       "0       https://en.wikipedia.org/wiki/The_Window_(film)   \n",
       "1         https://en.wikipedia.org/wiki/Adhisaya_Ulagam   \n",
       "2            https://en.wikipedia.org/wiki/Lala%27s_Gun   \n",
       "3     https://en.wikipedia.org/wiki/The_Sisterhood_o...   \n",
       "4       https://en.wikipedia.org/wiki/Mabel%27s_Blunder   \n",
       "...                                                 ...   \n",
       "7486   https://en.wikipedia.org/wiki/Desire_(1936_film)   \n",
       "7487        https://en.wikipedia.org/wiki/Gaz_Bar_Blues   \n",
       "7488     https://en.wikipedia.org/wiki/Murder,_My_Sweet   \n",
       "7489  https://en.wikipedia.org/wiki/Life_Is_Sweet_(f...   \n",
       "7490     https://en.wikipedia.org/wiki/The_Insect_Woman   \n",
       "\n",
       "                                                   Plot  genre_encoded  \n",
       "0     Set and filmed on location in the tenement sec...             11  \n",
       "1     Professor Neelakantan (J. Livingston) is an ma...             13  \n",
       "2     Lala's Gun is the story of a boy from the vill...             11  \n",
       "3     Four teenage girls—Carmen, Tibby, Bridget, and...              8  \n",
       "4     Mabel's Blunder tells the tale of a young woma...              5  \n",
       "...                                                 ...            ...  \n",
       "7486  The film tells of Madeleine de Beaupre (Marlen...              7  \n",
       "7487  François Brochu (Serge Thériault), named \"the ...              7  \n",
       "7488  Temporarily blinded with his eyes bandaged, pr...             14  \n",
       "7489  Andy (Jim Broadbent), a senior chef in a large...              6  \n",
       "7490  A woman, Tome, (Sachiko Hidari) is born to a l...              6  \n",
       "\n",
       "[7491 rows x 9 columns]"
      ]
     },
     "execution_count": 15,
     "metadata": {},
     "output_type": "execute_result"
    }
   ],
   "source": [
    "\n",
    "# movies_df = movies_df[(movies_df[\"Origin/Ethnicity\"]==\"American\") | (movies_df[\"Origin/Ethnicity\"]==\"British\")]\n",
    "# movies_df = movies_df[[\"Plot\", \"Genre\"]]\n",
    "# drop_indices = movies_df[movies_df[\"Genre\"] == \"unknown\" ].index\n",
    "# movies_df.drop(drop_indices, inplace=True)\n",
    "\n",
    "# Заменим сокращенные жанры: 1) \"sci-fi\" на \"science fiction\" и 2) \"romantic comedy\" на \"romance\"\n",
    "df_copy[\"Genre\"].replace({\"sci-fi\": \"science fiction\", \"romantic comedy\": \"romance\"}, inplace=True)\n",
    "\n",
    "# Выберем самые популярные жанры\n",
    "shortlisted_genres = df_copy[\"Genre\"].value_counts().reset_index(name=\"count\").query(\"count > 100\")[\"index\"].tolist()\n",
    "df_copy = df_copy[df_copy[\"Genre\"].isin(shortlisted_genres)].reset_index(drop=True)\n",
    "\n",
    "# Выберем случайным образом 1 жанр из тех, где указано несколько жанров\n",
    "df_copy = df_copy.sample(frac=1, random_state=1).reset_index(drop=True)\n",
    "\n",
    "# Sample roughly equal number of movie plots from different genres (to reduce class imbalance issues)\n",
    "df_copy = df_copy.groupby(\"Genre\").head(400).reset_index(drop=True)\n",
    "\n",
    "label_encoder = LabelEncoder()\n",
    "df_copy[\"genre_encoded\"] = label_encoder.fit_transform(df_copy[\"Genre\"].tolist())\n",
    "\n",
    "# df_copy = df_copy[[\"Plot\", \"Genre\", \"genre_encoded\"]]\n",
    "df_copy"
   ]
  },
  {
   "cell_type": "code",
   "execution_count": 16,
   "id": "a9a08575",
   "metadata": {},
   "outputs": [
    {
     "data": {
      "image/png": "[encoded data removed]",
      "text/plain": [
       "<Figure size 576x360 with 1 Axes>"
      ]
     },
     "metadata": {},
     "output_type": "display_data"
    },
    {
     "data": {
      "image/png": "[encoded data removed]",
      "text/plain": [
       "<Figure size 576x360 with 1 Axes>"
      ]
     },
     "metadata": {},
     "output_type": "display_data"
    },
    {
     "data": {
      "image/png": "[encoded data removed]",
      "text/plain": [
       "<Figure size 576x360 with 1 Axes>"
      ]
     },
     "metadata": {},
     "output_type": "display_data"
    },
    {
     "data": {
      "image/png": "[encoded data removed]",
      "text/plain": [
       "<Figure size 576x360 with 1 Axes>"
      ]
     },
     "metadata": {},
     "output_type": "display_data"
    }
   ],
   "source": [
    "for i_col in [\"Genre\", \"Origin/Ethnicity\", \"Director\", \"Release Year\"] :\n",
    "    d = df_copy.copy()\n",
    "    d['plus'] = d[i_col]\n",
    "    if i_col == \"Release Year\":\n",
    "        data = d.groupby(i_col)['plus'].count().sort_index(ascending=False).reset_index().head(10)\n",
    "        fig, ax = plt.subplots(figsize=(8,5))\n",
    "        ax = sns.barplot(data=data, x=data[i_col], y=data['plus'], ax=ax)\n",
    "    else:\n",
    "        data = d.groupby(i_col)['plus'].count().sort_values(ascending=False).reset_index().head(10)\n",
    "        fig, ax = plt.subplots(figsize=(8,5))\n",
    "        ax = sns.barplot(data=data, x=data['plus'], y=data[i_col], ax=ax)"
   ]
  },
  {
   "cell_type": "code",
   "execution_count": null,
   "id": "5b65f6e2",
   "metadata": {},
   "outputs": [],
   "source": []
  },
  {
   "cell_type": "code",
   "execution_count": null,
   "id": "0c6b6609",
   "metadata": {},
   "outputs": [],
   "source": []
  },
  {
   "cell_type": "code",
   "execution_count": null,
   "id": "038d0b07",
   "metadata": {},
   "outputs": [],
   "source": []
  },
  {
   "cell_type": "markdown",
   "id": "d4aa4875",
   "metadata": {},
   "source": [
    "### 2.Подготовьте sentiment analysis по отзывам (используя  nltk.classify) и оцените, как распределяется sentiment по актерам, режиссерам и жанрам"
   ]
  },
  {
   "cell_type": "code",
   "execution_count": 18,
   "id": "344e18d1",
   "metadata": {},
   "outputs": [],
   "source": [
    "import pickle\n",
    "import os\n",
    "import string\n",
    "import warnings\n",
    "\n",
    "from nltk.corpus import stopwords\n",
    "from nltk.stem.snowball import SnowballStemmer\n",
    "\n",
    "from sklearn.feature_extraction.text import TfidfVectorizer\n",
    "from sklearn.metrics import confusion_matrix, classification_report, accuracy_score\n",
    "from sklearn.model_selection import train_test_split\n",
    "from sklearn.preprocessing import LabelEncoder\n",
    "from sklearn.svm import LinearSVC"
   ]
  },
  {
   "cell_type": "code",
   "execution_count": 19,
   "id": "64c396f7",
   "metadata": {},
   "outputs": [],
   "source": [
    "warnings.filterwarnings('ignore')"
   ]
  },
  {
   "cell_type": "markdown",
   "id": "2ec8e353",
   "metadata": {},
   "source": [
    "загружаем отзывы"
   ]
  },
  {
   "cell_type": "code",
   "execution_count": 20,
   "id": "af5e02ba",
   "metadata": {},
   "outputs": [
    {
     "data": {
      "text/html": [
       "<div>\n",
       "<style scoped>\n",
       "    .dataframe tbody tr th:only-of-type {\n",
       "        vertical-align: middle;\n",
       "    }\n",
       "\n",
       "    .dataframe tbody tr th {\n",
       "        vertical-align: top;\n",
       "    }\n",
       "\n",
       "    .dataframe thead th {\n",
       "        text-align: right;\n",
       "    }\n",
       "</style>\n",
       "<table border=\"1\" class=\"dataframe\">\n",
       "  <thead>\n",
       "    <tr style=\"text-align: right;\">\n",
       "      <th></th>\n",
       "      <th>review</th>\n",
       "      <th>sentiment</th>\n",
       "    </tr>\n",
       "  </thead>\n",
       "  <tbody>\n",
       "    <tr>\n",
       "      <th>0</th>\n",
       "      <td>One of the other reviewers has mentioned that ...</td>\n",
       "      <td>positive</td>\n",
       "    </tr>\n",
       "    <tr>\n",
       "      <th>1</th>\n",
       "      <td>A wonderful little production. &lt;br /&gt;&lt;br /&gt;The...</td>\n",
       "      <td>positive</td>\n",
       "    </tr>\n",
       "    <tr>\n",
       "      <th>2</th>\n",
       "      <td>I thought this was a wonderful way to spend ti...</td>\n",
       "      <td>positive</td>\n",
       "    </tr>\n",
       "    <tr>\n",
       "      <th>3</th>\n",
       "      <td>Basically there's a family where a little boy ...</td>\n",
       "      <td>negative</td>\n",
       "    </tr>\n",
       "    <tr>\n",
       "      <th>4</th>\n",
       "      <td>Petter Mattei's \"Love in the Time of Money\" is...</td>\n",
       "      <td>positive</td>\n",
       "    </tr>\n",
       "  </tbody>\n",
       "</table>\n",
       "</div>"
      ],
      "text/plain": [
       "                                              review sentiment\n",
       "0  One of the other reviewers has mentioned that ...  positive\n",
       "1  A wonderful little production. <br /><br />The...  positive\n",
       "2  I thought this was a wonderful way to spend ti...  positive\n",
       "3  Basically there's a family where a little boy ...  negative\n",
       "4  Petter Mattei's \"Love in the Time of Money\" is...  positive"
      ]
     },
     "execution_count": 20,
     "metadata": {},
     "output_type": "execute_result"
    }
   ],
   "source": [
    "reviews = pd.read_csv(\"IMDB_Dataset.csv.zip\")\n",
    "reviews.head()"
   ]
  },
  {
   "cell_type": "code",
   "execution_count": 22,
   "id": "1683d465",
   "metadata": {},
   "outputs": [
    {
     "data": {
      "text/html": [
       "<div>\n",
       "<style scoped>\n",
       "    .dataframe tbody tr th:only-of-type {\n",
       "        vertical-align: middle;\n",
       "    }\n",
       "\n",
       "    .dataframe tbody tr th {\n",
       "        vertical-align: top;\n",
       "    }\n",
       "\n",
       "    .dataframe thead th {\n",
       "        text-align: right;\n",
       "    }\n",
       "</style>\n",
       "<table border=\"1\" class=\"dataframe\">\n",
       "  <thead>\n",
       "    <tr style=\"text-align: right;\">\n",
       "      <th></th>\n",
       "      <th>review</th>\n",
       "      <th>sentiment</th>\n",
       "      <th>review_token</th>\n",
       "    </tr>\n",
       "  </thead>\n",
       "  <tbody>\n",
       "    <tr>\n",
       "      <th>0</th>\n",
       "      <td>One of the other reviewers has mentioned that ...</td>\n",
       "      <td>positive</td>\n",
       "      <td>[one, of, the, other, reviewers, has, mentione...</td>\n",
       "    </tr>\n",
       "    <tr>\n",
       "      <th>1</th>\n",
       "      <td>A wonderful little production. &lt;br /&gt;&lt;br /&gt;The...</td>\n",
       "      <td>positive</td>\n",
       "      <td>[a, wonderful, little, production, ., &lt;, br, /...</td>\n",
       "    </tr>\n",
       "    <tr>\n",
       "      <th>2</th>\n",
       "      <td>I thought this was a wonderful way to spend ti...</td>\n",
       "      <td>positive</td>\n",
       "      <td>[i, thought, this, was, a, wonderful, way, to,...</td>\n",
       "    </tr>\n",
       "    <tr>\n",
       "      <th>3</th>\n",
       "      <td>Basically there's a family where a little boy ...</td>\n",
       "      <td>negative</td>\n",
       "      <td>[basically, there, ', s, a, family, where, a, ...</td>\n",
       "    </tr>\n",
       "    <tr>\n",
       "      <th>4</th>\n",
       "      <td>Petter Mattei's \"Love in the Time of Money\" is...</td>\n",
       "      <td>positive</td>\n",
       "      <td>[petter, mattei, ', s, \", love, in, the, time,...</td>\n",
       "    </tr>\n",
       "    <tr>\n",
       "      <th>5</th>\n",
       "      <td>Probably my all-time favorite movie, a story o...</td>\n",
       "      <td>positive</td>\n",
       "      <td>[probably, my, all, -, time, favorite, movie, ...</td>\n",
       "    </tr>\n",
       "    <tr>\n",
       "      <th>6</th>\n",
       "      <td>I sure would like to see a resurrection of a u...</td>\n",
       "      <td>positive</td>\n",
       "      <td>[i, sure, would, like, to, see, a, resurrectio...</td>\n",
       "    </tr>\n",
       "    <tr>\n",
       "      <th>7</th>\n",
       "      <td>This show was an amazing, fresh &amp; innovative i...</td>\n",
       "      <td>negative</td>\n",
       "      <td>[this, show, was, an, amazing, ,, fresh, &amp;, in...</td>\n",
       "    </tr>\n",
       "    <tr>\n",
       "      <th>8</th>\n",
       "      <td>Encouraged by the positive comments about this...</td>\n",
       "      <td>negative</td>\n",
       "      <td>[encouraged, by, the, positive, comments, abou...</td>\n",
       "    </tr>\n",
       "    <tr>\n",
       "      <th>9</th>\n",
       "      <td>If you like original gut wrenching laughter yo...</td>\n",
       "      <td>positive</td>\n",
       "      <td>[if, you, like, original, gut, wrenching, laug...</td>\n",
       "    </tr>\n",
       "  </tbody>\n",
       "</table>\n",
       "</div>"
      ],
      "text/plain": [
       "                                              review sentiment  \\\n",
       "0  One of the other reviewers has mentioned that ...  positive   \n",
       "1  A wonderful little production. <br /><br />The...  positive   \n",
       "2  I thought this was a wonderful way to spend ti...  positive   \n",
       "3  Basically there's a family where a little boy ...  negative   \n",
       "4  Petter Mattei's \"Love in the Time of Money\" is...  positive   \n",
       "5  Probably my all-time favorite movie, a story o...  positive   \n",
       "6  I sure would like to see a resurrection of a u...  positive   \n",
       "7  This show was an amazing, fresh & innovative i...  negative   \n",
       "8  Encouraged by the positive comments about this...  negative   \n",
       "9  If you like original gut wrenching laughter yo...  positive   \n",
       "\n",
       "                                        review_token  \n",
       "0  [one, of, the, other, reviewers, has, mentione...  \n",
       "1  [a, wonderful, little, production, ., <, br, /...  \n",
       "2  [i, thought, this, was, a, wonderful, way, to,...  \n",
       "3  [basically, there, ', s, a, family, where, a, ...  \n",
       "4  [petter, mattei, ', s, \", love, in, the, time,...  \n",
       "5  [probably, my, all, -, time, favorite, movie, ...  \n",
       "6  [i, sure, would, like, to, see, a, resurrectio...  \n",
       "7  [this, show, was, an, amazing, ,, fresh, &, in...  \n",
       "8  [encouraged, by, the, positive, comments, abou...  \n",
       "9  [if, you, like, original, gut, wrenching, laug...  "
      ]
     },
     "execution_count": 22,
     "metadata": {},
     "output_type": "execute_result"
    }
   ],
   "source": [
    "tokenizer = WordPunctTokenizer()\n",
    "reviews['review_token'] = reviews['review'].apply(lambda x: tokenizer.tokenize(x.lower()))\n",
    "reviews.head(10)"
   ]
  },
  {
   "cell_type": "code",
   "execution_count": 26,
   "id": "6b486c2f",
   "metadata": {},
   "outputs": [],
   "source": [
    "def vectorize(tokens):\n",
    "    ''' This function takes list of words in a sentence as input \n",
    "    and returns a vector of size of filtered_vocab.It puts 0 if the \n",
    "    word is not present in tokens and count of token if present.'''\n",
    "    vector=[]\n",
    "    for w in filtered_vocab:\n",
    "        vector.append(tokens.count(w))\n",
    "    return vector\n",
    "def unique(sequence):\n",
    "    '''This functions returns a list in which the order remains \n",
    "    same and no item repeats.Using the set() function does not \n",
    "    preserve the original ordering,so i didnt use that instead'''\n",
    "    seen = set()\n",
    "    return [x for x in sequence if not (x in seen or seen.add(x))]\n",
    "\n",
    "stops = set(stopwords.words('english'))\n",
    "\n",
    "#list of special characters.You can use regular expressions too\n",
    "special_char=[\",\",\":\",\" \",\";\",\".\",\"?\",\"-\",\"!\",\"/\",\"<\",\"&\"]"
   ]
  },
  {
   "cell_type": "code",
   "execution_count": null,
   "id": "8e016e58",
   "metadata": {},
   "outputs": [],
   "source": [
    "# reviews['review_token'] = reviews['review_token'].apply(lambda x: str([]) if i in special_char for i in x)"
   ]
  },
  {
   "cell_type": "code",
   "execution_count": null,
   "id": "6b205ef2",
   "metadata": {},
   "outputs": [],
   "source": [
    "n = 0\n",
    "while n <= len(reviews):\n",
    "    for i in reviews['review_token'][n]:\n",
    "        lst = []\n",
    "        if (i not in special_char and i not in stops):\n",
    "            lst.append(i)\n",
    "        reviews['review_token'][n] = lst\n",
    "        n +=1"
   ]
  },
  {
   "cell_type": "code",
   "execution_count": null,
   "id": "52f6343c",
   "metadata": {},
   "outputs": [],
   "source": [
    "from zipfile import ZipFile\n",
    "zipfile = 'IMDB_Movies_2021.db.zip'\n",
    "z = ZipFile(zipfile)\n",
    "z.infolist()"
   ]
  },
  {
   "cell_type": "code",
   "execution_count": null,
   "id": "bcbc5a81",
   "metadata": {},
   "outputs": [],
   "source": [
    "# pd.read_csv(\"IMDB_Movies_2021.db\")"
   ]
  },
  {
   "cell_type": "code",
   "execution_count": null,
   "id": "9fe7ae4b",
   "metadata": {},
   "outputs": [],
   "source": [
    "import sqlite3\n",
    "\n",
    "# Create your connection.\n",
    "cnx = sqlite3.connect('IMDB_Movies_2021.db')\n",
    "\n",
    "reviews = pd.read_sql_query(\"tables\", cnx)\n",
    "# reviews = pd.read_csv(\"IMDB_Movies_2021.db.zip\")\n",
    "reviews.head()"
   ]
  },
  {
   "cell_type": "code",
   "execution_count": null,
   "id": "b9595ef6",
   "metadata": {},
   "outputs": [],
   "source": []
  },
  {
   "cell_type": "code",
   "execution_count": null,
   "id": "ffcc9e06",
   "metadata": {},
   "outputs": [],
   "source": []
  },
  {
   "cell_type": "code",
   "execution_count": null,
   "id": "07dd7701",
   "metadata": {},
   "outputs": [],
   "source": []
  },
  {
   "cell_type": "code",
   "execution_count": null,
   "id": "34dc417a",
   "metadata": {},
   "outputs": [],
   "source": [
    "# подгружаю отзывы, джойню по году/названию"
   ]
  },
  {
   "cell_type": "code",
   "execution_count": null,
   "id": "c29ae99c",
   "metadata": {},
   "outputs": [],
   "source": [
    "# поле отзывы токенизирую, стем, лемм"
   ]
  },
  {
   "cell_type": "code",
   "execution_count": null,
   "id": "9851c235",
   "metadata": {},
   "outputs": [],
   "source": [
    "# разделяю выборку на test train по очереди обучаю модели по актерам, режиссерам и жанрам\n",
    "from sklearn.model_selection import train_test_split\n",
    "\n",
    "X = data.drop('Director', axis=1)\n",
    "y = data['Director']\n",
    "\n",
    "X_train , X_test, y_train , y_test = train_test_split(X, y, test_size=0.3, random_state=42)"
   ]
  },
  {
   "cell_type": "code",
   "execution_count": null,
   "id": "538ad658",
   "metadata": {},
   "outputs": [],
   "source": [
    "\n",
    "classifier = nltk.classify.GradientBoostingClassifier.train(X_train)"
   ]
  },
  {
   "cell_type": "code",
   "execution_count": null,
   "id": "ff90f16a",
   "metadata": {},
   "outputs": [],
   "source": [
    "# проверяю качество. Буду пробовать различные модели\n"
   ]
  },
  {
   "cell_type": "code",
   "execution_count": null,
   "id": "e9e0ff22",
   "metadata": {},
   "outputs": [],
   "source": [
    "# визуализирую анализ"
   ]
  },
  {
   "cell_type": "markdown",
   "id": "5197bc36",
   "metadata": {},
   "source": [
    "### Необходимо написать на базе BERT определитель жанра фильма: \n",
    " - На вход подается сюжет фильма. На выходе - жанр  ",
    "sample: https://www.kaggle.com/balraj98/movie-genre-prediction-from-wiki-plot-using-bert \n",
    "\n"
   ]
  },
  {
   "cell_type": "code",
   "execution_count": null,
   "id": "ee6c2b1f",
   "metadata": {},
   "outputs": [],
   "source": [
    "# клонирование берт\n",
    "# git clone https://github.com/google-research/bert.git"
   ]
  },
  {
   "cell_type": "code",
   "execution_count": null,
   "id": "76ed354f",
   "metadata": {},
   "outputs": [],
   "source": [
    "# from simpletransformers.classification import ClassificationModel\n",
    "\n",
    "# model_args = {\n",
    "#     \"reprocess_input_data\": True,\n",
    "#     \"overwrite_output_dir\": True,\n",
    "#     \"save_model_every_epoch\": False,\n",
    "#     \"save_eval_checkpoints\": False,\n",
    "#     \"max_seq_length\": 512,\n",
    "#     \"train_batch_size\": 16,\n",
    "#     \"num_train_epochs\": 4,\n",
    "# }\n",
    "\n",
    "# # Create a ClassificationModel\n",
    "# model = ClassificationModel('bert', 'bert-base-cased', num_labels=len(shortlisted_genres), args=model_args)"
   ]
  },
  {
   "cell_type": "code",
   "execution_count": null,
   "id": "549e2ee1",
   "metadata": {},
   "outputs": [],
   "source": []
  },
  {
   "cell_type": "code",
   "execution_count": null,
   "id": "30a7167b",
   "metadata": {},
   "outputs": [],
   "source": [
    "#  Создание токенизатора BERT\n",
    "BertTokenizer = bert.bert_tokenization.FullTokenizer\n",
    "bert_layer = hub.KerasLayer(\"https://tfhub.dev/tensorflow/bert_en_uncased_L-12_H-768_A-12/1\",\n",
    "                            trainable=False)\n",
    "vocabulary_file = bert_layer.resolved_object.vocab_file.asset_path.numpy()\n",
    "to_lower_case = bert_layer.resolved_object.do_lower_case.numpy()\n",
    "tokenizer = BertTokenizer(vocabulary_file, to_lower_case)\n"
   ]
  },
  {
   "cell_type": "code",
   "execution_count": null,
   "id": "94b6c31f",
   "metadata": {},
   "outputs": [],
   "source": [
    "#  Подготовка Данных Для Обучения\n",
    "reviews_with_len = [[review, y[i], len(review)]\n",
    "                 for i, review in enumerate(tokenized_reviews)]\n",
    "\n",
    "BATCH_SIZE = 32\n",
    "batched_dataset = processed_dataset.padded_batch(BATCH_SIZE, padded_shapes=((None, ), ()))\n",
    "\n",
    "TOTAL_BATCHES = math.ceil(len(sorted_reviews_labels) / BATCH_SIZE)\n",
    "TEST_BATCHES = TOTAL_BATCHES // 10\n",
    "batched_dataset.shuffle(TOTAL_BATCHES)\n",
    "test_data = batched_dataset.take(TEST_BATCHES)\n",
    "train_data = batched_dataset.skip(TEST_BATCHES)\n"
   ]
  },
  {
   "cell_type": "code",
   "execution_count": null,
   "id": "359554a2",
   "metadata": {},
   "outputs": [],
   "source": [
    "#  Создание модели\n",
    "\n",
    "class TEXT_MODEL(tf.keras.Model):\n",
    "    \n",
    "    def __init__(self,\n",
    "                 vocabulary_size,\n",
    "                 embedding_dimensions=128,\n",
    "                 cnn_filters=50,\n",
    "                 dnn_units=512,\n",
    "                 model_output_classes=2,\n",
    "                 dropout_rate=0.1,\n",
    "                 training=False,\n",
    "                 name=\"text_model\"):\n",
    "        super(TEXT_MODEL, self).__init__(name=name)\n",
    "        \n",
    "        self.embedding = layers.Embedding(vocabulary_size,\n",
    "                                          embedding_dimensions)\n",
    "        self.cnn_layer1 = layers.Conv1D(filters=cnn_filters,\n",
    "                                        kernel_size=2,\n",
    "                                        padding=\"valid\",\n",
    "                                        activation=\"relu\")\n",
    "        self.cnn_layer2 = layers.Conv1D(filters=cnn_filters,\n",
    "                                        kernel_size=3,\n",
    "                                        padding=\"valid\",\n",
    "                                        activation=\"relu\")\n",
    "        self.cnn_layer3 = layers.Conv1D(filters=cnn_filters,\n",
    "                                        kernel_size=4,\n",
    "                                        padding=\"valid\",\n",
    "                                        activation=\"relu\")\n",
    "        self.pool = layers.GlobalMaxPool1D()\n",
    "        \n",
    "        self.dense_1 = layers.Dense(units=dnn_units, activation=\"relu\")\n",
    "        self.dropout = layers.Dropout(rate=dropout_rate)\n",
    "        if model_output_classes == 2:\n",
    "            self.last_dense = layers.Dense(units=1,\n",
    "                                           activation=\"sigmoid\")\n",
    "        else:\n",
    "            self.last_dense = layers.Dense(units=model_output_classes,\n",
    "                                           activation=\"softmax\")\n",
    "    \n",
    "    def call(self, inputs, training):\n",
    "        l = self.embedding(inputs)\n",
    "        l_1 = self.cnn_layer1(l) \n",
    "        l_1 = self.pool(l_1) \n",
    "        l_2 = self.cnn_layer2(l) \n",
    "        l_2 = self.pool(l_2)\n",
    "        l_3 = self.cnn_layer3(l)\n",
    "        l_3 = self.pool(l_3) \n",
    "        \n",
    "        concatenated = tf.concat([l_1, l_2, l_3], axis=-1) # (batch_size, 3 * cnn_filters)\n",
    "        concatenated = self.dense_1(concatenated)\n",
    "        concatenated = self.dropout(concatenated, training)\n",
    "        model_output = self.last_dense(concatenated)\n",
    "        \n",
    "        return model_output\n",
    "\n",
    "\n",
    "#     гипперпараметры\n",
    "VOCAB_LENGTH = len(tokenizer.vocab)\n",
    "EMB_DIM = 200\n",
    "CNN_FILTERS = 100\n",
    "DNN_UNITS = 256\n",
    "OUTPUT_CLASSES = 2\n",
    "\n",
    "DROPOUT_RATE = 0.2\n",
    "\n",
    "NB_EPOCHS = 5\n",
    "\n",
    "text_model = TEXT_MODEL(vocabulary_size=VOCAB_LENGTH,\n",
    "                        embedding_dimensions=EMB_DIM,\n",
    "                        cnn_filters=CNN_FILTERS,\n",
    "                        dnn_units=DNN_UNITS,\n",
    "                        model_output_classes=OUTPUT_CLASSES,\n",
    "                        dropout_rate=DROPOUT_RATE)\n",
    "\n",
    "\n"
   ]
  },
  {
   "cell_type": "code",
   "execution_count": null,
   "id": "f73f4a38",
   "metadata": {},
   "outputs": [],
   "source": [
    "# компилирование\n",
    "\n",
    "if OUTPUT_CLASSES == 2:\n",
    "    text_model.compile(loss=\"binary_crossentropy\",\n",
    "                       optimizer=\"adam\",\n",
    "                       metrics=[\"accuracy\"])\n",
    "else:\n",
    "    text_model.compile(loss=\"sparse_categorical_crossentropy\",\n",
    "                       optimizer=\"adam\",\n",
    "                       metrics=[\"sparse_categorical_accuracy\"])\n"
   ]
  },
  {
   "cell_type": "code",
   "execution_count": null,
   "id": "ee89a91e",
   "metadata": {},
   "outputs": [],
   "source": [
    "#  обучаем\n",
    "text_model.fit(train_data, epochs=NB_EPOCHS)"
   ]
  },
  {
   "cell_type": "code",
   "execution_count": null,
   "id": "2484f68e",
   "metadata": {},
   "outputs": [],
   "source": [
    "#  проверяем результат на тестовом наборе \n",
    "results = text_model.evaluate(test_dataset)\n",
    "print(results)"
   ]
  }
 ],
 "metadata": {
  "kernelspec": {
   "display_name": "Python 3 (ipykernel)",
   "language": "python",
   "name": "python3"
  },
  "language_info": {
   "codemirror_mode": {
    "name": "ipython",
    "version": 3
   },
   "file_extension": ".py",
   "mimetype": "text/x-python",
   "name": "python",
   "nbconvert_exporter": "python",
   "pygments_lexer": "ipython3",
   "version": "3.9.12"
  }
 },
 "nbformat": 4,
 "nbformat_minor": 5
}
