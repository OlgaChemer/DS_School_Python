{
 "cells": [
  {
   "cell_type": "code",
   "execution_count": 1,
   "id": "e072cd02",
   "metadata": {},
   "outputs": [],
   "source": [
    "import pandas as pd\n",
    "import numpy as np\n",
    "import matplotlib.pyplot as plt\n",
    "import scipy.stats as sts\n",
    "import math\n",
    "%matplotlib inline"
   ]
  },
  {
   "cell_type": "markdown",
   "id": "02a2fc55",
   "metadata": {},
   "source": [
    "## ЦПТ для различных распределений\n",
    "Возьмите то непрерывное распределение, которое вам больше всего понравится из списка доступных в модуле scipy.stats.\n",
    "\n",
    "### Сгенерируйте примеры из распределения"
   ]
  },
  {
   "cell_type": "code",
   "execution_count": 2,
   "id": "0cc369bc",
   "metadata": {},
   "outputs": [
    {
     "data": {
      "text/plain": [
       "array([ 0.43973579, -2.80806476,  1.42805155,  1.17182744,  0.50416563,\n",
       "       -0.50413429, -0.65834438,  0.37867072, -0.98041155, -0.31224017,\n",
       "        0.66066365, -0.45615786, -1.59965964, -1.02676806, -2.04649302,\n",
       "        1.6573292 , -1.40091293,  0.29064666, -0.9071815 ,  0.22504738,\n",
       "       -1.20069893, -1.04120551,  1.13896341, -0.09468124, -0.54874382,\n",
       "        0.72530254, -0.99779544,  1.8112587 , -0.50304498, -0.28271502,\n",
       "       -0.37257736,  0.88980723, -0.41568682,  1.14629387,  1.91346315,\n",
       "        1.41878571,  0.27406482,  2.42619726, -0.32375276,  0.9011675 ,\n",
       "       -0.59909377,  0.81865538,  2.04157486, -1.09396519,  1.20456901,\n",
       "       -0.17858243, -1.3170891 ,  0.38764348, -1.33011922,  2.12825832,\n",
       "       -1.05574118,  0.28048038,  0.67260276, -0.80443366,  0.09001293,\n",
       "       -1.15897969,  0.83330508,  0.8098413 ,  0.0966767 ,  0.56169454,\n",
       "       -1.04467868, -0.12442869,  0.71568829,  1.83105033,  0.25021832,\n",
       "        2.07405012,  0.10231033,  0.41603193, -0.83928933,  0.33354574,\n",
       "       -0.27063488, -0.59735493,  0.58400792, -0.28045454, -1.28653215,\n",
       "       -0.20980375, -0.66370101, -2.28342317, -1.53303941, -1.32344328,\n",
       "        1.63473882, -0.7198294 ,  2.06591971,  0.62571984, -1.0699904 ,\n",
       "       -0.01545984, -1.31963796, -0.05783331, -1.29097946,  0.30153272,\n",
       "       -0.05983629,  2.0680394 ,  0.34934284,  0.97148445, -0.00770441,\n",
       "       -2.07225073,  0.00504271, -0.3484781 ,  0.78433484, -0.35772782])"
      ]
     },
     "execution_count": 2,
     "metadata": {},
     "output_type": "execute_result"
    }
   ],
   "source": [
    "# ваш код тут\n",
    "# например вот такое распределение https://docs.scipy.org/doc/scipy/reference/generated/scipy.stats.cosine.html#scipy.stats.cosine\n",
    "cosine_rv = sts.cosine()\n",
    "sample = cosine_rv.rvs(100)\n",
    "sample"
   ]
  },
  {
   "cell_type": "code",
   "execution_count": 3,
   "id": "5602b535",
   "metadata": {},
   "outputs": [
    {
     "data": {
      "text/plain": [
       "array([1, 1, 1, 0, 0, 0, 0, 1, 1, 1, 0, 1, 0, 1, 0, 1, 1, 1, 1, 1, 0, 1,\n",
       "       1, 0, 1, 0, 1, 0, 1, 0, 0, 1, 0, 0, 1, 1, 1, 1, 0, 1, 0, 0, 1, 1,\n",
       "       0, 1, 1, 0, 1, 1, 0, 1, 1, 1, 0, 1, 0, 1, 1, 0, 1, 1, 1, 1, 1, 0,\n",
       "       1, 0, 1, 0, 1, 0, 1, 0, 1, 0, 0, 0, 0, 1, 0, 0, 0, 0, 0, 0, 1, 0,\n",
       "       1, 1, 0, 1, 1, 1, 0, 1, 1, 1, 0, 1])"
      ]
     },
     "execution_count": 3,
     "metadata": {},
     "output_type": "execute_result"
    }
   ],
   "source": [
    "bernul = sts.bernoulli(p=.5)\n",
    "sample2 = bernul.rvs(100)\n",
    "sample2"
   ]
  },
  {
   "cell_type": "code",
   "execution_count": 4,
   "id": "ed098fa1",
   "metadata": {},
   "outputs": [
    {
     "name": "stdout",
     "output_type": "stream",
     "text": [
      "Настоящее среднее: 0.500\n",
      "Выборочное среднее: 0.570\n",
      "Выборочная дисперсия: 0.245\n",
      "Выборочное стандартное отклонение: 0.495\n",
      "Стандартное отклонение: 0.500\n"
     ]
    }
   ],
   "source": [
    "print('Настоящее среднее: %.3f' % bernul.mean())\n",
    "print('Выборочное среднее: %.3f' % sample2.mean())\n",
    "print('Выборочная дисперсия: %.3f' % sample2.var())\n",
    "print('Выборочное стандартное отклонение: %.3f' % sample2.std())\n",
    "print('Стандартное отклонение: %.3f' % bernul.std())"
   ]
  },
  {
   "cell_type": "code",
   "execution_count": 5,
   "id": "a5bb16c8",
   "metadata": {},
   "outputs": [
    {
     "data": {
      "text/plain": [
       "array([10, 14, 10, 11, 10, 17, 11, 10,  9, 12, 10, 12,  8, 12,  9, 10,  8,\n",
       "       13, 16, 14,  9,  8, 12, 11, 11, 14,  7, 10, 13, 10,  9, 10, 13, 10,\n",
       "       11,  7, 12, 12, 11, 13, 10, 14, 12, 14, 14, 11,  9, 13, 13, 10,  7,\n",
       "       12, 13, 13,  8, 12, 15, 12, 11, 15, 15, 11,  9, 10,  8, 12, 11, 12,\n",
       "        6, 11, 14, 10, 13,  9,  9, 12, 11, 15,  8, 15,  7,  8, 10, 12,  8,\n",
       "       15, 12,  6,  8, 11, 11, 11, 10,  7, 14,  9, 13, 14, 12, 13])"
      ]
     },
     "execution_count": 5,
     "metadata": {},
     "output_type": "execute_result"
    }
   ],
   "source": [
    "binom = sts.binom(20, 0.55)\n",
    "sample3 = binom.rvs(100)\n",
    "sample3"
   ]
  },
  {
   "cell_type": "code",
   "execution_count": 6,
   "id": "34082877",
   "metadata": {},
   "outputs": [
    {
     "name": "stdout",
     "output_type": "stream",
     "text": [
      "Настоящее среднее: 11.000\n",
      "Выборочное среднее: 11.090\n",
      "Выборочная дисперсия: 5.602\n",
      "Выборочное стандартное отклонение: 2.367\n",
      "Стандартное отклонение: 2.225\n"
     ]
    }
   ],
   "source": [
    "print('Настоящее среднее: %.3f' % binom.mean())\n",
    "print('Выборочное среднее: %.3f' % sample3.mean())\n",
    "print('Выборочная дисперсия: %.3f' % sample3.var())\n",
    "print('Выборочное стандартное отклонение: %.3f' % sample3.std())\n",
    "print('Стандартное отклонение: %.3f' % binom.std())"
   ]
  },
  {
   "cell_type": "markdown",
   "id": "612e9450",
   "metadata": {},
   "source": [
    "### Постройте гистограмму выборки и теоретическую плотность распределения"
   ]
  },
  {
   "cell_type": "code",
   "execution_count": 7,
   "id": "d6fee182",
   "metadata": {},
   "outputs": [
    {
     "data": {
      "text/plain": [
       "<matplotlib.legend.Legend at 0x7fc6aadcc820>"
      ]
     },
     "execution_count": 7,
     "metadata": {},
     "output_type": "execute_result"
    },
    {
     "data": {
      "image/png": "[encoded data removed]",
      "text/plain": [
       "<Figure size 432x288 with 1 Axes>"
      ]
     },
     "metadata": {
      "needs_background": "light"
     },
     "output_type": "display_data"
    }
   ],
   "source": [
    "plt.hist(sample, bins=15, density=True)\n",
    "x = np.linspace(-4,4,100)\n",
    "pdf = cosine_rv.pdf(x)\n",
    "plt.plot(x, pdf, label='теоретическая плотность', alpha=0.5)\n",
    "plt.legend()"
   ]
  },
  {
   "cell_type": "code",
   "execution_count": 8,
   "id": "dc2fb756",
   "metadata": {},
   "outputs": [
    {
     "data": {
      "text/plain": [
       "<matplotlib.legend.Legend at 0x7fc698858130>"
      ]
     },
     "execution_count": 8,
     "metadata": {},
     "output_type": "execute_result"
    },
    {
     "data": {
      "image/png": "[encoded data removed]",
      "text/plain": [
       "<Figure size 432x288 with 1 Axes>"
      ]
     },
     "metadata": {
      "needs_background": "light"
     },
     "output_type": "display_data"
    }
   ],
   "source": [
    "# ваш код тут\n",
    "plt.hist(sample2, density=True)\n",
    "x = np.linspace(-1,1,2)\n",
    "pdf = bernul.pmf(x)\n",
    "\n",
    "plt.plot(x, pdf, label='теоретическая плотность', alpha=0.5)\n",
    "plt.legend()"
   ]
  },
  {
   "cell_type": "code",
   "execution_count": 9,
   "id": "1ee75a26",
   "metadata": {},
   "outputs": [
    {
     "data": {
      "text/plain": [
       "<matplotlib.legend.Legend at 0x7fc6aaf565e0>"
      ]
     },
     "execution_count": 9,
     "metadata": {},
     "output_type": "execute_result"
    },
    {
     "data": {
      "image/png": "[encoded data removed]",
      "text/plain": [
       "<Figure size 432x288 with 1 Axes>"
      ]
     },
     "metadata": {
      "needs_background": "light"
     },
     "output_type": "display_data"
    }
   ],
   "source": [
    "plt.hist(sample3, bins=10, density=True)\n",
    "x = np.linspace(-1,20,100)\n",
    "pdf = binom.pmf(x)\n",
    "plt.plot(x, pdf, label='теоретическая плотность', alpha=0.5)\n",
    "plt.legend()"
   ]
  },
  {
   "cell_type": "code",
   "execution_count": 10,
   "id": "010d7e26",
   "metadata": {},
   "outputs": [
    {
     "data": {
      "text/plain": [
       "<matplotlib.legend.Legend at 0x7fc69898cc40>"
      ]
     },
     "execution_count": 10,
     "metadata": {},
     "output_type": "execute_result"
    },
    {
     "data": {
      "image/png": "[encoded data removed]",
      "text/plain": [
       "<Figure size 432x288 with 1 Axes>"
      ]
     },
     "metadata": {
      "needs_background": "light"
     },
     "output_type": "display_data"
    }
   ],
   "source": [
    "norm = sts.norm()\n",
    "sample4 = norm.rvs(100)\n",
    "\n",
    "plt.hist(sample4, density=True)\n",
    "x = np.linspace(-4,4,100)\n",
    "pdf = norm.pdf(x)\n",
    "plt.plot(x, pdf, label='теоретическая плотность', alpha=0.5)\n",
    "plt.legend()"
   ]
  },
  {
   "cell_type": "markdown",
   "id": "3c696c81",
   "metadata": {},
   "source": [
    "### Оценим распределение выборочного среднего для разных объёмов выборок\n",
    "Для этого постройте на одном полотне гистограмму выборочных средних и теоретическое распределение выборочных средних по ЦПТ для разных объёмов выборок.\n",
    "\n",
    "Для теоретического распределение используйте настоящие значения мат ожидания и дисперсии (не приближенные на основе выборки)."
   ]
  },
  {
   "cell_type": "code",
   "execution_count": 11,
   "id": "bdd72b6c",
   "metadata": {},
   "outputs": [
    {
     "data": {
      "image/png": "[encoded data removed]",
      "text/plain": [
       "<Figure size 1152x648 with 1 Axes>"
      ]
     },
     "metadata": {
      "needs_background": "light"
     },
     "output_type": "display_data"
    }
   ],
   "source": [
    "plt.figure(figsize=(16,9))\n",
    "for N in [50, 100, 200]:\n",
    "    means = []\n",
    "    for i in range(100):\n",
    "         means.append(np.mean(norm.rvs(N)))\n",
    "    plt.hist(means, alpha=0.1)\n",
    "plt.legend(['50', '100', '200'])\n",
    "plt.show()"
   ]
  },
  {
   "cell_type": "code",
   "execution_count": 12,
   "id": "7fcfabeb",
   "metadata": {},
   "outputs": [
    {
     "data": {
      "text/plain": [
       "array([ 1.60599   , -0.3019201 , -1.2386372 , -1.17341403,  2.33552929,\n",
       "        1.175532  ,  0.62651091,  1.11298485,  1.00908694,  1.63119522,\n",
       "        0.27492671,  0.71131548, -0.21648363, -1.64339965,  0.38080822,\n",
       "        0.38299204,  2.21925039,  1.62303285, -1.95296953, -1.45525945,\n",
       "        0.91626304, -0.74438516,  0.12621967,  0.40938264, -2.30947282,\n",
       "       -1.21731963, -0.58616618,  1.97587037, -1.6886169 ,  0.44713975,\n",
       "       -0.69565288, -0.90201965, -0.52569065,  2.08797283, -1.42838663,\n",
       "        0.40556175,  0.53262411,  0.57105452, -1.57998171, -0.02909395,\n",
       "       -0.07023148, -0.40669351,  1.20292353,  1.02481214,  0.11849315,\n",
       "        1.02276505,  1.72773947,  0.77021761, -0.43523781, -1.14105642,\n",
       "       -2.26026576, -0.51986885, -1.02696233,  1.64134296, -0.12578032,\n",
       "       -1.33770169, -0.76162376, -1.98098382, -0.72723946,  1.55609669,\n",
       "       -1.45636422, -2.13238416,  0.62076213,  0.4153293 ,  1.28541459,\n",
       "       -1.1730759 , -0.02707405,  0.84656643,  0.51067909,  0.98031051,\n",
       "       -2.29403736,  0.98408713, -0.24009886,  0.61579045, -1.35564874,\n",
       "        1.78867444,  1.27607712,  2.08705114, -2.21065261, -1.73965355,\n",
       "        0.17060235,  1.66519753, -0.78271608, -1.33150402, -1.12660206,\n",
       "       -0.93754489, -1.10315808, -0.67339936, -0.6681835 ,  0.55941297,\n",
       "        1.73097921, -0.55341642,  0.08405022, -0.81913888, -0.39795143,\n",
       "       -1.3263467 ,  0.25325611, -0.53931881,  0.38473052, -0.42725307])"
      ]
     },
     "execution_count": 12,
     "metadata": {},
     "output_type": "execute_result"
    }
   ],
   "source": [
    "# 1. Сгенерируйте последовательность 100...1000 значений из любого распределения \n",
    "cosine_rv = sts.cosine()\n",
    "sam = cosine_rv.rvs(100)\n",
    "sam"
   ]
  },
  {
   "cell_type": "code",
   "execution_count": 13,
   "id": "bb2d25b0",
   "metadata": {},
   "outputs": [],
   "source": [
    "# 2. Из этой последовательности выбирайте по N случайных значений 1000+ раз, \n",
    "# в каждой выборке считайте среднее и запоминайте\n",
    "means = []\n",
    "for N in [50, 100, 250, 500]:\n",
    "    for i in range(1000):\n",
    "         means.append(np.mean(np.random.choice(sam, N)))"
   ]
  },
  {
   "cell_type": "code",
   "execution_count": 14,
   "id": "e1b67140",
   "metadata": {},
   "outputs": [
    {
     "name": "stdout",
     "output_type": "stream",
     "text": [
      "-0.05598528716644485\n",
      "-0.05816628057158064\n",
      "-0.05382459253463814\n",
      "-0.0580869613319853\n"
     ]
    }
   ],
   "source": [
    "print(np.mean(means[:1000]))\n",
    "print(np.mean(means[1000:2000]))\n",
    "print(np.mean(means[2000:3000]))\n",
    "print(np.mean(means[3000:4000]))"
   ]
  },
  {
   "cell_type": "code",
   "execution_count": 15,
   "id": "9304ccea",
   "metadata": {},
   "outputs": [
    {
     "data": {
      "image/png": "[encoded data removed]",
      "text/plain": [
       "<Figure size 432x288 with 1 Axes>"
      ]
     },
     "metadata": {
      "needs_background": "light"
     },
     "output_type": "display_data"
    }
   ],
   "source": [
    "# 3. Изобразите распределение полученных средних\n",
    "plt.hist(means[:1000], alpha=0.1, label='50')\n",
    "plt.hist(means[1000:2000], alpha=0.1, label='100')\n",
    "plt.hist(means[2000:3000], alpha=0.1, label='250')\n",
    "plt.hist(means[2000:3000], alpha=0.1, label='500')\n",
    "plt.legend(['50', '100', '250', '500'])\n",
    "plt.show()"
   ]
  },
  {
   "cell_type": "code",
   "execution_count": 16,
   "id": "11d19078",
   "metadata": {},
   "outputs": [],
   "source": [
    "# 4. Сравните для разных N\n",
    "# Чем больше выборка (N) тем больше средние значения выборки приближены к одному значению"
   ]
  },
  {
   "cell_type": "markdown",
   "id": "31999a74",
   "metadata": {},
   "source": [
    "## Доверительный интервал на основе ЦПТ\n",
    "Возьмите данные для оттока телеком компании, и постройте доверительные интервалы для среднего значения total day calls, используя центральную предельную теорему в разбиении по колонке churn (ушел/не ушел).\n",
    "\n",
    "Для оценки дисперсии используйте несмещенную оценку (параметр ddof=1).\n",
    "\n",
    "Сделайте оценку с использованием явной формулы для z интервала, а затем с помощью функций from statsmodels.stats.weightstats import _zconfint_generic. Сравните результаты.\n",
    "\n",
    "Ссылка на данные: https://drive.google.com/file/d/1X_drKqoarnU2Sz2har7uSCsgyhh8Xtz8/view?usp=sharing"
   ]
  },
  {
   "cell_type": "code",
   "execution_count": 17,
   "id": "fe994591",
   "metadata": {},
   "outputs": [
    {
     "data": {
      "text/html": [
       "<div>\n",
       "<style scoped>\n",
       "    .dataframe tbody tr th:only-of-type {\n",
       "        vertical-align: middle;\n",
       "    }\n",
       "\n",
       "    .dataframe tbody tr th {\n",
       "        vertical-align: top;\n",
       "    }\n",
       "\n",
       "    .dataframe thead th {\n",
       "        text-align: right;\n",
       "    }\n",
       "</style>\n",
       "<table border=\"1\" class=\"dataframe\">\n",
       "  <thead>\n",
       "    <tr style=\"text-align: right;\">\n",
       "      <th></th>\n",
       "      <th>state</th>\n",
       "      <th>account length</th>\n",
       "      <th>area code</th>\n",
       "      <th>phone number</th>\n",
       "      <th>international plan</th>\n",
       "      <th>voice mail plan</th>\n",
       "      <th>number vmail messages</th>\n",
       "      <th>total day minutes</th>\n",
       "      <th>total day calls</th>\n",
       "      <th>total day charge</th>\n",
       "      <th>...</th>\n",
       "      <th>total eve calls</th>\n",
       "      <th>total eve charge</th>\n",
       "      <th>total night minutes</th>\n",
       "      <th>total night calls</th>\n",
       "      <th>total night charge</th>\n",
       "      <th>total intl minutes</th>\n",
       "      <th>total intl calls</th>\n",
       "      <th>total intl charge</th>\n",
       "      <th>customer service calls</th>\n",
       "      <th>churn</th>\n",
       "    </tr>\n",
       "  </thead>\n",
       "  <tbody>\n",
       "    <tr>\n",
       "      <th>0</th>\n",
       "      <td>KS</td>\n",
       "      <td>128</td>\n",
       "      <td>415</td>\n",
       "      <td>382-4657</td>\n",
       "      <td>no</td>\n",
       "      <td>yes</td>\n",
       "      <td>25</td>\n",
       "      <td>265.1</td>\n",
       "      <td>110</td>\n",
       "      <td>45.07</td>\n",
       "      <td>...</td>\n",
       "      <td>99</td>\n",
       "      <td>16.78</td>\n",
       "      <td>244.7</td>\n",
       "      <td>91</td>\n",
       "      <td>11.01</td>\n",
       "      <td>10.0</td>\n",
       "      <td>3</td>\n",
       "      <td>2.70</td>\n",
       "      <td>1</td>\n",
       "      <td>False</td>\n",
       "    </tr>\n",
       "    <tr>\n",
       "      <th>1</th>\n",
       "      <td>OH</td>\n",
       "      <td>107</td>\n",
       "      <td>415</td>\n",
       "      <td>371-7191</td>\n",
       "      <td>no</td>\n",
       "      <td>yes</td>\n",
       "      <td>26</td>\n",
       "      <td>161.6</td>\n",
       "      <td>123</td>\n",
       "      <td>27.47</td>\n",
       "      <td>...</td>\n",
       "      <td>103</td>\n",
       "      <td>16.62</td>\n",
       "      <td>254.4</td>\n",
       "      <td>103</td>\n",
       "      <td>11.45</td>\n",
       "      <td>13.7</td>\n",
       "      <td>3</td>\n",
       "      <td>3.70</td>\n",
       "      <td>1</td>\n",
       "      <td>False</td>\n",
       "    </tr>\n",
       "    <tr>\n",
       "      <th>2</th>\n",
       "      <td>NJ</td>\n",
       "      <td>137</td>\n",
       "      <td>415</td>\n",
       "      <td>358-1921</td>\n",
       "      <td>no</td>\n",
       "      <td>no</td>\n",
       "      <td>0</td>\n",
       "      <td>243.4</td>\n",
       "      <td>114</td>\n",
       "      <td>41.38</td>\n",
       "      <td>...</td>\n",
       "      <td>110</td>\n",
       "      <td>10.30</td>\n",
       "      <td>162.6</td>\n",
       "      <td>104</td>\n",
       "      <td>7.32</td>\n",
       "      <td>12.2</td>\n",
       "      <td>5</td>\n",
       "      <td>3.29</td>\n",
       "      <td>0</td>\n",
       "      <td>False</td>\n",
       "    </tr>\n",
       "    <tr>\n",
       "      <th>3</th>\n",
       "      <td>OH</td>\n",
       "      <td>84</td>\n",
       "      <td>408</td>\n",
       "      <td>375-9999</td>\n",
       "      <td>yes</td>\n",
       "      <td>no</td>\n",
       "      <td>0</td>\n",
       "      <td>299.4</td>\n",
       "      <td>71</td>\n",
       "      <td>50.90</td>\n",
       "      <td>...</td>\n",
       "      <td>88</td>\n",
       "      <td>5.26</td>\n",
       "      <td>196.9</td>\n",
       "      <td>89</td>\n",
       "      <td>8.86</td>\n",
       "      <td>6.6</td>\n",
       "      <td>7</td>\n",
       "      <td>1.78</td>\n",
       "      <td>2</td>\n",
       "      <td>False</td>\n",
       "    </tr>\n",
       "    <tr>\n",
       "      <th>4</th>\n",
       "      <td>OK</td>\n",
       "      <td>75</td>\n",
       "      <td>415</td>\n",
       "      <td>330-6626</td>\n",
       "      <td>yes</td>\n",
       "      <td>no</td>\n",
       "      <td>0</td>\n",
       "      <td>166.7</td>\n",
       "      <td>113</td>\n",
       "      <td>28.34</td>\n",
       "      <td>...</td>\n",
       "      <td>122</td>\n",
       "      <td>12.61</td>\n",
       "      <td>186.9</td>\n",
       "      <td>121</td>\n",
       "      <td>8.41</td>\n",
       "      <td>10.1</td>\n",
       "      <td>3</td>\n",
       "      <td>2.73</td>\n",
       "      <td>3</td>\n",
       "      <td>False</td>\n",
       "    </tr>\n",
       "  </tbody>\n",
       "</table>\n",
       "<p>5 rows × 21 columns</p>\n",
       "</div>"
      ],
      "text/plain": [
       "  state  account length  area code phone number international plan  \\\n",
       "0    KS             128        415     382-4657                 no   \n",
       "1    OH             107        415     371-7191                 no   \n",
       "2    NJ             137        415     358-1921                 no   \n",
       "3    OH              84        408     375-9999                yes   \n",
       "4    OK              75        415     330-6626                yes   \n",
       "\n",
       "  voice mail plan  number vmail messages  total day minutes  total day calls  \\\n",
       "0             yes                     25              265.1              110   \n",
       "1             yes                     26              161.6              123   \n",
       "2              no                      0              243.4              114   \n",
       "3              no                      0              299.4               71   \n",
       "4              no                      0              166.7              113   \n",
       "\n",
       "   total day charge  ...  total eve calls  total eve charge  \\\n",
       "0             45.07  ...               99             16.78   \n",
       "1             27.47  ...              103             16.62   \n",
       "2             41.38  ...              110             10.30   \n",
       "3             50.90  ...               88              5.26   \n",
       "4             28.34  ...              122             12.61   \n",
       "\n",
       "   total night minutes  total night calls  total night charge  \\\n",
       "0                244.7                 91               11.01   \n",
       "1                254.4                103               11.45   \n",
       "2                162.6                104                7.32   \n",
       "3                196.9                 89                8.86   \n",
       "4                186.9                121                8.41   \n",
       "\n",
       "   total intl minutes  total intl calls  total intl charge  \\\n",
       "0                10.0                 3               2.70   \n",
       "1                13.7                 3               3.70   \n",
       "2                12.2                 5               3.29   \n",
       "3                 6.6                 7               1.78   \n",
       "4                10.1                 3               2.73   \n",
       "\n",
       "   customer service calls  churn  \n",
       "0                       1  False  \n",
       "1                       1  False  \n",
       "2                       0  False  \n",
       "3                       2  False  \n",
       "4                       3  False  \n",
       "\n",
       "[5 rows x 21 columns]"
      ]
     },
     "execution_count": 17,
     "metadata": {},
     "output_type": "execute_result"
    }
   ],
   "source": [
    "# либо загружаем из альтернативного хранилища\n",
    "url =\"https://raw.githubusercontent.com/piton1/DS/Lesson_5/telecom_churn.csv\"\n",
    "df=pd.read_csv(url)\n",
    "df.head()"
   ]
  },
  {
   "cell_type": "code",
   "execution_count": 18,
   "id": "a384bf7b",
   "metadata": {},
   "outputs": [
    {
     "name": "stdout",
     "output_type": "stream",
     "text": [
      "<class 'pandas.core.frame.DataFrame'>\n",
      "RangeIndex: 3333 entries, 0 to 3332\n",
      "Data columns (total 21 columns):\n",
      " #   Column                  Non-Null Count  Dtype  \n",
      "---  ------                  --------------  -----  \n",
      " 0   state                   3333 non-null   object \n",
      " 1   account length          3333 non-null   int64  \n",
      " 2   area code               3333 non-null   int64  \n",
      " 3   phone number            3333 non-null   object \n",
      " 4   international plan      3333 non-null   object \n",
      " 5   voice mail plan         3333 non-null   object \n",
      " 6   number vmail messages   3333 non-null   int64  \n",
      " 7   total day minutes       3333 non-null   float64\n",
      " 8   total day calls         3333 non-null   int64  \n",
      " 9   total day charge        3333 non-null   float64\n",
      " 10  total eve minutes       3333 non-null   float64\n",
      " 11  total eve calls         3333 non-null   int64  \n",
      " 12  total eve charge        3333 non-null   float64\n",
      " 13  total night minutes     3333 non-null   float64\n",
      " 14  total night calls       3333 non-null   int64  \n",
      " 15  total night charge      3333 non-null   float64\n",
      " 16  total intl minutes      3333 non-null   float64\n",
      " 17  total intl calls        3333 non-null   int64  \n",
      " 18  total intl charge       3333 non-null   float64\n",
      " 19  customer service calls  3333 non-null   int64  \n",
      " 20  churn                   3333 non-null   bool   \n",
      "dtypes: bool(1), float64(8), int64(8), object(4)\n",
      "memory usage: 524.2+ KB\n"
     ]
    }
   ],
   "source": [
    "df.info()"
   ]
  },
  {
   "cell_type": "code",
   "execution_count": 19,
   "id": "dce51b10",
   "metadata": {},
   "outputs": [],
   "source": [
    "# Создаем списки количества звоноков в день у обоих групп\n",
    "\n",
    "true = df.loc[df['churn'] == True]['total day calls'].tolist()\n",
    "false = df.loc[df['churn'] == False]['total day calls'].tolist()"
   ]
  },
  {
   "cell_type": "code",
   "execution_count": 20,
   "id": "9a87ef24",
   "metadata": {},
   "outputs": [
    {
     "name": "stdout",
     "output_type": "stream",
     "text": [
      "Доверительный интервал, если нам известна дисперсия для ушедших: [99.41262047786196, 103.2581869755542] \n",
      "Доверительный интервал, если нам известна дисперсия для оставшихся: [99.55630252675442, 101.01001326271927] \n",
      "Доверительный интервал ушедших методом _zconfint_generic: (99.98204678079553, 102.68876067262063) \n",
      "Доверительный интервал ушедших методом _zconfint_generic: (99.04149114274126, 101.52482464673243) \n"
     ]
    }
   ],
   "source": [
    "import statsmodels.stats.weightstats as ssw\n",
    "\n",
    "N = len(true)\n",
    "print(\"Доверительный интервал, если нам известна дисперсия для ушедших: [{}, {}] \".format(\n",
    "    np.mean(true) - 1.96 * np.sqrt(np.var(true)/len(true)), \n",
    "    np.mean(true) + 1.96 * np.sqrt(np.var(true)/len(true))\n",
    "))\n",
    "print(\"Доверительный интервал, если нам известна дисперсия для оставшихся: [{}, {}] \".format(\n",
    "    np.mean(false) - 1.96 * np.sqrt(np.var(false)/len(false)),\n",
    "    np.mean(false) + 1.96 * np.sqrt(np.var(false)/len(false))\n",
    "))\n",
    "\n",
    "\n",
    "print(\"Доверительный интервал ушедших методом _zconfint_generic: {} \".format(\n",
    "    ssw._zconfint_generic(np.mean(true),  np.std(true, ddof=1), alpha=0.95, alternative='two-sided')\n",
    "))\n",
    "print(\"Доверительный интервал ушедших методом _zconfint_generic: {} \".format(\n",
    "    ssw._zconfint_generic(np.mean(false),  np.std(false, ddof=1), alpha=0.95, alternative='two-sided')\n",
    "))"
   ]
  },
  {
   "cell_type": "markdown",
   "id": "7eaf2cf0",
   "metadata": {},
   "source": [
    "Доверительные интервалы пересекаются. Количество звонков некорректно использовать для определения оттока"
   ]
  },
  {
   "cell_type": "code",
   "execution_count": 21,
   "id": "e9e03fff",
   "metadata": {},
   "outputs": [
    {
     "data": {
      "text/plain": [
       "465.79598463957115"
      ]
     },
     "execution_count": 21,
     "metadata": {},
     "output_type": "execute_result"
    }
   ],
   "source": [
    "def variance(data, ddof=0): \n",
    "    n = len(data) \n",
    "    mean = sum(data) / n \n",
    "    return sum((x - mean) ** 2 for x in data) / (n - ddof)\n",
    "\n",
    "variance(true, ddof=1)\n"
   ]
  },
  {
   "cell_type": "code",
   "execution_count": 22,
   "id": "1c77c1a6",
   "metadata": {},
   "outputs": [
    {
     "data": {
      "text/plain": [
       "(99.55606076109109, 101.0102550283826)"
      ]
     },
     "execution_count": 22,
     "metadata": {},
     "output_type": "execute_result"
    }
   ],
   "source": [
    "from statistics import NormalDist\n",
    "\n",
    "def confidence_interval(data, confidence=0.95):\n",
    "    dist = NormalDist.from_samples(data)\n",
    "    z = NormalDist().inv_cdf((1 + confidence) / 2.)\n",
    "    h = dist.stdev * z / ((len(data) - 1) ** .5)\n",
    "    return dist.mean - h, dist.mean + h\n",
    "\n",
    "confidence_interval(false)"
   ]
  },
  {
   "cell_type": "code",
   "execution_count": null,
   "id": "ff62db83",
   "metadata": {},
   "outputs": [],
   "source": []
  }
 ],
 "metadata": {
  "kernelspec": {
   "display_name": "Python 3 (ipykernel)",
   "language": "python",
   "name": "python3"
  },
  "language_info": {
   "codemirror_mode": {
    "name": "ipython",
    "version": 3
   },
   "file_extension": ".py",
   "mimetype": "text/x-python",
   "name": "python",
   "nbconvert_exporter": "python",
   "pygments_lexer": "ipython3",
   "version": "3.9.12"
  }
 },
 "nbformat": 4,
 "nbformat_minor": 5
}
